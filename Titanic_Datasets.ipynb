{
  "nbformat": 4,
  "nbformat_minor": 0,
  "metadata": {
    "colab": {
      "name": "Titanic_Datasets.ipynb",
      "provenance": [],
      "collapsed_sections": [
        "9QYKMmXmzeHq"
      ],
      "authorship_tag": "ABX9TyPEQk1d22i/+j0es+upEl29",
      "include_colab_link": true
    },
    "kernelspec": {
      "name": "python3",
      "display_name": "Python 3"
    },
    "language_info": {
      "name": "python"
    }
  },
  "cells": [
    {
      "cell_type": "markdown",
      "metadata": {
        "id": "view-in-github",
        "colab_type": "text"
      },
      "source": [
        "<a href=\"https://colab.research.google.com/github/KevinaZeni/Titanic_datasets-email_classification/blob/main/Titanic_Datasets.ipynb\" target=\"_parent\"><img src=\"https://colab.research.google.com/assets/colab-badge.svg\" alt=\"Open In Colab\"/></a>"
      ]
    },
    {
      "cell_type": "markdown",
      "metadata": {
        "id": "9QYKMmXmzeHq"
      },
      "source": [
        "# Predicting survival on the Titanic Passengers"
      ]
    },
    {
      "cell_type": "markdown",
      "metadata": {
        "id": "hDwqEOdd0Y5x"
      },
      "source": [
        "#**1. Defining the Question**"
      ]
    },
    {
      "cell_type": "markdown",
      "metadata": {
        "id": "wSETfjty04NH"
      },
      "source": [
        "**a)Specifying the Data Analytic Question**"
      ]
    },
    {
      "cell_type": "markdown",
      "metadata": {
        "id": "7Rlkl8l31N7v"
      },
      "source": [
        "This weeks project requires us to  implement a K-nearest neighbor (kNN) classifier on the two datasets provided to predict the survival of passengers on the titanic."
      ]
    },
    {
      "cell_type": "markdown",
      "metadata": {
        "id": "yobSz5rr1uMZ"
      },
      "source": [
        "**b) Defining the Metric of Success**"
      ]
    },
    {
      "cell_type": "markdown",
      "metadata": {
        "id": "9455mezJ1y_5"
      },
      "source": [
        "The project is a classification problem. We will need to build a KNN model that corrrectly predicts the survival of passengers.\n",
        "We will need to find the best parameter and evaluate the performance based on the accuracy score, f1 score. We will aim for an accuracy score of at least 85%"
      ]
    },
    {
      "cell_type": "markdown",
      "metadata": {
        "id": "lW5EVkum4JjU"
      },
      "source": [
        "**c) Understanding the context**"
      ]
    },
    {
      "cell_type": "markdown",
      "metadata": {
        "id": "dUbkt7Fz5bOe"
      },
      "source": [
        "RMS Titanic was a British passenger liner that sank in the North Atlantic Ocean in the early hours of 15 April 1912, after colliding with an iceberg during her maiden voyage from Southampton to New York City. \n",
        "There were an estimated 2,224 passengers and crew aboard, and more than 1,500 died, making it one of the deadliest commercial peacetime maritime disasters in modern history."
      ]
    },
    {
      "cell_type": "markdown",
      "metadata": {
        "id": "xWZtl9Vz4RKZ"
      },
      "source": [
        "About the dataset"
      ]
    },
    {
      "cell_type": "markdown",
      "metadata": {
        "id": "YwP_gkVw4y2P"
      },
      "source": [
        "The Titanic dataset. A classic dataset used in many data mining tutorials and demos. Perfect for exploratory analysis and building binary classification models to predict survival. Data covers passengers only, not crew.\n"
      ]
    },
    {
      "cell_type": "markdown",
      "metadata": {
        "id": "GgiWS5XW4xxd"
      },
      "source": [
        "Titanic Data Glossary"
      ]
    },
    {
      "cell_type": "markdown",
      "metadata": {
        "id": "eZUQV-WC438-"
      },
      "source": [
        "Column description: pclass = passenger class (1 = 1st; 2 = 2nd; 3 = 3rd) survived = Survival (False = No; True = Yes) name = Name sex = Sex sibsp = Number of Siblings/Spouses Aboard parch = Number of Parents/Children Aboard ticket = Ticket Number fare = Passenger Fare cabin = Cabin embarked = Port of Embarkation (C = Cherbourg; Q = Queenstown; S = Southampton) boat = Lifeboat (if survived) body = Body number (if did not survive and body was recovered) home_dest = Passenger destination\n"
      ]
    },
    {
      "cell_type": "markdown",
      "metadata": {
        "id": "_jIAUUOh5jk7"
      },
      "source": [
        "**Recording the Experimental Design**"
      ]
    },
    {
      "cell_type": "markdown",
      "metadata": {
        "id": "s6U7RgFL5phT"
      },
      "source": [
        "\n",
        "*  Data Preparation\n",
        "*  Data Cleaning\n",
        "*  Exploratory Data Analysis\n",
        "*  Implementing the solution: \n",
        "\n",
        "*   Building the Model : K-Nearest Neighbors Classifier (KNN)\n",
        "\n",
        "*   Hyperparameter tuning & Optimization techniques\n",
        "\n",
        "*   Challenging the Solution: Random Forest \n",
        "*   Conclusion and Recommendations\n",
        "\n",
        "\n"
      ]
    },
    {
      "cell_type": "markdown",
      "metadata": {
        "id": "zodOQ1rw6vHR"
      },
      "source": [
        "#**Data Preparation**"
      ]
    },
    {
      "cell_type": "markdown",
      "metadata": {
        "id": "o-2meeq67LKZ"
      },
      "source": [
        "**Importing our libraries**"
      ]
    },
    {
      "cell_type": "code",
      "metadata": {
        "id": "BqGT5Gwi7OVD"
      },
      "source": [
        "#Data\n",
        "import pandas as pd  \n",
        "import numpy as np  \n",
        "\n",
        "\n",
        "# Data Visualization Libraries\n",
        "import seaborn as sns\n",
        "import matplotlib.pyplot as plt\n",
        "%matplotlib inline\n",
        "\n",
        "#ML\n",
        "from sklearn.model_selection import GridSearchCV\n",
        "from sklearn.ensemble import (GradientBoostingClassifier, GradientBoostingRegressor, \n",
        "                              RandomForestClassifier, RandomForestRegressor)\n",
        "from sklearn.model_selection import train_test_split\n",
        "from sklearn.model_selection import learning_curve\n",
        "\n",
        "# for KNN:\n",
        "from sklearn.neighbors import KNeighborsClassifier\n",
        "from sklearn.neighbors import KNeighborsRegressor\n",
        "\n",
        "#Evaluation metrics\n",
        "from sklearn import metrics\n",
        "from sklearn.metrics import confusion_matrix,accuracy_score, classification_report"
      ],
      "execution_count": 1,
      "outputs": []
    },
    {
      "cell_type": "markdown",
      "metadata": {
        "id": "Vn8kMJwq65p1"
      },
      "source": [
        "**Loading our datasets**"
      ]
    },
    {
      "cell_type": "markdown",
      "metadata": {
        "id": "xeH-L_MD69QU"
      },
      "source": [
        "We have two datasets for this exercise, the train and test datasets"
      ]
    },
    {
      "cell_type": "code",
      "metadata": {
        "id": "N0vwLudd7DDI"
      },
      "source": [
        "##Loading the train dataset\n",
        "\n",
        "train = pd.read_csv('train.csv')\n",
        "\n",
        "train_df = train.copy()"
      ],
      "execution_count": 2,
      "outputs": []
    },
    {
      "cell_type": "code",
      "metadata": {
        "id": "55vpPU4Q770b"
      },
      "source": [
        "test = pd.read_csv('test.csv')"
      ],
      "execution_count": 3,
      "outputs": []
    },
    {
      "cell_type": "code",
      "metadata": {
        "colab": {
          "base_uri": "https://localhost:8080/",
          "height": 355
        },
        "id": "8fjBGssK8CLA",
        "outputId": "711eae41-d65b-476c-b9bd-52532f03a919"
      },
      "source": [
        "#Previewing the first ten records of our train dataset\n",
        "\n",
        "train.head(10)"
      ],
      "execution_count": 4,
      "outputs": [
        {
          "output_type": "execute_result",
          "data": {
            "text/html": [
              "<div>\n",
              "<style scoped>\n",
              "    .dataframe tbody tr th:only-of-type {\n",
              "        vertical-align: middle;\n",
              "    }\n",
              "\n",
              "    .dataframe tbody tr th {\n",
              "        vertical-align: top;\n",
              "    }\n",
              "\n",
              "    .dataframe thead th {\n",
              "        text-align: right;\n",
              "    }\n",
              "</style>\n",
              "<table border=\"1\" class=\"dataframe\">\n",
              "  <thead>\n",
              "    <tr style=\"text-align: right;\">\n",
              "      <th></th>\n",
              "      <th>PassengerId</th>\n",
              "      <th>Survived</th>\n",
              "      <th>Pclass</th>\n",
              "      <th>Name</th>\n",
              "      <th>Sex</th>\n",
              "      <th>Age</th>\n",
              "      <th>SibSp</th>\n",
              "      <th>Parch</th>\n",
              "      <th>Ticket</th>\n",
              "      <th>Fare</th>\n",
              "      <th>Cabin</th>\n",
              "      <th>Embarked</th>\n",
              "    </tr>\n",
              "  </thead>\n",
              "  <tbody>\n",
              "    <tr>\n",
              "      <th>0</th>\n",
              "      <td>1</td>\n",
              "      <td>0</td>\n",
              "      <td>3</td>\n",
              "      <td>Braund, Mr. Owen Harris</td>\n",
              "      <td>male</td>\n",
              "      <td>22.0</td>\n",
              "      <td>1</td>\n",
              "      <td>0</td>\n",
              "      <td>A/5 21171</td>\n",
              "      <td>7.2500</td>\n",
              "      <td>NaN</td>\n",
              "      <td>S</td>\n",
              "    </tr>\n",
              "    <tr>\n",
              "      <th>1</th>\n",
              "      <td>2</td>\n",
              "      <td>1</td>\n",
              "      <td>1</td>\n",
              "      <td>Cumings, Mrs. John Bradley (Florence Briggs Th...</td>\n",
              "      <td>female</td>\n",
              "      <td>38.0</td>\n",
              "      <td>1</td>\n",
              "      <td>0</td>\n",
              "      <td>PC 17599</td>\n",
              "      <td>71.2833</td>\n",
              "      <td>C85</td>\n",
              "      <td>C</td>\n",
              "    </tr>\n",
              "    <tr>\n",
              "      <th>2</th>\n",
              "      <td>3</td>\n",
              "      <td>1</td>\n",
              "      <td>3</td>\n",
              "      <td>Heikkinen, Miss. Laina</td>\n",
              "      <td>female</td>\n",
              "      <td>26.0</td>\n",
              "      <td>0</td>\n",
              "      <td>0</td>\n",
              "      <td>STON/O2. 3101282</td>\n",
              "      <td>7.9250</td>\n",
              "      <td>NaN</td>\n",
              "      <td>S</td>\n",
              "    </tr>\n",
              "    <tr>\n",
              "      <th>3</th>\n",
              "      <td>4</td>\n",
              "      <td>1</td>\n",
              "      <td>1</td>\n",
              "      <td>Futrelle, Mrs. Jacques Heath (Lily May Peel)</td>\n",
              "      <td>female</td>\n",
              "      <td>35.0</td>\n",
              "      <td>1</td>\n",
              "      <td>0</td>\n",
              "      <td>113803</td>\n",
              "      <td>53.1000</td>\n",
              "      <td>C123</td>\n",
              "      <td>S</td>\n",
              "    </tr>\n",
              "    <tr>\n",
              "      <th>4</th>\n",
              "      <td>5</td>\n",
              "      <td>0</td>\n",
              "      <td>3</td>\n",
              "      <td>Allen, Mr. William Henry</td>\n",
              "      <td>male</td>\n",
              "      <td>35.0</td>\n",
              "      <td>0</td>\n",
              "      <td>0</td>\n",
              "      <td>373450</td>\n",
              "      <td>8.0500</td>\n",
              "      <td>NaN</td>\n",
              "      <td>S</td>\n",
              "    </tr>\n",
              "    <tr>\n",
              "      <th>5</th>\n",
              "      <td>6</td>\n",
              "      <td>0</td>\n",
              "      <td>3</td>\n",
              "      <td>Moran, Mr. James</td>\n",
              "      <td>male</td>\n",
              "      <td>NaN</td>\n",
              "      <td>0</td>\n",
              "      <td>0</td>\n",
              "      <td>330877</td>\n",
              "      <td>8.4583</td>\n",
              "      <td>NaN</td>\n",
              "      <td>Q</td>\n",
              "    </tr>\n",
              "    <tr>\n",
              "      <th>6</th>\n",
              "      <td>7</td>\n",
              "      <td>0</td>\n",
              "      <td>1</td>\n",
              "      <td>McCarthy, Mr. Timothy J</td>\n",
              "      <td>male</td>\n",
              "      <td>54.0</td>\n",
              "      <td>0</td>\n",
              "      <td>0</td>\n",
              "      <td>17463</td>\n",
              "      <td>51.8625</td>\n",
              "      <td>E46</td>\n",
              "      <td>S</td>\n",
              "    </tr>\n",
              "    <tr>\n",
              "      <th>7</th>\n",
              "      <td>8</td>\n",
              "      <td>0</td>\n",
              "      <td>3</td>\n",
              "      <td>Palsson, Master. Gosta Leonard</td>\n",
              "      <td>male</td>\n",
              "      <td>2.0</td>\n",
              "      <td>3</td>\n",
              "      <td>1</td>\n",
              "      <td>349909</td>\n",
              "      <td>21.0750</td>\n",
              "      <td>NaN</td>\n",
              "      <td>S</td>\n",
              "    </tr>\n",
              "    <tr>\n",
              "      <th>8</th>\n",
              "      <td>9</td>\n",
              "      <td>1</td>\n",
              "      <td>3</td>\n",
              "      <td>Johnson, Mrs. Oscar W (Elisabeth Vilhelmina Berg)</td>\n",
              "      <td>female</td>\n",
              "      <td>27.0</td>\n",
              "      <td>0</td>\n",
              "      <td>2</td>\n",
              "      <td>347742</td>\n",
              "      <td>11.1333</td>\n",
              "      <td>NaN</td>\n",
              "      <td>S</td>\n",
              "    </tr>\n",
              "    <tr>\n",
              "      <th>9</th>\n",
              "      <td>10</td>\n",
              "      <td>1</td>\n",
              "      <td>2</td>\n",
              "      <td>Nasser, Mrs. Nicholas (Adele Achem)</td>\n",
              "      <td>female</td>\n",
              "      <td>14.0</td>\n",
              "      <td>1</td>\n",
              "      <td>0</td>\n",
              "      <td>237736</td>\n",
              "      <td>30.0708</td>\n",
              "      <td>NaN</td>\n",
              "      <td>C</td>\n",
              "    </tr>\n",
              "  </tbody>\n",
              "</table>\n",
              "</div>"
            ],
            "text/plain": [
              "   PassengerId  Survived  Pclass  ...     Fare Cabin  Embarked\n",
              "0            1         0       3  ...   7.2500   NaN         S\n",
              "1            2         1       1  ...  71.2833   C85         C\n",
              "2            3         1       3  ...   7.9250   NaN         S\n",
              "3            4         1       1  ...  53.1000  C123         S\n",
              "4            5         0       3  ...   8.0500   NaN         S\n",
              "5            6         0       3  ...   8.4583   NaN         Q\n",
              "6            7         0       1  ...  51.8625   E46         S\n",
              "7            8         0       3  ...  21.0750   NaN         S\n",
              "8            9         1       3  ...  11.1333   NaN         S\n",
              "9           10         1       2  ...  30.0708   NaN         C\n",
              "\n",
              "[10 rows x 12 columns]"
            ]
          },
          "metadata": {
            "tags": []
          },
          "execution_count": 4
        }
      ]
    },
    {
      "cell_type": "code",
      "metadata": {
        "colab": {
          "base_uri": "https://localhost:8080/",
          "height": 355
        },
        "id": "VrsEwix78Sbl",
        "outputId": "0aefe61b-af3a-4eb6-ca67-7b2fa10fe6e1"
      },
      "source": [
        "#Previewing the last 10 records of our train set\n",
        "\n",
        "train.tail(10)"
      ],
      "execution_count": 5,
      "outputs": [
        {
          "output_type": "execute_result",
          "data": {
            "text/html": [
              "<div>\n",
              "<style scoped>\n",
              "    .dataframe tbody tr th:only-of-type {\n",
              "        vertical-align: middle;\n",
              "    }\n",
              "\n",
              "    .dataframe tbody tr th {\n",
              "        vertical-align: top;\n",
              "    }\n",
              "\n",
              "    .dataframe thead th {\n",
              "        text-align: right;\n",
              "    }\n",
              "</style>\n",
              "<table border=\"1\" class=\"dataframe\">\n",
              "  <thead>\n",
              "    <tr style=\"text-align: right;\">\n",
              "      <th></th>\n",
              "      <th>PassengerId</th>\n",
              "      <th>Survived</th>\n",
              "      <th>Pclass</th>\n",
              "      <th>Name</th>\n",
              "      <th>Sex</th>\n",
              "      <th>Age</th>\n",
              "      <th>SibSp</th>\n",
              "      <th>Parch</th>\n",
              "      <th>Ticket</th>\n",
              "      <th>Fare</th>\n",
              "      <th>Cabin</th>\n",
              "      <th>Embarked</th>\n",
              "    </tr>\n",
              "  </thead>\n",
              "  <tbody>\n",
              "    <tr>\n",
              "      <th>881</th>\n",
              "      <td>882</td>\n",
              "      <td>0</td>\n",
              "      <td>3</td>\n",
              "      <td>Markun, Mr. Johann</td>\n",
              "      <td>male</td>\n",
              "      <td>33.0</td>\n",
              "      <td>0</td>\n",
              "      <td>0</td>\n",
              "      <td>349257</td>\n",
              "      <td>7.8958</td>\n",
              "      <td>NaN</td>\n",
              "      <td>S</td>\n",
              "    </tr>\n",
              "    <tr>\n",
              "      <th>882</th>\n",
              "      <td>883</td>\n",
              "      <td>0</td>\n",
              "      <td>3</td>\n",
              "      <td>Dahlberg, Miss. Gerda Ulrika</td>\n",
              "      <td>female</td>\n",
              "      <td>22.0</td>\n",
              "      <td>0</td>\n",
              "      <td>0</td>\n",
              "      <td>7552</td>\n",
              "      <td>10.5167</td>\n",
              "      <td>NaN</td>\n",
              "      <td>S</td>\n",
              "    </tr>\n",
              "    <tr>\n",
              "      <th>883</th>\n",
              "      <td>884</td>\n",
              "      <td>0</td>\n",
              "      <td>2</td>\n",
              "      <td>Banfield, Mr. Frederick James</td>\n",
              "      <td>male</td>\n",
              "      <td>28.0</td>\n",
              "      <td>0</td>\n",
              "      <td>0</td>\n",
              "      <td>C.A./SOTON 34068</td>\n",
              "      <td>10.5000</td>\n",
              "      <td>NaN</td>\n",
              "      <td>S</td>\n",
              "    </tr>\n",
              "    <tr>\n",
              "      <th>884</th>\n",
              "      <td>885</td>\n",
              "      <td>0</td>\n",
              "      <td>3</td>\n",
              "      <td>Sutehall, Mr. Henry Jr</td>\n",
              "      <td>male</td>\n",
              "      <td>25.0</td>\n",
              "      <td>0</td>\n",
              "      <td>0</td>\n",
              "      <td>SOTON/OQ 392076</td>\n",
              "      <td>7.0500</td>\n",
              "      <td>NaN</td>\n",
              "      <td>S</td>\n",
              "    </tr>\n",
              "    <tr>\n",
              "      <th>885</th>\n",
              "      <td>886</td>\n",
              "      <td>0</td>\n",
              "      <td>3</td>\n",
              "      <td>Rice, Mrs. William (Margaret Norton)</td>\n",
              "      <td>female</td>\n",
              "      <td>39.0</td>\n",
              "      <td>0</td>\n",
              "      <td>5</td>\n",
              "      <td>382652</td>\n",
              "      <td>29.1250</td>\n",
              "      <td>NaN</td>\n",
              "      <td>Q</td>\n",
              "    </tr>\n",
              "    <tr>\n",
              "      <th>886</th>\n",
              "      <td>887</td>\n",
              "      <td>0</td>\n",
              "      <td>2</td>\n",
              "      <td>Montvila, Rev. Juozas</td>\n",
              "      <td>male</td>\n",
              "      <td>27.0</td>\n",
              "      <td>0</td>\n",
              "      <td>0</td>\n",
              "      <td>211536</td>\n",
              "      <td>13.0000</td>\n",
              "      <td>NaN</td>\n",
              "      <td>S</td>\n",
              "    </tr>\n",
              "    <tr>\n",
              "      <th>887</th>\n",
              "      <td>888</td>\n",
              "      <td>1</td>\n",
              "      <td>1</td>\n",
              "      <td>Graham, Miss. Margaret Edith</td>\n",
              "      <td>female</td>\n",
              "      <td>19.0</td>\n",
              "      <td>0</td>\n",
              "      <td>0</td>\n",
              "      <td>112053</td>\n",
              "      <td>30.0000</td>\n",
              "      <td>B42</td>\n",
              "      <td>S</td>\n",
              "    </tr>\n",
              "    <tr>\n",
              "      <th>888</th>\n",
              "      <td>889</td>\n",
              "      <td>0</td>\n",
              "      <td>3</td>\n",
              "      <td>Johnston, Miss. Catherine Helen \"Carrie\"</td>\n",
              "      <td>female</td>\n",
              "      <td>NaN</td>\n",
              "      <td>1</td>\n",
              "      <td>2</td>\n",
              "      <td>W./C. 6607</td>\n",
              "      <td>23.4500</td>\n",
              "      <td>NaN</td>\n",
              "      <td>S</td>\n",
              "    </tr>\n",
              "    <tr>\n",
              "      <th>889</th>\n",
              "      <td>890</td>\n",
              "      <td>1</td>\n",
              "      <td>1</td>\n",
              "      <td>Behr, Mr. Karl Howell</td>\n",
              "      <td>male</td>\n",
              "      <td>26.0</td>\n",
              "      <td>0</td>\n",
              "      <td>0</td>\n",
              "      <td>111369</td>\n",
              "      <td>30.0000</td>\n",
              "      <td>C148</td>\n",
              "      <td>C</td>\n",
              "    </tr>\n",
              "    <tr>\n",
              "      <th>890</th>\n",
              "      <td>891</td>\n",
              "      <td>0</td>\n",
              "      <td>3</td>\n",
              "      <td>Dooley, Mr. Patrick</td>\n",
              "      <td>male</td>\n",
              "      <td>32.0</td>\n",
              "      <td>0</td>\n",
              "      <td>0</td>\n",
              "      <td>370376</td>\n",
              "      <td>7.7500</td>\n",
              "      <td>NaN</td>\n",
              "      <td>Q</td>\n",
              "    </tr>\n",
              "  </tbody>\n",
              "</table>\n",
              "</div>"
            ],
            "text/plain": [
              "     PassengerId  Survived  Pclass  ...     Fare Cabin  Embarked\n",
              "881          882         0       3  ...   7.8958   NaN         S\n",
              "882          883         0       3  ...  10.5167   NaN         S\n",
              "883          884         0       2  ...  10.5000   NaN         S\n",
              "884          885         0       3  ...   7.0500   NaN         S\n",
              "885          886         0       3  ...  29.1250   NaN         Q\n",
              "886          887         0       2  ...  13.0000   NaN         S\n",
              "887          888         1       1  ...  30.0000   B42         S\n",
              "888          889         0       3  ...  23.4500   NaN         S\n",
              "889          890         1       1  ...  30.0000  C148         C\n",
              "890          891         0       3  ...   7.7500   NaN         Q\n",
              "\n",
              "[10 rows x 12 columns]"
            ]
          },
          "metadata": {
            "tags": []
          },
          "execution_count": 5
        }
      ]
    },
    {
      "cell_type": "code",
      "metadata": {
        "colab": {
          "base_uri": "https://localhost:8080/",
          "height": 355
        },
        "id": "Sj4qfCqq8bk8",
        "outputId": "d3ff627f-c8e3-4101-8952-c69c3fef263b"
      },
      "source": [
        "#Previewing the first 10 records of our test dataset\n",
        "\n",
        "test.head(10)"
      ],
      "execution_count": 6,
      "outputs": [
        {
          "output_type": "execute_result",
          "data": {
            "text/html": [
              "<div>\n",
              "<style scoped>\n",
              "    .dataframe tbody tr th:only-of-type {\n",
              "        vertical-align: middle;\n",
              "    }\n",
              "\n",
              "    .dataframe tbody tr th {\n",
              "        vertical-align: top;\n",
              "    }\n",
              "\n",
              "    .dataframe thead th {\n",
              "        text-align: right;\n",
              "    }\n",
              "</style>\n",
              "<table border=\"1\" class=\"dataframe\">\n",
              "  <thead>\n",
              "    <tr style=\"text-align: right;\">\n",
              "      <th></th>\n",
              "      <th>PassengerId</th>\n",
              "      <th>Pclass</th>\n",
              "      <th>Name</th>\n",
              "      <th>Sex</th>\n",
              "      <th>Age</th>\n",
              "      <th>SibSp</th>\n",
              "      <th>Parch</th>\n",
              "      <th>Ticket</th>\n",
              "      <th>Fare</th>\n",
              "      <th>Cabin</th>\n",
              "      <th>Embarked</th>\n",
              "    </tr>\n",
              "  </thead>\n",
              "  <tbody>\n",
              "    <tr>\n",
              "      <th>0</th>\n",
              "      <td>892</td>\n",
              "      <td>3</td>\n",
              "      <td>Kelly, Mr. James</td>\n",
              "      <td>male</td>\n",
              "      <td>34.5</td>\n",
              "      <td>0</td>\n",
              "      <td>0</td>\n",
              "      <td>330911</td>\n",
              "      <td>7.8292</td>\n",
              "      <td>NaN</td>\n",
              "      <td>Q</td>\n",
              "    </tr>\n",
              "    <tr>\n",
              "      <th>1</th>\n",
              "      <td>893</td>\n",
              "      <td>3</td>\n",
              "      <td>Wilkes, Mrs. James (Ellen Needs)</td>\n",
              "      <td>female</td>\n",
              "      <td>47.0</td>\n",
              "      <td>1</td>\n",
              "      <td>0</td>\n",
              "      <td>363272</td>\n",
              "      <td>7.0000</td>\n",
              "      <td>NaN</td>\n",
              "      <td>S</td>\n",
              "    </tr>\n",
              "    <tr>\n",
              "      <th>2</th>\n",
              "      <td>894</td>\n",
              "      <td>2</td>\n",
              "      <td>Myles, Mr. Thomas Francis</td>\n",
              "      <td>male</td>\n",
              "      <td>62.0</td>\n",
              "      <td>0</td>\n",
              "      <td>0</td>\n",
              "      <td>240276</td>\n",
              "      <td>9.6875</td>\n",
              "      <td>NaN</td>\n",
              "      <td>Q</td>\n",
              "    </tr>\n",
              "    <tr>\n",
              "      <th>3</th>\n",
              "      <td>895</td>\n",
              "      <td>3</td>\n",
              "      <td>Wirz, Mr. Albert</td>\n",
              "      <td>male</td>\n",
              "      <td>27.0</td>\n",
              "      <td>0</td>\n",
              "      <td>0</td>\n",
              "      <td>315154</td>\n",
              "      <td>8.6625</td>\n",
              "      <td>NaN</td>\n",
              "      <td>S</td>\n",
              "    </tr>\n",
              "    <tr>\n",
              "      <th>4</th>\n",
              "      <td>896</td>\n",
              "      <td>3</td>\n",
              "      <td>Hirvonen, Mrs. Alexander (Helga E Lindqvist)</td>\n",
              "      <td>female</td>\n",
              "      <td>22.0</td>\n",
              "      <td>1</td>\n",
              "      <td>1</td>\n",
              "      <td>3101298</td>\n",
              "      <td>12.2875</td>\n",
              "      <td>NaN</td>\n",
              "      <td>S</td>\n",
              "    </tr>\n",
              "    <tr>\n",
              "      <th>5</th>\n",
              "      <td>897</td>\n",
              "      <td>3</td>\n",
              "      <td>Svensson, Mr. Johan Cervin</td>\n",
              "      <td>male</td>\n",
              "      <td>14.0</td>\n",
              "      <td>0</td>\n",
              "      <td>0</td>\n",
              "      <td>7538</td>\n",
              "      <td>9.2250</td>\n",
              "      <td>NaN</td>\n",
              "      <td>S</td>\n",
              "    </tr>\n",
              "    <tr>\n",
              "      <th>6</th>\n",
              "      <td>898</td>\n",
              "      <td>3</td>\n",
              "      <td>Connolly, Miss. Kate</td>\n",
              "      <td>female</td>\n",
              "      <td>30.0</td>\n",
              "      <td>0</td>\n",
              "      <td>0</td>\n",
              "      <td>330972</td>\n",
              "      <td>7.6292</td>\n",
              "      <td>NaN</td>\n",
              "      <td>Q</td>\n",
              "    </tr>\n",
              "    <tr>\n",
              "      <th>7</th>\n",
              "      <td>899</td>\n",
              "      <td>2</td>\n",
              "      <td>Caldwell, Mr. Albert Francis</td>\n",
              "      <td>male</td>\n",
              "      <td>26.0</td>\n",
              "      <td>1</td>\n",
              "      <td>1</td>\n",
              "      <td>248738</td>\n",
              "      <td>29.0000</td>\n",
              "      <td>NaN</td>\n",
              "      <td>S</td>\n",
              "    </tr>\n",
              "    <tr>\n",
              "      <th>8</th>\n",
              "      <td>900</td>\n",
              "      <td>3</td>\n",
              "      <td>Abrahim, Mrs. Joseph (Sophie Halaut Easu)</td>\n",
              "      <td>female</td>\n",
              "      <td>18.0</td>\n",
              "      <td>0</td>\n",
              "      <td>0</td>\n",
              "      <td>2657</td>\n",
              "      <td>7.2292</td>\n",
              "      <td>NaN</td>\n",
              "      <td>C</td>\n",
              "    </tr>\n",
              "    <tr>\n",
              "      <th>9</th>\n",
              "      <td>901</td>\n",
              "      <td>3</td>\n",
              "      <td>Davies, Mr. John Samuel</td>\n",
              "      <td>male</td>\n",
              "      <td>21.0</td>\n",
              "      <td>2</td>\n",
              "      <td>0</td>\n",
              "      <td>A/4 48871</td>\n",
              "      <td>24.1500</td>\n",
              "      <td>NaN</td>\n",
              "      <td>S</td>\n",
              "    </tr>\n",
              "  </tbody>\n",
              "</table>\n",
              "</div>"
            ],
            "text/plain": [
              "   PassengerId  Pclass  ... Cabin Embarked\n",
              "0          892       3  ...   NaN        Q\n",
              "1          893       3  ...   NaN        S\n",
              "2          894       2  ...   NaN        Q\n",
              "3          895       3  ...   NaN        S\n",
              "4          896       3  ...   NaN        S\n",
              "5          897       3  ...   NaN        S\n",
              "6          898       3  ...   NaN        Q\n",
              "7          899       2  ...   NaN        S\n",
              "8          900       3  ...   NaN        C\n",
              "9          901       3  ...   NaN        S\n",
              "\n",
              "[10 rows x 11 columns]"
            ]
          },
          "metadata": {
            "tags": []
          },
          "execution_count": 6
        }
      ]
    },
    {
      "cell_type": "code",
      "metadata": {
        "colab": {
          "base_uri": "https://localhost:8080/",
          "height": 355
        },
        "id": "WWPMBd7U8p_O",
        "outputId": "c0a21847-4c0c-4dc2-ee7a-66621f1a3eeb"
      },
      "source": [
        "#Previewing the last 10 records of our test set\n",
        "test.tail(10)"
      ],
      "execution_count": 7,
      "outputs": [
        {
          "output_type": "execute_result",
          "data": {
            "text/html": [
              "<div>\n",
              "<style scoped>\n",
              "    .dataframe tbody tr th:only-of-type {\n",
              "        vertical-align: middle;\n",
              "    }\n",
              "\n",
              "    .dataframe tbody tr th {\n",
              "        vertical-align: top;\n",
              "    }\n",
              "\n",
              "    .dataframe thead th {\n",
              "        text-align: right;\n",
              "    }\n",
              "</style>\n",
              "<table border=\"1\" class=\"dataframe\">\n",
              "  <thead>\n",
              "    <tr style=\"text-align: right;\">\n",
              "      <th></th>\n",
              "      <th>PassengerId</th>\n",
              "      <th>Pclass</th>\n",
              "      <th>Name</th>\n",
              "      <th>Sex</th>\n",
              "      <th>Age</th>\n",
              "      <th>SibSp</th>\n",
              "      <th>Parch</th>\n",
              "      <th>Ticket</th>\n",
              "      <th>Fare</th>\n",
              "      <th>Cabin</th>\n",
              "      <th>Embarked</th>\n",
              "    </tr>\n",
              "  </thead>\n",
              "  <tbody>\n",
              "    <tr>\n",
              "      <th>408</th>\n",
              "      <td>1300</td>\n",
              "      <td>3</td>\n",
              "      <td>Riordan, Miss. Johanna Hannah\"\"</td>\n",
              "      <td>female</td>\n",
              "      <td>NaN</td>\n",
              "      <td>0</td>\n",
              "      <td>0</td>\n",
              "      <td>334915</td>\n",
              "      <td>7.7208</td>\n",
              "      <td>NaN</td>\n",
              "      <td>Q</td>\n",
              "    </tr>\n",
              "    <tr>\n",
              "      <th>409</th>\n",
              "      <td>1301</td>\n",
              "      <td>3</td>\n",
              "      <td>Peacock, Miss. Treasteall</td>\n",
              "      <td>female</td>\n",
              "      <td>3.0</td>\n",
              "      <td>1</td>\n",
              "      <td>1</td>\n",
              "      <td>SOTON/O.Q. 3101315</td>\n",
              "      <td>13.7750</td>\n",
              "      <td>NaN</td>\n",
              "      <td>S</td>\n",
              "    </tr>\n",
              "    <tr>\n",
              "      <th>410</th>\n",
              "      <td>1302</td>\n",
              "      <td>3</td>\n",
              "      <td>Naughton, Miss. Hannah</td>\n",
              "      <td>female</td>\n",
              "      <td>NaN</td>\n",
              "      <td>0</td>\n",
              "      <td>0</td>\n",
              "      <td>365237</td>\n",
              "      <td>7.7500</td>\n",
              "      <td>NaN</td>\n",
              "      <td>Q</td>\n",
              "    </tr>\n",
              "    <tr>\n",
              "      <th>411</th>\n",
              "      <td>1303</td>\n",
              "      <td>1</td>\n",
              "      <td>Minahan, Mrs. William Edward (Lillian E Thorpe)</td>\n",
              "      <td>female</td>\n",
              "      <td>37.0</td>\n",
              "      <td>1</td>\n",
              "      <td>0</td>\n",
              "      <td>19928</td>\n",
              "      <td>90.0000</td>\n",
              "      <td>C78</td>\n",
              "      <td>Q</td>\n",
              "    </tr>\n",
              "    <tr>\n",
              "      <th>412</th>\n",
              "      <td>1304</td>\n",
              "      <td>3</td>\n",
              "      <td>Henriksson, Miss. Jenny Lovisa</td>\n",
              "      <td>female</td>\n",
              "      <td>28.0</td>\n",
              "      <td>0</td>\n",
              "      <td>0</td>\n",
              "      <td>347086</td>\n",
              "      <td>7.7750</td>\n",
              "      <td>NaN</td>\n",
              "      <td>S</td>\n",
              "    </tr>\n",
              "    <tr>\n",
              "      <th>413</th>\n",
              "      <td>1305</td>\n",
              "      <td>3</td>\n",
              "      <td>Spector, Mr. Woolf</td>\n",
              "      <td>male</td>\n",
              "      <td>NaN</td>\n",
              "      <td>0</td>\n",
              "      <td>0</td>\n",
              "      <td>A.5. 3236</td>\n",
              "      <td>8.0500</td>\n",
              "      <td>NaN</td>\n",
              "      <td>S</td>\n",
              "    </tr>\n",
              "    <tr>\n",
              "      <th>414</th>\n",
              "      <td>1306</td>\n",
              "      <td>1</td>\n",
              "      <td>Oliva y Ocana, Dona. Fermina</td>\n",
              "      <td>female</td>\n",
              "      <td>39.0</td>\n",
              "      <td>0</td>\n",
              "      <td>0</td>\n",
              "      <td>PC 17758</td>\n",
              "      <td>108.9000</td>\n",
              "      <td>C105</td>\n",
              "      <td>C</td>\n",
              "    </tr>\n",
              "    <tr>\n",
              "      <th>415</th>\n",
              "      <td>1307</td>\n",
              "      <td>3</td>\n",
              "      <td>Saether, Mr. Simon Sivertsen</td>\n",
              "      <td>male</td>\n",
              "      <td>38.5</td>\n",
              "      <td>0</td>\n",
              "      <td>0</td>\n",
              "      <td>SOTON/O.Q. 3101262</td>\n",
              "      <td>7.2500</td>\n",
              "      <td>NaN</td>\n",
              "      <td>S</td>\n",
              "    </tr>\n",
              "    <tr>\n",
              "      <th>416</th>\n",
              "      <td>1308</td>\n",
              "      <td>3</td>\n",
              "      <td>Ware, Mr. Frederick</td>\n",
              "      <td>male</td>\n",
              "      <td>NaN</td>\n",
              "      <td>0</td>\n",
              "      <td>0</td>\n",
              "      <td>359309</td>\n",
              "      <td>8.0500</td>\n",
              "      <td>NaN</td>\n",
              "      <td>S</td>\n",
              "    </tr>\n",
              "    <tr>\n",
              "      <th>417</th>\n",
              "      <td>1309</td>\n",
              "      <td>3</td>\n",
              "      <td>Peter, Master. Michael J</td>\n",
              "      <td>male</td>\n",
              "      <td>NaN</td>\n",
              "      <td>1</td>\n",
              "      <td>1</td>\n",
              "      <td>2668</td>\n",
              "      <td>22.3583</td>\n",
              "      <td>NaN</td>\n",
              "      <td>C</td>\n",
              "    </tr>\n",
              "  </tbody>\n",
              "</table>\n",
              "</div>"
            ],
            "text/plain": [
              "     PassengerId  Pclass  ... Cabin Embarked\n",
              "408         1300       3  ...   NaN        Q\n",
              "409         1301       3  ...   NaN        S\n",
              "410         1302       3  ...   NaN        Q\n",
              "411         1303       1  ...   C78        Q\n",
              "412         1304       3  ...   NaN        S\n",
              "413         1305       3  ...   NaN        S\n",
              "414         1306       1  ...  C105        C\n",
              "415         1307       3  ...   NaN        S\n",
              "416         1308       3  ...   NaN        S\n",
              "417         1309       3  ...   NaN        C\n",
              "\n",
              "[10 rows x 11 columns]"
            ]
          },
          "metadata": {
            "tags": []
          },
          "execution_count": 7
        }
      ]
    },
    {
      "cell_type": "markdown",
      "metadata": {
        "id": "nou5kUW687f0"
      },
      "source": [
        "**Accessing basic information about our datasets**"
      ]
    },
    {
      "cell_type": "code",
      "metadata": {
        "colab": {
          "base_uri": "https://localhost:8080/"
        },
        "id": "3gVPMiz-9CHx",
        "outputId": "3c0a79f9-4199-48c1-8acb-a54eb8992681"
      },
      "source": [
        "train.info()"
      ],
      "execution_count": 8,
      "outputs": [
        {
          "output_type": "stream",
          "text": [
            "<class 'pandas.core.frame.DataFrame'>\n",
            "RangeIndex: 891 entries, 0 to 890\n",
            "Data columns (total 12 columns):\n",
            " #   Column       Non-Null Count  Dtype  \n",
            "---  ------       --------------  -----  \n",
            " 0   PassengerId  891 non-null    int64  \n",
            " 1   Survived     891 non-null    int64  \n",
            " 2   Pclass       891 non-null    int64  \n",
            " 3   Name         891 non-null    object \n",
            " 4   Sex          891 non-null    object \n",
            " 5   Age          714 non-null    float64\n",
            " 6   SibSp        891 non-null    int64  \n",
            " 7   Parch        891 non-null    int64  \n",
            " 8   Ticket       891 non-null    object \n",
            " 9   Fare         891 non-null    float64\n",
            " 10  Cabin        204 non-null    object \n",
            " 11  Embarked     889 non-null    object \n",
            "dtypes: float64(2), int64(5), object(5)\n",
            "memory usage: 83.7+ KB\n"
          ],
          "name": "stdout"
        }
      ]
    },
    {
      "cell_type": "code",
      "metadata": {
        "colab": {
          "base_uri": "https://localhost:8080/"
        },
        "id": "QEAfe3OQ-Y-a",
        "outputId": "ad32f255-ef7f-419d-814c-3bc3f588d07e"
      },
      "source": [
        "test.info()"
      ],
      "execution_count": 9,
      "outputs": [
        {
          "output_type": "stream",
          "text": [
            "<class 'pandas.core.frame.DataFrame'>\n",
            "RangeIndex: 418 entries, 0 to 417\n",
            "Data columns (total 11 columns):\n",
            " #   Column       Non-Null Count  Dtype  \n",
            "---  ------       --------------  -----  \n",
            " 0   PassengerId  418 non-null    int64  \n",
            " 1   Pclass       418 non-null    int64  \n",
            " 2   Name         418 non-null    object \n",
            " 3   Sex          418 non-null    object \n",
            " 4   Age          332 non-null    float64\n",
            " 5   SibSp        418 non-null    int64  \n",
            " 6   Parch        418 non-null    int64  \n",
            " 7   Ticket       418 non-null    object \n",
            " 8   Fare         417 non-null    float64\n",
            " 9   Cabin        91 non-null     object \n",
            " 10  Embarked     418 non-null    object \n",
            "dtypes: float64(2), int64(4), object(5)\n",
            "memory usage: 36.0+ KB\n"
          ],
          "name": "stdout"
        }
      ]
    },
    {
      "cell_type": "markdown",
      "metadata": {
        "id": "L503_nZu_GUF"
      },
      "source": [
        "**checking the appropriateness of our data**"
      ]
    },
    {
      "cell_type": "code",
      "metadata": {
        "colab": {
          "base_uri": "https://localhost:8080/"
        },
        "id": "JstycH90B2C4",
        "outputId": "74901644-5779-44c0-a936-0fe2ee9b2b46"
      },
      "source": [
        "test.shape"
      ],
      "execution_count": 10,
      "outputs": [
        {
          "output_type": "execute_result",
          "data": {
            "text/plain": [
              "(418, 11)"
            ]
          },
          "metadata": {
            "tags": []
          },
          "execution_count": 10
        }
      ]
    },
    {
      "cell_type": "code",
      "metadata": {
        "colab": {
          "base_uri": "https://localhost:8080/"
        },
        "id": "6TfXn22kB4g4",
        "outputId": "9b47cb42-a538-43a8-d8a0-296a5ffedfe9"
      },
      "source": [
        "train.shape"
      ],
      "execution_count": 11,
      "outputs": [
        {
          "output_type": "execute_result",
          "data": {
            "text/plain": [
              "(891, 12)"
            ]
          },
          "metadata": {
            "tags": []
          },
          "execution_count": 11
        }
      ]
    },
    {
      "cell_type": "code",
      "metadata": {
        "colab": {
          "base_uri": "https://localhost:8080/"
        },
        "id": "20VlqVcoB7_o",
        "outputId": "c8ae71aa-647c-44ff-953f-b0d4a5aa6262"
      },
      "source": [
        "##Columns\n",
        "\n",
        "train.columns"
      ],
      "execution_count": 12,
      "outputs": [
        {
          "output_type": "execute_result",
          "data": {
            "text/plain": [
              "Index(['PassengerId', 'Survived', 'Pclass', 'Name', 'Sex', 'Age', 'SibSp',\n",
              "       'Parch', 'Ticket', 'Fare', 'Cabin', 'Embarked'],\n",
              "      dtype='object')"
            ]
          },
          "metadata": {
            "tags": []
          },
          "execution_count": 12
        }
      ]
    },
    {
      "cell_type": "code",
      "metadata": {
        "colab": {
          "base_uri": "https://localhost:8080/"
        },
        "id": "u-xn_CrICBcW",
        "outputId": "1a86c705-ddf3-4933-a6de-82b9628945fa"
      },
      "source": [
        "test.columns"
      ],
      "execution_count": 13,
      "outputs": [
        {
          "output_type": "execute_result",
          "data": {
            "text/plain": [
              "Index(['PassengerId', 'Pclass', 'Name', 'Sex', 'Age', 'SibSp', 'Parch',\n",
              "       'Ticket', 'Fare', 'Cabin', 'Embarked'],\n",
              "      dtype='object')"
            ]
          },
          "metadata": {
            "tags": []
          },
          "execution_count": 13
        }
      ]
    },
    {
      "cell_type": "code",
      "metadata": {
        "colab": {
          "base_uri": "https://localhost:8080/"
        },
        "id": "8cp5qWef_PTY",
        "outputId": "5f223534-9aa7-491e-bf6d-115cb45266f7"
      },
      "source": [
        "train.dtypes"
      ],
      "execution_count": 14,
      "outputs": [
        {
          "output_type": "execute_result",
          "data": {
            "text/plain": [
              "PassengerId      int64\n",
              "Survived         int64\n",
              "Pclass           int64\n",
              "Name            object\n",
              "Sex             object\n",
              "Age            float64\n",
              "SibSp            int64\n",
              "Parch            int64\n",
              "Ticket          object\n",
              "Fare           float64\n",
              "Cabin           object\n",
              "Embarked        object\n",
              "dtype: object"
            ]
          },
          "metadata": {
            "tags": []
          },
          "execution_count": 14
        }
      ]
    },
    {
      "cell_type": "code",
      "metadata": {
        "colab": {
          "base_uri": "https://localhost:8080/"
        },
        "id": "nIhm1KBc_aJi",
        "outputId": "d8830807-1e05-43d3-e739-3f336ffa8e06"
      },
      "source": [
        "test.dtypes"
      ],
      "execution_count": 15,
      "outputs": [
        {
          "output_type": "execute_result",
          "data": {
            "text/plain": [
              "PassengerId      int64\n",
              "Pclass           int64\n",
              "Name            object\n",
              "Sex             object\n",
              "Age            float64\n",
              "SibSp            int64\n",
              "Parch            int64\n",
              "Ticket          object\n",
              "Fare           float64\n",
              "Cabin           object\n",
              "Embarked        object\n",
              "dtype: object"
            ]
          },
          "metadata": {
            "tags": []
          },
          "execution_count": 15
        }
      ]
    },
    {
      "cell_type": "markdown",
      "metadata": {
        "id": "NmgDFtPU_nNf"
      },
      "source": [
        "We will later need to convert some of these features into numeric form for the algorith to process them "
      ]
    },
    {
      "cell_type": "code",
      "metadata": {
        "colab": {
          "base_uri": "https://localhost:8080/"
        },
        "id": "e7i6V_8B_02e",
        "outputId": "29454391-fee3-4cdf-822b-76c661593015"
      },
      "source": [
        "##Checking for unique values\n",
        "\n",
        "cols = ['Pclass', 'Sex', 'SibSp', 'Parch', 'Embarked']\n",
        "\n",
        "for col in cols:\n",
        "  print(col)\n",
        "  print(train[col].unique())\n",
        "  print('\\n')"
      ],
      "execution_count": 16,
      "outputs": [
        {
          "output_type": "stream",
          "text": [
            "Pclass\n",
            "[3 1 2]\n",
            "\n",
            "\n",
            "Sex\n",
            "['male' 'female']\n",
            "\n",
            "\n",
            "SibSp\n",
            "[1 0 3 4 2 5 8]\n",
            "\n",
            "\n",
            "Parch\n",
            "[0 1 2 5 3 4 6]\n",
            "\n",
            "\n",
            "Embarked\n",
            "['S' 'C' 'Q' nan]\n",
            "\n",
            "\n"
          ],
          "name": "stdout"
        }
      ]
    },
    {
      "cell_type": "code",
      "metadata": {
        "colab": {
          "base_uri": "https://localhost:8080/"
        },
        "id": "d0B8qvkJAFCq",
        "outputId": "3bfb1969-1371-4b54-8dfb-6a37ff9494b1"
      },
      "source": [
        "#Confirming that this is true for the test set\n",
        "\n",
        "cols = ['Pclass', 'Sex', 'SibSp', 'Parch', 'Embarked']\n",
        "\n",
        "for col in cols:\n",
        "  print(col)\n",
        "  print(test[col].unique())\n",
        "  print('\\n')"
      ],
      "execution_count": 17,
      "outputs": [
        {
          "output_type": "stream",
          "text": [
            "Pclass\n",
            "[3 2 1]\n",
            "\n",
            "\n",
            "Sex\n",
            "['male' 'female']\n",
            "\n",
            "\n",
            "SibSp\n",
            "[0 1 2 3 4 5 8]\n",
            "\n",
            "\n",
            "Parch\n",
            "[0 1 3 2 4 6 5 9]\n",
            "\n",
            "\n",
            "Embarked\n",
            "['Q' 'S' 'C']\n",
            "\n",
            "\n"
          ],
          "name": "stdout"
        }
      ]
    },
    {
      "cell_type": "markdown",
      "metadata": {
        "id": "MrOWhxOfAhow"
      },
      "source": [
        "There are subtle differences in the unique values in Parch and Embarked which we are going to explore and deal  with at the EDA section"
      ]
    },
    {
      "cell_type": "markdown",
      "metadata": {
        "id": "6-o2YIY0pI7u"
      },
      "source": [
        "The train set has 891 records and 11 features and the target variable [survived]. The test set has 418 records and 11 features."
      ]
    },
    {
      "cell_type": "markdown",
      "metadata": {
        "id": "orkIFuegBSEV"
      },
      "source": [
        "**Validation of Data**"
      ]
    },
    {
      "cell_type": "markdown",
      "metadata": {
        "id": "EEpMySkwCkUv"
      },
      "source": [
        "The data provided according to external sources looks at what factors or classifications of passengers have a persuasive\n",
        "relationship towards survival for passengers. The target has two classes. The dataset therefore can be considered appropriate to train the KNN model on survival of the titanic"
      ]
    },
    {
      "cell_type": "markdown",
      "metadata": {
        "id": "Hby19VQaoHkv"
      },
      "source": [
        "**Tidying the dataset**"
      ]
    },
    {
      "cell_type": "markdown",
      "metadata": {
        "id": "CrWU9fvqoaiS"
      },
      "source": [
        "*Missing values*"
      ]
    },
    {
      "cell_type": "code",
      "metadata": {
        "colab": {
          "base_uri": "https://localhost:8080/"
        },
        "id": "1n2xTr7HofGX",
        "outputId": "1a90678c-37fa-49d7-f625-4b93b676004b"
      },
      "source": [
        "##Train set total missing values\n",
        "\n",
        "train.isnull().sum().sort_values(ascending=False)\n"
      ],
      "execution_count": 18,
      "outputs": [
        {
          "output_type": "execute_result",
          "data": {
            "text/plain": [
              "Cabin          687\n",
              "Age            177\n",
              "Embarked         2\n",
              "Fare             0\n",
              "Ticket           0\n",
              "Parch            0\n",
              "SibSp            0\n",
              "Sex              0\n",
              "Name             0\n",
              "Pclass           0\n",
              "Survived         0\n",
              "PassengerId      0\n",
              "dtype: int64"
            ]
          },
          "metadata": {
            "tags": []
          },
          "execution_count": 18
        }
      ]
    },
    {
      "cell_type": "code",
      "metadata": {
        "colab": {
          "base_uri": "https://localhost:8080/"
        },
        "id": "hPXnxluyqbKu",
        "outputId": "a5e284ae-9cfd-415b-aa67-f51c79b5c17d"
      },
      "source": [
        "#Getting the percentage of our missing values\n",
        "train.isnull().sum()/train.isnull().count()*100\n"
      ],
      "execution_count": 19,
      "outputs": [
        {
          "output_type": "execute_result",
          "data": {
            "text/plain": [
              "PassengerId     0.000000\n",
              "Survived        0.000000\n",
              "Pclass          0.000000\n",
              "Name            0.000000\n",
              "Sex             0.000000\n",
              "Age            19.865320\n",
              "SibSp           0.000000\n",
              "Parch           0.000000\n",
              "Ticket          0.000000\n",
              "Fare            0.000000\n",
              "Cabin          77.104377\n",
              "Embarked        0.224467\n",
              "dtype: float64"
            ]
          },
          "metadata": {
            "tags": []
          },
          "execution_count": 19
        }
      ]
    },
    {
      "cell_type": "code",
      "metadata": {
        "colab": {
          "base_uri": "https://localhost:8080/"
        },
        "id": "wcXicU4ytd71",
        "outputId": "5a9be06c-8ebc-4c3b-e269-f37a84576e2e"
      },
      "source": [
        "train.columns"
      ],
      "execution_count": 20,
      "outputs": [
        {
          "output_type": "execute_result",
          "data": {
            "text/plain": [
              "Index(['PassengerId', 'Survived', 'Pclass', 'Name', 'Sex', 'Age', 'SibSp',\n",
              "       'Parch', 'Ticket', 'Fare', 'Cabin', 'Embarked'],\n",
              "      dtype='object')"
            ]
          },
          "metadata": {
            "tags": []
          },
          "execution_count": 20
        }
      ]
    },
    {
      "cell_type": "code",
      "metadata": {
        "id": "1XEQBZh2sTIt"
      },
      "source": [
        "##Dealing with missing data\n",
        "## The cabin column seems to have a very high % of missing values which we will drop\n",
        "## As for the age column, we will have to fill the missing values with its mean\n",
        "##and drop the two missing records on embarked\n",
        "##Passenger ID does not look that important a feature for our model hence we will drop it"
      ],
      "execution_count": 21,
      "outputs": []
    },
    {
      "cell_type": "code",
      "metadata": {
        "id": "dldIpODDs2EX"
      },
      "source": [
        "##\n",
        "train.drop(['Cabin','PassengerId'], inplace=True, axis = 1)"
      ],
      "execution_count": 22,
      "outputs": []
    },
    {
      "cell_type": "code",
      "metadata": {
        "id": "BqFyBuzCuvVU"
      },
      "source": [
        "train.dropna(subset=['Embarked'],inplace=True)"
      ],
      "execution_count": 23,
      "outputs": []
    },
    {
      "cell_type": "code",
      "metadata": {
        "id": "MIgh5nJ9v06u"
      },
      "source": [
        "##\n",
        "data = [train, test]\n",
        "for dataset in data:\n",
        "    dataset['Age']= dataset['Age'].fillna(dataset['Age'].mean(), axis = 0)\n",
        "\n",
        "#.fillna(train['Age'].mean(), axis = 0)"
      ],
      "execution_count": 24,
      "outputs": []
    },
    {
      "cell_type": "code",
      "metadata": {
        "colab": {
          "base_uri": "https://localhost:8080/"
        },
        "id": "pkmKlzOqwQkV",
        "outputId": "2743efdd-d07b-4645-f4d0-a58cdd3bae88"
      },
      "source": [
        "##Confirming that we no longer have missing values\n",
        "train.isnull().sum()"
      ],
      "execution_count": 25,
      "outputs": [
        {
          "output_type": "execute_result",
          "data": {
            "text/plain": [
              "Survived    0\n",
              "Pclass      0\n",
              "Name        0\n",
              "Sex         0\n",
              "Age         0\n",
              "SibSp       0\n",
              "Parch       0\n",
              "Ticket      0\n",
              "Fare        0\n",
              "Embarked    0\n",
              "dtype: int64"
            ]
          },
          "metadata": {
            "tags": []
          },
          "execution_count": 25
        }
      ]
    },
    {
      "cell_type": "code",
      "metadata": {
        "colab": {
          "base_uri": "https://localhost:8080/"
        },
        "id": "4NOvM8J3oh6e",
        "outputId": "b0180500-9115-4833-db93-c7d9b9d71310"
      },
      "source": [
        "####Test set total missing values\n",
        "\n",
        "test.isnull().sum().sort_values(ascending=False)"
      ],
      "execution_count": 26,
      "outputs": [
        {
          "output_type": "execute_result",
          "data": {
            "text/plain": [
              "Cabin          327\n",
              "Fare             1\n",
              "Embarked         0\n",
              "Ticket           0\n",
              "Parch            0\n",
              "SibSp            0\n",
              "Age              0\n",
              "Sex              0\n",
              "Name             0\n",
              "Pclass           0\n",
              "PassengerId      0\n",
              "dtype: int64"
            ]
          },
          "metadata": {
            "tags": []
          },
          "execution_count": 26
        }
      ]
    },
    {
      "cell_type": "code",
      "metadata": {
        "id": "jFYM4b79wzkD"
      },
      "source": [
        "test.drop(['Cabin','PassengerId'], inplace=True, axis = 1)"
      ],
      "execution_count": 27,
      "outputs": []
    },
    {
      "cell_type": "code",
      "metadata": {
        "id": "5BKCOM3AxmCI"
      },
      "source": [
        "test.dropna(subset=['Fare'], inplace=True, axis = 0)"
      ],
      "execution_count": 28,
      "outputs": []
    },
    {
      "cell_type": "code",
      "metadata": {
        "id": "dvzxx69zw4pw"
      },
      "source": [
        "#test['Age']= test['Age'].fillna(test['Age'].mean(), axis= 0)"
      ],
      "execution_count": 29,
      "outputs": []
    },
    {
      "cell_type": "code",
      "metadata": {
        "colab": {
          "base_uri": "https://localhost:8080/"
        },
        "id": "Zy41cvqbxHX3",
        "outputId": "0412c742-d810-4cba-b34e-ae52ad5dbc6e"
      },
      "source": [
        "##Confirming that we no longer have missing values\n",
        "test.isnull().sum()"
      ],
      "execution_count": 30,
      "outputs": [
        {
          "output_type": "execute_result",
          "data": {
            "text/plain": [
              "Pclass      0\n",
              "Name        0\n",
              "Sex         0\n",
              "Age         0\n",
              "SibSp       0\n",
              "Parch       0\n",
              "Ticket      0\n",
              "Fare        0\n",
              "Embarked    0\n",
              "dtype: int64"
            ]
          },
          "metadata": {
            "tags": []
          },
          "execution_count": 30
        }
      ]
    },
    {
      "cell_type": "code",
      "metadata": {
        "colab": {
          "base_uri": "https://localhost:8080/"
        },
        "id": "ncV4cPQKzurR",
        "outputId": "38e9e97a-8f8a-449d-b155-bffa108a6c6e"
      },
      "source": [
        "##Checking the new shape of our data\n",
        "\n",
        "train.shape\n",
        "\n"
      ],
      "execution_count": 31,
      "outputs": [
        {
          "output_type": "execute_result",
          "data": {
            "text/plain": [
              "(889, 10)"
            ]
          },
          "metadata": {
            "tags": []
          },
          "execution_count": 31
        }
      ]
    },
    {
      "cell_type": "code",
      "metadata": {
        "colab": {
          "base_uri": "https://localhost:8080/"
        },
        "id": "3FgUZVmCz90X",
        "outputId": "fd4bbf71-3de5-48ab-f546-985725e78d4e"
      },
      "source": [
        "test.shape"
      ],
      "execution_count": 32,
      "outputs": [
        {
          "output_type": "execute_result",
          "data": {
            "text/plain": [
              "(417, 9)"
            ]
          },
          "metadata": {
            "tags": []
          },
          "execution_count": 32
        }
      ]
    },
    {
      "cell_type": "markdown",
      "metadata": {
        "id": "5euyTSfC0Ejc"
      },
      "source": [
        "*Checking for duplicates*"
      ]
    },
    {
      "cell_type": "code",
      "metadata": {
        "colab": {
          "base_uri": "https://localhost:8080/"
        },
        "id": "5ZGoRptP0HsT",
        "outputId": "2b311393-e2f7-4621-b04e-737a0c228f55"
      },
      "source": [
        "#we will look for the number of rows with duplicate records in both our train and test sets\n",
        "print(train.duplicated().sum())\n",
        "\n",
        "print(test.duplicated().sum())\n",
        "\n",
        "#There are no duplicated records"
      ],
      "execution_count": 33,
      "outputs": [
        {
          "output_type": "stream",
          "text": [
            "0\n",
            "0\n"
          ],
          "name": "stdout"
        }
      ]
    },
    {
      "cell_type": "markdown",
      "metadata": {
        "id": "9zV0XLRkoPj5"
      },
      "source": [
        "*Checking for outliers*"
      ]
    },
    {
      "cell_type": "code",
      "metadata": {
        "colab": {
          "base_uri": "https://localhost:8080/"
        },
        "id": "LGXTjHRvoTJS",
        "outputId": "0d5e6dcf-43ef-411c-9a47-59589005ea4e"
      },
      "source": [
        "##Train set\n",
        "\n",
        "columns = train[['Survived', 'Pclass', 'Age', 'SibSp',\n",
        "       'Parch', 'Fare']]\n",
        "Q1 = columns.quantile(0.25)\n",
        "Q3 = columns.quantile(0.75)\n",
        "IQR = Q3 - Q1\n",
        "((columns < (Q1 - 1.5 * IQR)) | (columns > (Q3 + 1.5 * IQR))).sum()\n"
      ],
      "execution_count": 34,
      "outputs": [
        {
          "output_type": "execute_result",
          "data": {
            "text/plain": [
              "Survived      0\n",
              "Pclass        0\n",
              "Age          65\n",
              "SibSp        46\n",
              "Parch       213\n",
              "Fare        114\n",
              "dtype: int64"
            ]
          },
          "metadata": {
            "tags": []
          },
          "execution_count": 34
        }
      ]
    },
    {
      "cell_type": "code",
      "metadata": {
        "colab": {
          "base_uri": "https://localhost:8080/"
        },
        "id": "mV9No-L0oWLg",
        "outputId": "f34b4d8d-af2b-45be-c338-0f6e118e616d"
      },
      "source": [
        "##Test set\n",
        "\n",
        "columns = test[['Pclass', 'Age', 'SibSp',\n",
        "       'Parch', 'Fare']]\n",
        "Q1 = columns.quantile(0.25)\n",
        "Q3 = columns.quantile(0.75)\n",
        "IQR = Q3 - Q1\n",
        "((columns < (Q1 - 1.5 * IQR)) | (columns > (Q3 + 1.5 * IQR))).sum()"
      ],
      "execution_count": 35,
      "outputs": [
        {
          "output_type": "execute_result",
          "data": {
            "text/plain": [
              "Pclass     0\n",
              "Age       37\n",
              "SibSp     11\n",
              "Parch     94\n",
              "Fare      55\n",
              "dtype: int64"
            ]
          },
          "metadata": {
            "tags": []
          },
          "execution_count": 35
        }
      ]
    },
    {
      "cell_type": "markdown",
      "metadata": {
        "id": "y_MYGpbm2ddB"
      },
      "source": [
        "We will not drop the outliers for now, we nee to investigate more on their effect on our analysis"
      ]
    },
    {
      "cell_type": "markdown",
      "metadata": {
        "id": "l-2aSOy_3RYJ"
      },
      "source": [
        "*More data cleaning procedures*"
      ]
    },
    {
      "cell_type": "code",
      "metadata": {
        "id": "H68Ul9qD3cBe"
      },
      "source": [
        "##We need to change some dtypes and encode some of our features"
      ],
      "execution_count": 36,
      "outputs": []
    },
    {
      "cell_type": "code",
      "metadata": {
        "colab": {
          "base_uri": "https://localhost:8080/"
        },
        "id": "y6JRLLue42St",
        "outputId": "9b2801d5-4aa1-4df6-beaf-fa6b8541b9f2"
      },
      "source": [
        "columns=[\"Sex\",\"Embarked\"]\n",
        "from sklearn.preprocessing import LabelEncoder\n",
        "for col in columns:\n",
        " labelencoder = LabelEncoder()\n",
        "  \n",
        " labelencoder.fit(train[col])\n",
        " train[col] = labelencoder.transform(train[col])\n",
        "train.dtypes"
      ],
      "execution_count": 37,
      "outputs": [
        {
          "output_type": "execute_result",
          "data": {
            "text/plain": [
              "Survived      int64\n",
              "Pclass        int64\n",
              "Name         object\n",
              "Sex           int64\n",
              "Age         float64\n",
              "SibSp         int64\n",
              "Parch         int64\n",
              "Ticket       object\n",
              "Fare        float64\n",
              "Embarked      int64\n",
              "dtype: object"
            ]
          },
          "metadata": {
            "tags": []
          },
          "execution_count": 37
        }
      ]
    },
    {
      "cell_type": "code",
      "metadata": {
        "colab": {
          "base_uri": "https://localhost:8080/"
        },
        "id": "HAoT2QH3Yr35",
        "outputId": "cdd79964-630f-4544-e59b-bddda8bdb85a"
      },
      "source": [
        "columns=[\"Sex\",\"Embarked\"]\n",
        "from sklearn.preprocessing import LabelEncoder\n",
        "for col in columns:\n",
        " labelencoder = LabelEncoder()\n",
        "  \n",
        " labelencoder.fit(test[col])\n",
        " test[col] = labelencoder.transform(test[col])\n",
        "test.dtypes"
      ],
      "execution_count": 38,
      "outputs": [
        {
          "output_type": "execute_result",
          "data": {
            "text/plain": [
              "Pclass        int64\n",
              "Name         object\n",
              "Sex           int64\n",
              "Age         float64\n",
              "SibSp         int64\n",
              "Parch         int64\n",
              "Ticket       object\n",
              "Fare        float64\n",
              "Embarked      int64\n",
              "dtype: object"
            ]
          },
          "metadata": {
            "tags": []
          },
          "execution_count": 38
        }
      ]
    },
    {
      "cell_type": "code",
      "metadata": {
        "id": "kzKr-IV-Tlb1"
      },
      "source": [
        "##We will encode data in both the train and test datasets\n",
        "\n",
        "#embarked = {\"S\": 0, \"C\": 1, \"Q\": 2}\n",
        "#data = [train, test]\n",
        "\n",
        "#for dataset in data:\n",
        "#    dataset['Embarked'] = dataset['Embarked'].map(embarked)"
      ],
      "execution_count": 39,
      "outputs": []
    },
    {
      "cell_type": "code",
      "metadata": {
        "id": "Qa2xi3cfTYyW"
      },
      "source": [
        "##We will encode the sex column in both the train and test datasets\n",
        "#sex = {\"male\":0, \"female\":1}\n",
        "\n",
        "#data = [train, test]\n",
        "\n",
        "#for dataset in data:\n",
        "#  dataset['Sex'] = dataset['Sex'].map(sex)"
      ],
      "execution_count": 40,
      "outputs": []
    },
    {
      "cell_type": "code",
      "metadata": {
        "id": "uVH6U8e_5PIx"
      },
      "source": [
        "##We will convert the dtypes of the fare and age category to int64 type\n",
        "\n",
        "train['Fare'] = train['Fare'].astype(int)\n",
        "train['Age'] = train['Age'].astype(int)\n",
        "\n",
        "    "
      ],
      "execution_count": 41,
      "outputs": []
    },
    {
      "cell_type": "code",
      "metadata": {
        "id": "_BF4lr_G7N4a"
      },
      "source": [
        "##We will convert the dtypes of the fare and age category to int64 type\n",
        "\n",
        "test['Fare'] = test['Fare'].astype(int)\n",
        "test['Age'] = test['Age'].astype(int)"
      ],
      "execution_count": 42,
      "outputs": []
    },
    {
      "cell_type": "code",
      "metadata": {
        "id": "-5X0pMpR7pXo"
      },
      "source": [
        "##We will drop the Name and Ticket columns as we will not be using them for now"
      ],
      "execution_count": 43,
      "outputs": []
    },
    {
      "cell_type": "code",
      "metadata": {
        "id": "eQc7ElZs7z2-"
      },
      "source": [
        "train.drop(['Name','Ticket'], inplace=True, axis = 1)\n",
        "test.drop(['Name','Ticket'], inplace=True, axis = 1)"
      ],
      "execution_count": 44,
      "outputs": []
    },
    {
      "cell_type": "code",
      "metadata": {
        "colab": {
          "base_uri": "https://localhost:8080/"
        },
        "id": "vEPLH9I237lw",
        "outputId": "750fc2a9-03b2-4d50-82a2-8ce9887f0300"
      },
      "source": [
        "train.dtypes"
      ],
      "execution_count": 45,
      "outputs": [
        {
          "output_type": "execute_result",
          "data": {
            "text/plain": [
              "Survived    int64\n",
              "Pclass      int64\n",
              "Sex         int64\n",
              "Age         int64\n",
              "SibSp       int64\n",
              "Parch       int64\n",
              "Fare        int64\n",
              "Embarked    int64\n",
              "dtype: object"
            ]
          },
          "metadata": {
            "tags": []
          },
          "execution_count": 45
        }
      ]
    },
    {
      "cell_type": "code",
      "metadata": {
        "colab": {
          "base_uri": "https://localhost:8080/"
        },
        "id": "ai5Eu1P_3klB",
        "outputId": "953e02de-0b5f-427a-b7f6-7a000c518188"
      },
      "source": [
        "test.dtypes"
      ],
      "execution_count": 46,
      "outputs": [
        {
          "output_type": "execute_result",
          "data": {
            "text/plain": [
              "Pclass      int64\n",
              "Sex         int64\n",
              "Age         int64\n",
              "SibSp       int64\n",
              "Parch       int64\n",
              "Fare        int64\n",
              "Embarked    int64\n",
              "dtype: object"
            ]
          },
          "metadata": {
            "tags": []
          },
          "execution_count": 46
        }
      ]
    },
    {
      "cell_type": "markdown",
      "metadata": {
        "id": "QJvHCUf42rRV"
      },
      "source": [
        "#**Exploratory Data Analysis**"
      ]
    },
    {
      "cell_type": "code",
      "metadata": {
        "colab": {
          "base_uri": "https://localhost:8080/",
          "height": 294
        },
        "id": "dYTumQl52ylJ",
        "outputId": "3aaaf16c-91a0-42f0-b40e-7763dd32d654"
      },
      "source": [
        "train.describe()"
      ],
      "execution_count": 47,
      "outputs": [
        {
          "output_type": "execute_result",
          "data": {
            "text/html": [
              "<div>\n",
              "<style scoped>\n",
              "    .dataframe tbody tr th:only-of-type {\n",
              "        vertical-align: middle;\n",
              "    }\n",
              "\n",
              "    .dataframe tbody tr th {\n",
              "        vertical-align: top;\n",
              "    }\n",
              "\n",
              "    .dataframe thead th {\n",
              "        text-align: right;\n",
              "    }\n",
              "</style>\n",
              "<table border=\"1\" class=\"dataframe\">\n",
              "  <thead>\n",
              "    <tr style=\"text-align: right;\">\n",
              "      <th></th>\n",
              "      <th>Survived</th>\n",
              "      <th>Pclass</th>\n",
              "      <th>Sex</th>\n",
              "      <th>Age</th>\n",
              "      <th>SibSp</th>\n",
              "      <th>Parch</th>\n",
              "      <th>Fare</th>\n",
              "      <th>Embarked</th>\n",
              "    </tr>\n",
              "  </thead>\n",
              "  <tbody>\n",
              "    <tr>\n",
              "      <th>count</th>\n",
              "      <td>889.000000</td>\n",
              "      <td>889.000000</td>\n",
              "      <td>889.000000</td>\n",
              "      <td>889.000000</td>\n",
              "      <td>889.000000</td>\n",
              "      <td>889.000000</td>\n",
              "      <td>889.000000</td>\n",
              "      <td>889.000000</td>\n",
              "    </tr>\n",
              "    <tr>\n",
              "      <th>mean</th>\n",
              "      <td>0.382452</td>\n",
              "      <td>2.311586</td>\n",
              "      <td>0.649044</td>\n",
              "      <td>29.498313</td>\n",
              "      <td>0.524184</td>\n",
              "      <td>0.382452</td>\n",
              "      <td>31.677165</td>\n",
              "      <td>1.535433</td>\n",
              "    </tr>\n",
              "    <tr>\n",
              "      <th>std</th>\n",
              "      <td>0.486260</td>\n",
              "      <td>0.834700</td>\n",
              "      <td>0.477538</td>\n",
              "      <td>12.979638</td>\n",
              "      <td>1.103705</td>\n",
              "      <td>0.806761</td>\n",
              "      <td>49.706915</td>\n",
              "      <td>0.792088</td>\n",
              "    </tr>\n",
              "    <tr>\n",
              "      <th>min</th>\n",
              "      <td>0.000000</td>\n",
              "      <td>1.000000</td>\n",
              "      <td>0.000000</td>\n",
              "      <td>0.000000</td>\n",
              "      <td>0.000000</td>\n",
              "      <td>0.000000</td>\n",
              "      <td>0.000000</td>\n",
              "      <td>0.000000</td>\n",
              "    </tr>\n",
              "    <tr>\n",
              "      <th>25%</th>\n",
              "      <td>0.000000</td>\n",
              "      <td>2.000000</td>\n",
              "      <td>0.000000</td>\n",
              "      <td>22.000000</td>\n",
              "      <td>0.000000</td>\n",
              "      <td>0.000000</td>\n",
              "      <td>7.000000</td>\n",
              "      <td>1.000000</td>\n",
              "    </tr>\n",
              "    <tr>\n",
              "      <th>50%</th>\n",
              "      <td>0.000000</td>\n",
              "      <td>3.000000</td>\n",
              "      <td>1.000000</td>\n",
              "      <td>29.000000</td>\n",
              "      <td>0.000000</td>\n",
              "      <td>0.000000</td>\n",
              "      <td>14.000000</td>\n",
              "      <td>2.000000</td>\n",
              "    </tr>\n",
              "    <tr>\n",
              "      <th>75%</th>\n",
              "      <td>1.000000</td>\n",
              "      <td>3.000000</td>\n",
              "      <td>1.000000</td>\n",
              "      <td>35.000000</td>\n",
              "      <td>1.000000</td>\n",
              "      <td>0.000000</td>\n",
              "      <td>31.000000</td>\n",
              "      <td>2.000000</td>\n",
              "    </tr>\n",
              "    <tr>\n",
              "      <th>max</th>\n",
              "      <td>1.000000</td>\n",
              "      <td>3.000000</td>\n",
              "      <td>1.000000</td>\n",
              "      <td>80.000000</td>\n",
              "      <td>8.000000</td>\n",
              "      <td>6.000000</td>\n",
              "      <td>512.000000</td>\n",
              "      <td>2.000000</td>\n",
              "    </tr>\n",
              "  </tbody>\n",
              "</table>\n",
              "</div>"
            ],
            "text/plain": [
              "         Survived      Pclass         Sex  ...       Parch        Fare    Embarked\n",
              "count  889.000000  889.000000  889.000000  ...  889.000000  889.000000  889.000000\n",
              "mean     0.382452    2.311586    0.649044  ...    0.382452   31.677165    1.535433\n",
              "std      0.486260    0.834700    0.477538  ...    0.806761   49.706915    0.792088\n",
              "min      0.000000    1.000000    0.000000  ...    0.000000    0.000000    0.000000\n",
              "25%      0.000000    2.000000    0.000000  ...    0.000000    7.000000    1.000000\n",
              "50%      0.000000    3.000000    1.000000  ...    0.000000   14.000000    2.000000\n",
              "75%      1.000000    3.000000    1.000000  ...    0.000000   31.000000    2.000000\n",
              "max      1.000000    3.000000    1.000000  ...    6.000000  512.000000    2.000000\n",
              "\n",
              "[8 rows x 8 columns]"
            ]
          },
          "metadata": {
            "tags": []
          },
          "execution_count": 47
        }
      ]
    },
    {
      "cell_type": "markdown",
      "metadata": {
        "id": "WxT0YEGi8mT1"
      },
      "source": [
        "**Measures of Central tendancy**"
      ]
    },
    {
      "cell_type": "code",
      "metadata": {
        "colab": {
          "base_uri": "https://localhost:8080/"
        },
        "id": "0Q8qRTb680Xl",
        "outputId": "c9286a7c-6071-4398-d298-ba84b6583f5d"
      },
      "source": [
        "train.columns"
      ],
      "execution_count": 48,
      "outputs": [
        {
          "output_type": "execute_result",
          "data": {
            "text/plain": [
              "Index(['Survived', 'Pclass', 'Sex', 'Age', 'SibSp', 'Parch', 'Fare',\n",
              "       'Embarked'],\n",
              "      dtype='object')"
            ]
          },
          "metadata": {
            "tags": []
          },
          "execution_count": 48
        }
      ]
    },
    {
      "cell_type": "code",
      "metadata": {
        "colab": {
          "base_uri": "https://localhost:8080/"
        },
        "id": "XHahzPiP8rZ-",
        "outputId": "e12ffac6-a193-40cf-f413-31046c4c9a73"
      },
      "source": [
        "#MEAN\n",
        "colums_ = train[['Survived', 'Pclass', 'Sex', 'Age', 'SibSp', 'Parch', 'Fare',\n",
        "       'Embarked']]\n",
        "\n",
        "for i, col_val in enumerate(colums_):\n",
        " print('The mean of ' + str(col_val) + ' ' + 'is' + ' ' + str(colums_[col_val].mean()))"
      ],
      "execution_count": 49,
      "outputs": [
        {
          "output_type": "stream",
          "text": [
            "The mean of Survived is 0.38245219347581555\n",
            "The mean of Pclass is 2.3115860517435323\n",
            "The mean of Sex is 0.6490438695163104\n",
            "The mean of Age is 29.498312710911136\n",
            "The mean of SibSp is 0.5241844769403825\n",
            "The mean of Parch is 0.38245219347581555\n",
            "The mean of Fare is 31.677165354330707\n",
            "The mean of Embarked is 1.5354330708661417\n"
          ],
          "name": "stdout"
        }
      ]
    },
    {
      "cell_type": "code",
      "metadata": {
        "colab": {
          "base_uri": "https://localhost:8080/"
        },
        "id": "X3g35VIU9CUJ",
        "outputId": "70b5ae94-b6a0-42a2-9936-73085607e445"
      },
      "source": [
        "#MEDIAN\n",
        "for i, col_val in enumerate(colums_):\n",
        " print('The median of ' + str(col_val) + ' ' + 'is' + ' ' + str(colums_[col_val].median()))"
      ],
      "execution_count": 50,
      "outputs": [
        {
          "output_type": "stream",
          "text": [
            "The median of Survived is 0.0\n",
            "The median of Pclass is 3.0\n",
            "The median of Sex is 1.0\n",
            "The median of Age is 29.0\n",
            "The median of SibSp is 0.0\n",
            "The median of Parch is 0.0\n",
            "The median of Fare is 14.0\n",
            "The median of Embarked is 2.0\n"
          ],
          "name": "stdout"
        }
      ]
    },
    {
      "cell_type": "code",
      "metadata": {
        "colab": {
          "base_uri": "https://localhost:8080/"
        },
        "id": "xL-TfNVL9Xiz",
        "outputId": "677148ed-1ce3-4b7c-c48f-7c31ecb46a6b"
      },
      "source": [
        "#MODE\n",
        "for i, col_val in enumerate(colums_):\n",
        " print('The mode of ' + str(col_val) + ' ' + 'is' + ' ' + str(colums_[col_val].mode()))"
      ],
      "execution_count": 51,
      "outputs": [
        {
          "output_type": "stream",
          "text": [
            "The mode of Survived is 0    0\n",
            "dtype: int64\n",
            "The mode of Pclass is 0    3\n",
            "dtype: int64\n",
            "The mode of Sex is 0    1\n",
            "dtype: int64\n",
            "The mode of Age is 0    29\n",
            "dtype: int64\n",
            "The mode of SibSp is 0    0\n",
            "dtype: int64\n",
            "The mode of Parch is 0    0\n",
            "dtype: int64\n",
            "The mode of Fare is 0    7\n",
            "dtype: int64\n",
            "The mode of Embarked is 0    2\n",
            "dtype: int64\n"
          ],
          "name": "stdout"
        }
      ]
    },
    {
      "cell_type": "markdown",
      "metadata": {
        "id": "eT2fz8GW9kHZ"
      },
      "source": [
        "**Measures of dispersion**"
      ]
    },
    {
      "cell_type": "code",
      "metadata": {
        "colab": {
          "base_uri": "https://localhost:8080/"
        },
        "id": "g_S6vg_P9giv",
        "outputId": "ab1f6bc9-c3ba-4edd-aa1f-894fd7f0f7ed"
      },
      "source": [
        "#SKEWNESS\n",
        "for i, col_val in enumerate(colums_):\n",
        " print('The skewness of ' + str(col_val) + ' ' + 'is' + ' ' + str(colums_[col_val].skew()))"
      ],
      "execution_count": 52,
      "outputs": [
        {
          "output_type": "stream",
          "text": [
            "The skewness of Survived is 0.4845676297760328\n",
            "The skewness of Pclass is -0.6369977585999191\n",
            "The skewness of Sex is -0.6256254596365592\n",
            "The skewness of Age is 0.4569465528010798\n",
            "The skewness of SibSp is 3.6910576308362284\n",
            "The skewness of Parch is 2.74516012611158\n",
            "The skewness of Fare is 4.8008132483777715\n",
            "The skewness of Embarked is -1.2613666627421083\n"
          ],
          "name": "stdout"
        }
      ]
    },
    {
      "cell_type": "code",
      "metadata": {
        "colab": {
          "base_uri": "https://localhost:8080/"
        },
        "id": "8wbWzKyD9uNY",
        "outputId": "2754a15b-da48-404a-9a1b-6de096b2535c"
      },
      "source": [
        "##KUROSIS\n",
        "\n",
        "for i, col_val in enumerate(colums_):\n",
        " print('The kurtosis of ' + str(col_val) + ' ' + 'is' + ' ' + str(colums_[col_val].kurt()))"
      ],
      "execution_count": 53,
      "outputs": [
        {
          "output_type": "stream",
          "text": [
            "The kurtosis of Survived is -1.7691794454365986\n",
            "The kurtosis of Pclass is -1.2694374832322646\n",
            "The kurtosis of Sex is -1.612224913063432\n",
            "The kurtosis of Age is 0.9998448179824204\n",
            "The kurtosis of SibSp is 17.838972378994782\n",
            "The kurtosis of Parch is 9.750591705579096\n",
            "The kurtosis of Fare is 33.51127273742673\n",
            "The kurtosis of Embarked is -0.21609959440636795\n"
          ],
          "name": "stdout"
        }
      ]
    },
    {
      "cell_type": "code",
      "metadata": {
        "colab": {
          "base_uri": "https://localhost:8080/"
        },
        "id": "tFGeKiz__WUH",
        "outputId": "13672953-2f8d-447d-a313-a505ea087195"
      },
      "source": [
        "##RANGE\n",
        "\n",
        "x = {}\n",
        "\n",
        "for col in colums_:\n",
        "    x[col] = train[col].max()- train[col].min()\n",
        "range_= pd.Series(x)\n",
        "range_"
      ],
      "execution_count": 54,
      "outputs": [
        {
          "output_type": "execute_result",
          "data": {
            "text/plain": [
              "Survived      1\n",
              "Pclass        2\n",
              "Sex           1\n",
              "Age          80\n",
              "SibSp         8\n",
              "Parch         6\n",
              "Fare        512\n",
              "Embarked      2\n",
              "dtype: int64"
            ]
          },
          "metadata": {
            "tags": []
          },
          "execution_count": 54
        }
      ]
    },
    {
      "cell_type": "code",
      "metadata": {
        "colab": {
          "base_uri": "https://localhost:8080/"
        },
        "id": "Snfrjndc_8Ej",
        "outputId": "b8850a15-b744-415e-f31f-6354176404d2"
      },
      "source": [
        "##Standard Deviation\n",
        "\n",
        "x = {}\n",
        "\n",
        "for col in colums_:\n",
        "    x[col] = train[col].std()\n",
        "standard_dev_= pd.Series(x)\n",
        "standard_dev_"
      ],
      "execution_count": 55,
      "outputs": [
        {
          "output_type": "execute_result",
          "data": {
            "text/plain": [
              "Survived     0.486260\n",
              "Pclass       0.834700\n",
              "Sex          0.477538\n",
              "Age         12.979638\n",
              "SibSp        1.103705\n",
              "Parch        0.806761\n",
              "Fare        49.706915\n",
              "Embarked     0.792088\n",
              "dtype: float64"
            ]
          },
          "metadata": {
            "tags": []
          },
          "execution_count": 55
        }
      ]
    },
    {
      "cell_type": "markdown",
      "metadata": {
        "id": "hFor-YWJAhRt"
      },
      "source": [
        "**Univariate Visualizations**"
      ]
    },
    {
      "cell_type": "code",
      "metadata": {
        "colab": {
          "base_uri": "https://localhost:8080/",
          "height": 971
        },
        "id": "rzFtGphOAlhU",
        "outputId": "54dc02a5-301f-4d7a-b207-d19025241df9"
      },
      "source": [
        "train.hist(bins=10, figsize=(15,15))\n",
        "plt.suptitle(\"Numerical distributions\")\n",
        "plt.savefig('Histogram')\n",
        "plt.show()"
      ],
      "execution_count": 56,
      "outputs": [
        {
          "output_type": "display_data",
          "data": {
            "image/png": "[encoded data removed]",
            "text/plain": [
              "<Figure size 1080x1080 with 9 Axes>"
            ]
          },
          "metadata": {
            "tags": [],
            "needs_background": "light"
          }
        }
      ]
    },
    {
      "cell_type": "code",
      "metadata": {
        "colab": {
          "base_uri": "https://localhost:8080/"
        },
        "id": "GXK-pwGvVwa2",
        "outputId": "c51f55f1-8f08-4b7e-a2e8-41ffba2f3f7f"
      },
      "source": [
        "#Frequenct table of our y variable\n",
        "train.Survived.value_counts(normalize=True)"
      ],
      "execution_count": 57,
      "outputs": [
        {
          "output_type": "execute_result",
          "data": {
            "text/plain": [
              "0    0.617548\n",
              "1    0.382452\n",
              "Name: Survived, dtype: float64"
            ]
          },
          "metadata": {
            "tags": []
          },
          "execution_count": 57
        }
      ]
    },
    {
      "cell_type": "code",
      "metadata": {
        "id": "BwA8JC0kBC_u"
      },
      "source": [
        "##Univariate Analysis Summaries\n",
        "#1. Most of our features have a  positively skewed distribution in which most values are clustered around the left tail of the distribution while the right tail of the distribution is longer\n",
        "#2. Our SibSp and Parch and Fare have a leptokurtic distribution which shows heavy tails on either side, indicating large outliers.\n",
        "#3. Most of the passengers are aged 20-40\n",
        "#4. Most of the passengers were in PClass 3\n",
        "#5. Most of the passengers were male\n",
        "#6. Most of the passengers paid 0-50$ fare\n",
        "#7. Most of the passengers embarked at S - Southampton\n",
        "#8. Most of the passengers had 0 or 1 siblings or parents \n",
        "#9. Only 38% of our passengers survived"
      ],
      "execution_count": 58,
      "outputs": []
    },
    {
      "cell_type": "markdown",
      "metadata": {
        "id": "VFvEHQ60EE0U"
      },
      "source": [
        "**Bivariate Analysis**"
      ]
    },
    {
      "cell_type": "code",
      "metadata": {
        "colab": {
          "base_uri": "https://localhost:8080/",
          "height": 1000
        },
        "id": "KJmSGyn3EVuE",
        "outputId": "6313be65-c27f-4b95-c7ef-4f802f53a82e"
      },
      "source": [
        "#We will try to visualize the distribution of feature values using pairplots\n",
        "sns.pairplot(train)\n",
        "plt.show()"
      ],
      "execution_count": 59,
      "outputs": [
        {
          "output_type": "display_data",
          "data": {
            "image/png": "[encoded data removed]",
            "text/plain": [
              "<Figure size 1440x1440 with 72 Axes>"
            ]
          },
          "metadata": {
            "tags": [],
            "needs_background": "light"
          }
        }
      ]
    },
    {
      "cell_type": "markdown",
      "metadata": {
        "id": "vXj6OjHSFKFj"
      },
      "source": [
        "*Exploring the relationship between different features and our target variable*"
      ]
    },
    {
      "cell_type": "markdown",
      "metadata": {
        "id": "YizV6n9PFS_U"
      },
      "source": [
        "PClass and Survived"
      ]
    },
    {
      "cell_type": "code",
      "metadata": {
        "colab": {
          "base_uri": "https://localhost:8080/",
          "height": 302
        },
        "id": "sql9b-_tGmxw",
        "outputId": "2dee558a-162d-4974-dd41-d03bcdca83db"
      },
      "source": [
        "#PClass/Survive visualizations\n",
        "sns.set(style = 'whitegrid', context = 'notebook')\n",
        "sns.barplot(x='Pclass', y='Survived', data=train)"
      ],
      "execution_count": 60,
      "outputs": [
        {
          "output_type": "execute_result",
          "data": {
            "text/plain": [
              "<matplotlib.axes._subplots.AxesSubplot at 0x7f0a7c3348d0>"
            ]
          },
          "metadata": {
            "tags": []
          },
          "execution_count": 60
        },
        {
          "output_type": "display_data",
          "data": {
            "image/png": "[encoded data removed]",
            "text/plain": [
              "<Figure size 432x288 with 1 Axes>"
            ]
          },
          "metadata": {
            "tags": []
          }
        }
      ]
    },
    {
      "cell_type": "markdown",
      "metadata": {
        "id": "cIj0ygKtG8FI"
      },
      "source": [
        "SibSp "
      ]
    },
    {
      "cell_type": "code",
      "metadata": {
        "colab": {
          "base_uri": "https://localhost:8080/",
          "height": 302
        },
        "id": "2geudAmgGxfe",
        "outputId": "8f65fb19-0a1d-4a26-9396-45087302ba58"
      },
      "source": [
        "#SibSp/Survive visualizations\n",
        "sns.set(style = 'whitegrid', context = 'notebook')\n",
        "sns.barplot(x='SibSp', y='Survived', data=train)"
      ],
      "execution_count": 61,
      "outputs": [
        {
          "output_type": "execute_result",
          "data": {
            "text/plain": [
              "<matplotlib.axes._subplots.AxesSubplot at 0x7f0a7bdbfc90>"
            ]
          },
          "metadata": {
            "tags": []
          },
          "execution_count": 61
        },
        {
          "output_type": "display_data",
          "data": {
            "image/png": "[encoded data removed]",
            "text/plain": [
              "<Figure size 432x288 with 1 Axes>"
            ]
          },
          "metadata": {
            "tags": []
          }
        }
      ]
    },
    {
      "cell_type": "markdown",
      "metadata": {
        "id": "bLv-1iSoHRII"
      },
      "source": [
        "Parch"
      ]
    },
    {
      "cell_type": "code",
      "metadata": {
        "colab": {
          "base_uri": "https://localhost:8080/",
          "height": 302
        },
        "id": "tvxgkt5zHSbI",
        "outputId": "40046b6e-c5d8-4100-b252-c92c4b8d3bf1"
      },
      "source": [
        "#Parch/Survive visualizations\n",
        "sns.set(style = 'whitegrid', context = 'notebook')\n",
        "sns.barplot(x='Parch', y='Survived', data=train)"
      ],
      "execution_count": 62,
      "outputs": [
        {
          "output_type": "execute_result",
          "data": {
            "text/plain": [
              "<matplotlib.axes._subplots.AxesSubplot at 0x7f0a7a40f190>"
            ]
          },
          "metadata": {
            "tags": []
          },
          "execution_count": 62
        },
        {
          "output_type": "display_data",
          "data": {
            "image/png": "[encoded data removed]",
            "text/plain": [
              "<Figure size 432x288 with 1 Axes>"
            ]
          },
          "metadata": {
            "tags": []
          }
        }
      ]
    },
    {
      "cell_type": "markdown",
      "metadata": {
        "id": "fcxKm_uYJrfp"
      },
      "source": [
        "Embarked"
      ]
    },
    {
      "cell_type": "code",
      "metadata": {
        "colab": {
          "base_uri": "https://localhost:8080/",
          "height": 302
        },
        "id": "gSsDop2YJtCY",
        "outputId": "0a11275b-f881-494c-ba15-c344764f92c1"
      },
      "source": [
        "#Embarked/Survive visualizations\n",
        "sns.set(style = 'whitegrid', context = 'notebook')\n",
        "sns.barplot(x='Embarked', y='Survived', data=train)"
      ],
      "execution_count": 63,
      "outputs": [
        {
          "output_type": "execute_result",
          "data": {
            "text/plain": [
              "<matplotlib.axes._subplots.AxesSubplot at 0x7f0a7bcbef90>"
            ]
          },
          "metadata": {
            "tags": []
          },
          "execution_count": 63
        },
        {
          "output_type": "display_data",
          "data": {
            "image/png": "[encoded data removed]",
            "text/plain": [
              "<Figure size 432x288 with 1 Axes>"
            ]
          },
          "metadata": {
            "tags": []
          }
        }
      ]
    },
    {
      "cell_type": "markdown",
      "metadata": {
        "id": "8g66q_bUJ7kI"
      },
      "source": [
        "Sex"
      ]
    },
    {
      "cell_type": "code",
      "metadata": {
        "colab": {
          "base_uri": "https://localhost:8080/"
        },
        "id": "MCOMT69_LzQj",
        "outputId": "01e2e35c-a105-432a-c3c8-c94dc9c6eb48"
      },
      "source": [
        "train.groupby('Sex')['Survived'].sum()"
      ],
      "execution_count": 64,
      "outputs": [
        {
          "output_type": "execute_result",
          "data": {
            "text/plain": [
              "Sex\n",
              "0    231\n",
              "1    109\n",
              "Name: Survived, dtype: int64"
            ]
          },
          "metadata": {
            "tags": []
          },
          "execution_count": 64
        }
      ]
    },
    {
      "cell_type": "code",
      "metadata": {
        "colab": {
          "base_uri": "https://localhost:8080/",
          "height": 302
        },
        "id": "r7Q-l0U5J8tP",
        "outputId": "91568414-50a8-41f2-9eb5-ac7378adc4c2"
      },
      "source": [
        "#Sex/Survive visualizations\n",
        "sns.set(style = 'whitegrid', context = 'notebook')\n",
        "sns.barplot(x='Sex', y='Survived', data=train)"
      ],
      "execution_count": 65,
      "outputs": [
        {
          "output_type": "execute_result",
          "data": {
            "text/plain": [
              "<matplotlib.axes._subplots.AxesSubplot at 0x7f0a7a353710>"
            ]
          },
          "metadata": {
            "tags": []
          },
          "execution_count": 65
        },
        {
          "output_type": "display_data",
          "data": {
            "image/png": "[encoded data removed]",
            "text/plain": [
              "<Figure size 432x288 with 1 Axes>"
            ]
          },
          "metadata": {
            "tags": []
          }
        }
      ]
    },
    {
      "cell_type": "markdown",
      "metadata": {
        "id": "TQRV84zbHjBY"
      },
      "source": [
        "Fare"
      ]
    },
    {
      "cell_type": "code",
      "metadata": {
        "colab": {
          "base_uri": "https://localhost:8080/",
          "height": 502
        },
        "id": "SdpwCJMWHfFm",
        "outputId": "975b1321-eaa7-4f94-c3d6-6a1daf3fa0ec"
      },
      "source": [
        "#Fare/Survived visualization\n",
        "\n",
        "fig, axes = plt.subplots(2,1,figsize=(8,6))\n",
        "\n",
        "ax0 = axes[0]\n",
        "ax0.set_title('Fare survived distribution')\n",
        "k1 = sns.distplot(train[train.Survived==0].Fare, hist=False, color='r', ax=ax0, label='Not Survive')\n",
        "k2 = sns.distplot(train[train.Survived==1].Fare, hist=False, color='g', ax=ax0, label='Survived')\n",
        "ax0.set_xlabel('')"
      ],
      "execution_count": 66,
      "outputs": [
        {
          "output_type": "stream",
          "text": [
            "/usr/local/lib/python3.7/dist-packages/seaborn/distributions.py:2557: FutureWarning: `distplot` is a deprecated function and will be removed in a future version. Please adapt your code to use either `displot` (a figure-level function with similar flexibility) or `kdeplot` (an axes-level function for kernel density plots).\n",
            "  warnings.warn(msg, FutureWarning)\n",
            "/usr/local/lib/python3.7/dist-packages/seaborn/distributions.py:2557: FutureWarning: `distplot` is a deprecated function and will be removed in a future version. Please adapt your code to use either `displot` (a figure-level function with similar flexibility) or `kdeplot` (an axes-level function for kernel density plots).\n",
            "  warnings.warn(msg, FutureWarning)\n"
          ],
          "name": "stderr"
        },
        {
          "output_type": "execute_result",
          "data": {
            "text/plain": [
              "Text(0.5, 0, '')"
            ]
          },
          "metadata": {
            "tags": []
          },
          "execution_count": 66
        },
        {
          "output_type": "display_data",
          "data": {
            "image/png": "[encoded data removed]",
            "text/plain": [
              "<Figure size 576x432 with 2 Axes>"
            ]
          },
          "metadata": {
            "tags": []
          }
        }
      ]
    },
    {
      "cell_type": "markdown",
      "metadata": {
        "id": "383qcuwfJHzh"
      },
      "source": [
        "Age"
      ]
    },
    {
      "cell_type": "code",
      "metadata": {
        "colab": {
          "base_uri": "https://localhost:8080/",
          "height": 502
        },
        "id": "MnmY0qJoFuT6",
        "outputId": "eaa7ac93-cecc-4f6d-de6e-56eb70ef7aa1"
      },
      "source": [
        "fig, axes = plt.subplots(2,1,figsize=(8,6))\n",
        "ax0 = axes[0]\n",
        "ax0.set_title('Age survived distribution')\n",
        "k1 = sns.distplot(train[train.Survived==0].Age, hist=False, color='r', ax=ax0, label='Not Survive')\n",
        "k2 = sns.distplot(train[train.Survived==1].Age, hist=False, color='k', ax=ax0, label='Survived')\n",
        "ax0.set_xlabel('')"
      ],
      "execution_count": 67,
      "outputs": [
        {
          "output_type": "stream",
          "text": [
            "/usr/local/lib/python3.7/dist-packages/seaborn/distributions.py:2557: FutureWarning: `distplot` is a deprecated function and will be removed in a future version. Please adapt your code to use either `displot` (a figure-level function with similar flexibility) or `kdeplot` (an axes-level function for kernel density plots).\n",
            "  warnings.warn(msg, FutureWarning)\n",
            "/usr/local/lib/python3.7/dist-packages/seaborn/distributions.py:2557: FutureWarning: `distplot` is a deprecated function and will be removed in a future version. Please adapt your code to use either `displot` (a figure-level function with similar flexibility) or `kdeplot` (an axes-level function for kernel density plots).\n",
            "  warnings.warn(msg, FutureWarning)\n"
          ],
          "name": "stderr"
        },
        {
          "output_type": "execute_result",
          "data": {
            "text/plain": [
              "Text(0.5, 0, '')"
            ]
          },
          "metadata": {
            "tags": []
          },
          "execution_count": 67
        },
        {
          "output_type": "display_data",
          "data": {
            "image/png": "[encoded data removed]",
            "text/plain": [
              "<Figure size 576x432 with 2 Axes>"
            ]
          },
          "metadata": {
            "tags": []
          }
        }
      ]
    },
    {
      "cell_type": "code",
      "metadata": {
        "id": "W01YQsveK6Gw"
      },
      "source": [
        "##From the above, we realize that\n",
        "# PClass - Class 1 had the highest survival chances, and class 3 has the lowest survival rate\n",
        "# Female passengers had higher survival chances than males\n",
        "# Those who paid more fare had higher survival chances than those who did not"
      ],
      "execution_count": 68,
      "outputs": []
    },
    {
      "cell_type": "markdown",
      "metadata": {
        "id": "SfrrSm-3NWCq"
      },
      "source": [
        "**Correlation**"
      ]
    },
    {
      "cell_type": "code",
      "metadata": {
        "colab": {
          "base_uri": "https://localhost:8080/",
          "height": 1000
        },
        "id": "keUYKplqNbAW",
        "outputId": "abb8af3f-77dc-4c6f-f34d-0cf855d4e8fd"
      },
      "source": [
        "corr = train.corr()\n",
        "plt.figure(figsize=(20,20))\n",
        "sns.set(font_scale=1)\n",
        "sns.heatmap(corr,vmax=1, cmap= 'magma', annot=False, square=True)\n",
        "plt.show()"
      ],
      "execution_count": 69,
      "outputs": [
        {
          "output_type": "display_data",
          "data": {
            "image/png": "[encoded data removed]",
            "text/plain": [
              "<Figure size 1440x1440 with 2 Axes>"
            ]
          },
          "metadata": {
            "tags": []
          }
        }
      ]
    },
    {
      "cell_type": "code",
      "metadata": {
        "colab": {
          "base_uri": "https://localhost:8080/"
        },
        "id": "kMo75A1TOcaS",
        "outputId": "277ba2ce-82e2-43b5-f3c4-8c4a576953b9"
      },
      "source": [
        "corr_list= corr['Survived'].sort_values(axis=0,ascending=False)\n",
        "corr_list"
      ],
      "execution_count": 70,
      "outputs": [
        {
          "output_type": "execute_result",
          "data": {
            "text/plain": [
              "Survived    1.000000\n",
              "Fare        0.255447\n",
              "Parch       0.083151\n",
              "SibSp      -0.034040\n",
              "Age        -0.072695\n",
              "Embarked   -0.169718\n",
              "Pclass     -0.335549\n",
              "Sex        -0.541585\n",
              "Name: Survived, dtype: float64"
            ]
          },
          "metadata": {
            "tags": []
          },
          "execution_count": 70
        }
      ]
    },
    {
      "cell_type": "markdown",
      "metadata": {
        "id": "DG_A_nfMO9SD"
      },
      "source": [
        "KNN Model results can be affected by multicollinearity hence we will check for instances of it using the VIF"
      ]
    },
    {
      "cell_type": "code",
      "metadata": {
        "colab": {
          "base_uri": "https://localhost:8080/",
          "height": 508
        },
        "id": "JRzmMp12PMFC",
        "outputId": "5ff756ea-b2bd-45d0-ad17-cc77fab6a790"
      },
      "source": [
        "#Visualzing the VIF using a heatmap\n",
        "\n",
        "vif = pd.DataFrame(np.linalg.inv(corr.values),index=corr.index,columns=corr.columns )\n",
        "plt.figure(figsize = (23, 8))\n",
        "sns.heatmap(vif, annot = True, center = 0, cmap=\"afmhot\")\n",
        "plt.title('VIF Visualization', fontsize = 15)\n",
        "plt.show()"
      ],
      "execution_count": 71,
      "outputs": [
        {
          "output_type": "display_data",
          "data": {
            "image/png": "[encoded data removed]",
            "text/plain": [
              "<Figure size 1656x576 with 2 Axes>"
            ]
          },
          "metadata": {
            "tags": []
          }
        }
      ]
    },
    {
      "cell_type": "markdown",
      "metadata": {
        "id": "DrDhNbHQQC3w"
      },
      "source": [
        "There is no high multicollinearity with our data hence we will move to the next step of building our models"
      ]
    },
    {
      "cell_type": "markdown",
      "metadata": {
        "id": "ZoHRJJPRQL1S"
      },
      "source": [
        "#**Implementing the Solution**"
      ]
    },
    {
      "cell_type": "code",
      "metadata": {
        "id": "QlF4vIPSQQ96"
      },
      "source": [
        "#We will now build a K-Nearest Neighbours model to predict whether a passenger survived or not\n",
        "#According to our instrutions, we are to Randomly partition each dataset into two parts i.e 80 - 20  sets.\n",
        "#We will use the train set to create train and test data (i.e. splitting further), then perform K-nearest neighbor classification."
      ],
      "execution_count": 72,
      "outputs": []
    },
    {
      "cell_type": "code",
      "metadata": {
        "id": "epIRWFzURJCw"
      },
      "source": [
        "#We will define our train and test features \n",
        "\n",
        "X = train[['Pclass', 'Sex', 'Age', 'SibSp', 'Parch', 'Fare','Embarked']]\n",
        "y = train['Survived']\n"
      ],
      "execution_count": 73,
      "outputs": []
    },
    {
      "cell_type": "code",
      "metadata": {
        "id": "V5aUoqVqTflf"
      },
      "source": [
        "#Since KNN is a distance based algorithm, All such distance based algorithms are affected by the scale of the variables hence we will need to scale our features"
      ],
      "execution_count": 74,
      "outputs": []
    },
    {
      "cell_type": "code",
      "metadata": {
        "colab": {
          "base_uri": "https://localhost:8080/"
        },
        "id": "4foFRz_KUttr",
        "outputId": "14f5cd99-fddb-4dcd-f006-f5d5fc5fcb71"
      },
      "source": [
        "from sklearn.preprocessing import StandardScaler\n",
        "\n",
        "scaler = StandardScaler()\n",
        "scaler.fit_transform(X)"
      ],
      "execution_count": 75,
      "outputs": [
        {
          "output_type": "execute_result",
          "data": {
            "text/plain": [
              "array([[ 0.82520863,  0.73534203, -0.57802333, ..., -0.47432585,\n",
              "        -0.49673282,  0.58683958],\n",
              "       [-1.57221121, -1.35991138,  0.65537059, ..., -0.47432585,\n",
              "         0.79153916, -1.93955453],\n",
              "       [ 0.82520863, -1.35991138, -0.26967485, ..., -0.47432585,\n",
              "        -0.49673282,  0.58683958],\n",
              "       ...,\n",
              "       [ 0.82520863, -1.35991138, -0.03841349, ...,  2.00611934,\n",
              "        -0.17466483,  0.58683958],\n",
              "       [-1.57221121,  0.73534203, -0.26967485, ..., -0.47432585,\n",
              "        -0.03376008, -1.93955453],\n",
              "       [ 0.82520863,  0.73534203,  0.19284787, ..., -0.47432585,\n",
              "        -0.49673282, -0.67635748]])"
            ]
          },
          "metadata": {
            "tags": []
          },
          "execution_count": 75
        }
      ]
    },
    {
      "cell_type": "markdown",
      "metadata": {
        "id": "ysPZ8ppKU8Wk"
      },
      "source": [
        "80/20 train and test splits"
      ]
    },
    {
      "cell_type": "code",
      "metadata": {
        "id": "gnx7EPHgVA5n"
      },
      "source": [
        "# Our first split will be based on an 80/20 split\n",
        "\n",
        "X_train, X_test, y_train, y_test = train_test_split(X,y, test_size = 0.2, random_state=0)"
      ],
      "execution_count": 76,
      "outputs": []
    },
    {
      "cell_type": "code",
      "metadata": {
        "id": "_bPuM-kKVzCA"
      },
      "source": [
        "#Fitting our model \n",
        "\n",
        "clf = KNeighborsClassifier()\n",
        "clf = clf.fit(X_train, y_train)"
      ],
      "execution_count": 77,
      "outputs": []
    },
    {
      "cell_type": "code",
      "metadata": {
        "id": "535Aim0hWA5s"
      },
      "source": [
        "# predicting \n",
        "\n",
        "y_pred = clf.predict(X_test)\n",
        "\n",
        "# comparing the actual and predicted values\n",
        "\n",
        "comparison_frame = pd.DataFrame({'Actual': y_test, 'Predicted': y_pred})"
      ],
      "execution_count": 78,
      "outputs": []
    },
    {
      "cell_type": "code",
      "metadata": {
        "colab": {
          "base_uri": "https://localhost:8080/"
        },
        "id": "D-EpdqjQWOoK",
        "outputId": "12e25034-585b-4ed2-e404-588574197cf1"
      },
      "source": [
        "#Evaluating our model\n",
        "print('The accuracy of the model is ',metrics.accuracy_score(y_test, y_pred))\n",
        "\n",
        "print('\\n', 'Confusion matrix')\n",
        "print(confusion_matrix(y_test, y_pred))\n",
        "\n",
        "print('\\n', 'Classification report')\n",
        "print(classification_report(y_test, y_pred))"
      ],
      "execution_count": 79,
      "outputs": [
        {
          "output_type": "stream",
          "text": [
            "The accuracy of the model is  0.7078651685393258\n",
            "\n",
            " Confusion matrix\n",
            "[[80 25]\n",
            " [27 46]]\n",
            "\n",
            " Classification report\n",
            "              precision    recall  f1-score   support\n",
            "\n",
            "           0       0.75      0.76      0.75       105\n",
            "           1       0.65      0.63      0.64        73\n",
            "\n",
            "    accuracy                           0.71       178\n",
            "   macro avg       0.70      0.70      0.70       178\n",
            "weighted avg       0.71      0.71      0.71       178\n",
            "\n"
          ],
          "name": "stdout"
        }
      ]
    },
    {
      "cell_type": "code",
      "metadata": {
        "id": "baSz8C9wW7R9"
      },
      "source": [
        "##The report shows the main classification metrics precision, recall and f1-score on a per-class basis. The metrics are calculated by using true and false positives, true and false negatives\n",
        "##Our accuracy score is at 70% \n",
        "##We will now compare with an optimized model to compare the scores"
      ],
      "execution_count": 80,
      "outputs": []
    },
    {
      "cell_type": "markdown",
      "metadata": {
        "id": "PahfrVEkcyJ9"
      },
      "source": [
        "70/30 splits"
      ]
    },
    {
      "cell_type": "code",
      "metadata": {
        "id": "PyLHt7ifc0ab"
      },
      "source": [
        "# Our second split will be based on an 70/30 split\n",
        "\n",
        "X_train, X_test, y_train, y_test = train_test_split(X,y, test_size = 0.3, random_state=0)"
      ],
      "execution_count": 81,
      "outputs": []
    },
    {
      "cell_type": "code",
      "metadata": {
        "id": "ZVx5rfERdEN1"
      },
      "source": [
        "#Fitting our model \n",
        "\n",
        "clf = KNeighborsClassifier()\n",
        "clf = clf.fit(X_train, y_train)"
      ],
      "execution_count": 82,
      "outputs": []
    },
    {
      "cell_type": "code",
      "metadata": {
        "id": "Wpu0yfURdQq1"
      },
      "source": [
        "# predicting \n",
        "\n",
        "y_pred = clf.predict(X_test)\n",
        "\n",
        "# comparing the actual and predicted values\n",
        "\n",
        "comparison_frame = pd.DataFrame({'Actual': y_test, 'Predicted': y_pred})"
      ],
      "execution_count": 83,
      "outputs": []
    },
    {
      "cell_type": "code",
      "metadata": {
        "colab": {
          "base_uri": "https://localhost:8080/"
        },
        "id": "4djHDr74daai",
        "outputId": "5164c886-ca2f-4b6d-bd2a-046d9f7e3ec4"
      },
      "source": [
        "#Evaluating our model\n",
        "print('The accuracy of the model is ',metrics.accuracy_score(y_test, y_pred))\n",
        "\n",
        "print('\\n', 'Confusion matrix')\n",
        "print(confusion_matrix(y_test, y_pred))\n",
        "\n",
        "print('\\n', 'Classification report')\n",
        "print(classification_report(y_test, y_pred))"
      ],
      "execution_count": 84,
      "outputs": [
        {
          "output_type": "stream",
          "text": [
            "The accuracy of the model is  0.7228464419475655\n",
            "\n",
            " Confusion matrix\n",
            "[[123  34]\n",
            " [ 40  70]]\n",
            "\n",
            " Classification report\n",
            "              precision    recall  f1-score   support\n",
            "\n",
            "           0       0.75      0.78      0.77       157\n",
            "           1       0.67      0.64      0.65       110\n",
            "\n",
            "    accuracy                           0.72       267\n",
            "   macro avg       0.71      0.71      0.71       267\n",
            "weighted avg       0.72      0.72      0.72       267\n",
            "\n"
          ],
          "name": "stdout"
        }
      ]
    },
    {
      "cell_type": "markdown",
      "metadata": {
        "id": "2Fcx6gwkipOL"
      },
      "source": [
        "*KNN: 60/40 splits*"
      ]
    },
    {
      "cell_type": "code",
      "metadata": {
        "id": "OZBxqe36iyW1"
      },
      "source": [
        "# Our second split will be based on an 60/40 split\n",
        "\n",
        "X_train, X_test, y_train, y_test = train_test_split(X,y, test_size = 0.4, random_state=0)"
      ],
      "execution_count": 85,
      "outputs": []
    },
    {
      "cell_type": "code",
      "metadata": {
        "id": "3o192zu6jAd2"
      },
      "source": [
        "#Fitting our model \n",
        "\n",
        "clf = KNeighborsClassifier()\n",
        "clf = clf.fit(X_train, y_train)"
      ],
      "execution_count": 86,
      "outputs": []
    },
    {
      "cell_type": "code",
      "metadata": {
        "id": "fcxDls8-jGL6"
      },
      "source": [
        "# predicting \n",
        "\n",
        "y_pred = clf.predict(X_test)\n",
        "\n",
        "# comparing the actual and predicted values\n",
        "\n",
        "comparison_frame = pd.DataFrame({'Actual': y_test, 'Predicted': y_pred})"
      ],
      "execution_count": 87,
      "outputs": []
    },
    {
      "cell_type": "code",
      "metadata": {
        "colab": {
          "base_uri": "https://localhost:8080/"
        },
        "id": "A3qOGIBbjK_F",
        "outputId": "b4d9842e-ad95-4856-dce2-3a75f1e26e6d"
      },
      "source": [
        "#Evaluating our model\n",
        "print('The accuracy of the model is ',metrics.accuracy_score(y_test, y_pred))\n",
        "\n",
        "print('\\n', 'Confusion matrix')\n",
        "print(confusion_matrix(y_test, y_pred))\n",
        "\n",
        "print('\\n', 'Classification report')\n",
        "print(classification_report(y_test, y_pred))"
      ],
      "execution_count": 88,
      "outputs": [
        {
          "output_type": "stream",
          "text": [
            "The accuracy of the model is  0.7247191011235955\n",
            "\n",
            " Confusion matrix\n",
            "[[169  47]\n",
            " [ 51  89]]\n",
            "\n",
            " Classification report\n",
            "              precision    recall  f1-score   support\n",
            "\n",
            "           0       0.77      0.78      0.78       216\n",
            "           1       0.65      0.64      0.64       140\n",
            "\n",
            "    accuracy                           0.72       356\n",
            "   macro avg       0.71      0.71      0.71       356\n",
            "weighted avg       0.72      0.72      0.72       356\n",
            "\n"
          ],
          "name": "stdout"
        }
      ]
    },
    {
      "cell_type": "code",
      "metadata": {
        "id": "_hV8QL3Qmym0"
      },
      "source": [
        "##Findings\n",
        "#1. Our best performing model is the one with the 60/40 split based on an accuracy score of 72.4% and the precision, recall and f1- score.\n",
        "#  The low scores could be a result of different factors i.e data accuracy, \n",
        "#We will try to improve our model performance using optimization techniques learnt and testing it against our test dataset"
      ],
      "execution_count": 89,
      "outputs": []
    },
    {
      "cell_type": "markdown",
      "metadata": {
        "id": "5m0CBw9uoEmY"
      },
      "source": [
        "#**Challenging the solution**"
      ]
    },
    {
      "cell_type": "markdown",
      "metadata": {
        "id": "mRFhUlRmp9RK"
      },
      "source": [
        "*Optimization of the KNN model*"
      ]
    },
    {
      "cell_type": "code",
      "metadata": {
        "id": "fnnupyRnqKeT"
      },
      "source": [
        "#We will try to find the best value of k to use using the best model we got in our tests above"
      ],
      "execution_count": 90,
      "outputs": []
    },
    {
      "cell_type": "code",
      "metadata": {
        "id": "UbUv8nU7qU-f"
      },
      "source": [
        "#Finding the best value of K\n",
        "\n",
        "k_values = range(1,15)\n",
        "score = []\n",
        "for k in k_values:\n",
        "    knn_clf = KNeighborsClassifier(n_neighbors=k)\n",
        "    knn_clf.fit(X_train,y_train)\n",
        "    y_pred = knn_clf.predict(X_test)\n",
        "    score.append(metrics.accuracy_score(y_test,y_pred))\n"
      ],
      "execution_count": 91,
      "outputs": []
    },
    {
      "cell_type": "code",
      "metadata": {
        "id": "eR5ZZvEFrYiY"
      },
      "source": [
        "##Visualizing the scores to pick the best value of k"
      ],
      "execution_count": 92,
      "outputs": []
    },
    {
      "cell_type": "code",
      "metadata": {
        "colab": {
          "base_uri": "https://localhost:8080/",
          "height": 302
        },
        "id": "IlQjBYA6r1h2",
        "outputId": "245b522b-0444-4a8d-a93d-cf83d948b5dd"
      },
      "source": [
        "plt.plot(k_values, score)\n",
        "plt.xlabel('Value of K')\n",
        "plt.ylabel('Accuracy')\n",
        "\n",
        "#K-value of 5 has the highest accuracy"
      ],
      "execution_count": 93,
      "outputs": [
        {
          "output_type": "execute_result",
          "data": {
            "text/plain": [
              "Text(0, 0.5, 'Accuracy')"
            ]
          },
          "metadata": {
            "tags": []
          },
          "execution_count": 93
        },
        {
          "output_type": "display_data",
          "data": {
            "image/png": "[encoded data removed]",
            "text/plain": [
              "<Figure size 432x288 with 1 Axes>"
            ]
          },
          "metadata": {
            "tags": []
          }
        }
      ]
    },
    {
      "cell_type": "markdown",
      "metadata": {
        "id": "DOPZrS6UuWki"
      },
      "source": [
        "*Hyperparameter Tuning*"
      ]
    },
    {
      "cell_type": "code",
      "metadata": {
        "id": "DjzxCsVML8bP"
      },
      "source": [
        "X = train[['Pclass', 'Sex', 'Age', 'SibSp', 'Parch', 'Fare','Embarked']]\n",
        "y = train['Survived']"
      ],
      "execution_count": 94,
      "outputs": []
    },
    {
      "cell_type": "code",
      "metadata": {
        "id": "xJaW5h-luaXq"
      },
      "source": [
        "#Defining the hyperparameters we will use\n",
        "#n_neighbors = list(range(1,30))\n",
        "#n_neighbors = n_neighbors\n",
        "#leaf_size = list(range(1,30))\n",
        "#p = [1,2]\n",
        "#metric = ['manhattan', 'euclidean', 'minkowski']"
      ],
      "execution_count": 95,
      "outputs": []
    },
    {
      "cell_type": "code",
      "metadata": {
        "id": "yvOgSUlKvya8"
      },
      "source": [
        "#Creating a dictionary with the hyperparameter values\n",
        "#hyperparameters = dict(leaf_size = leaf_size, p=p, metric = metric)\n",
        "\n",
        "hyperparameters={'n_neighbors': np.arange(1,20), 'weights':['uniform', 'distance']}"
      ],
      "execution_count": 96,
      "outputs": []
    },
    {
      "cell_type": "code",
      "metadata": {
        "id": "lJS4FTlKv08U",
        "colab": {
          "base_uri": "https://localhost:8080/"
        },
        "outputId": "83a59310-a06a-47be-a410-dea997af5ed5"
      },
      "source": [
        "##Our splits\n",
        "X_train, X_test, y_train, y_test = train_test_split(X,y, test_size = 0.4, random_state=0)\n",
        "\n",
        "#Gridsearh to find best params\n",
        "from sklearn.model_selection import GridSearchCV\n",
        "\n",
        "clf = GridSearchCV(KNeighborsClassifier(), hyperparameters,cv=5, scoring = 'accuracy')\n",
        "clf = clf.fit(X_train, y_train)\n",
        "\n",
        "print(clf.best_params_)"
      ],
      "execution_count": 97,
      "outputs": [
        {
          "output_type": "stream",
          "text": [
            "{'n_neighbors': 5, 'weights': 'uniform'}\n"
          ],
          "name": "stdout"
        }
      ]
    },
    {
      "cell_type": "code",
      "metadata": {
        "id": "_rHXwPlouspR"
      },
      "source": [
        "#Creating a better model based on the parameters given to us by the greadsearch"
      ],
      "execution_count": 98,
      "outputs": []
    },
    {
      "cell_type": "code",
      "metadata": {
        "id": "78CDm1TNwmIC"
      },
      "source": [
        "# predicting and evaluating the model\n",
        "\n",
        "y_pred = clf.best_estimator_.predict(X_test)\n",
        "\n",
        "comparison_frame = pd.DataFrame({'Actual': y_test, 'Predicted': y_pred})"
      ],
      "execution_count": 99,
      "outputs": []
    },
    {
      "cell_type": "code",
      "metadata": {
        "id": "Rybyo_h-wvdT",
        "colab": {
          "base_uri": "https://localhost:8080/"
        },
        "outputId": "822264ad-989a-4546-be13-e17f64890981"
      },
      "source": [
        "#Evaluating our model\n",
        "print('The accuracy of the model is ',metrics.accuracy_score(y_test, y_pred))\n",
        "\n",
        "print('\\n', 'Confusion matrix')\n",
        "print(confusion_matrix(y_test, y_pred))\n",
        "\n",
        "print('\\n', 'Classification report')\n",
        "print(classification_report(y_test, y_pred))"
      ],
      "execution_count": 100,
      "outputs": [
        {
          "output_type": "stream",
          "text": [
            "The accuracy of the model is  0.7247191011235955\n",
            "\n",
            " Confusion matrix\n",
            "[[169  47]\n",
            " [ 51  89]]\n",
            "\n",
            " Classification report\n",
            "              precision    recall  f1-score   support\n",
            "\n",
            "           0       0.77      0.78      0.78       216\n",
            "           1       0.65      0.64      0.64       140\n",
            "\n",
            "    accuracy                           0.72       356\n",
            "   macro avg       0.71      0.71      0.71       356\n",
            "weighted avg       0.72      0.72      0.72       356\n",
            "\n"
          ],
          "name": "stdout"
        }
      ]
    },
    {
      "cell_type": "code",
      "metadata": {
        "id": "DgjjuFbaXixD"
      },
      "source": [
        "##Our model is still not in its best form, this leaves room for exploration of other aspects of our datasets that we might have overlooked eg. The names and Cabin column can be used to extract titles\n",
        "##And Cabin labels that could signify class\n"
      ],
      "execution_count": 101,
      "outputs": []
    },
    {
      "cell_type": "markdown",
      "metadata": {
        "id": "hhXv3v3dnT7R"
      },
      "source": [
        "**Comparing the performance of Random forest classifier with our KNN Model**"
      ]
    },
    {
      "cell_type": "code",
      "metadata": {
        "id": "bRIjPUfNimj7"
      },
      "source": [
        "X = train[['Pclass', 'Sex', 'Age', 'SibSp', 'Parch', 'Fare','Embarked']]\n",
        "y = train['Survived']"
      ],
      "execution_count": 102,
      "outputs": []
    },
    {
      "cell_type": "code",
      "metadata": {
        "id": "1cuMUb0ZirWJ"
      },
      "source": [
        "# set the gridsearch parameters for the RandomForest Classifier\n",
        "rf_param_grid={'n_estimators': [10, 15, 20], 'max_depth':[5, 10, 15], \\\n",
        "                 'max_leaf_nodes':np.arange(2,10), 'min_samples_split':[5, 10, 15]}"
      ],
      "execution_count": 103,
      "outputs": []
    },
    {
      "cell_type": "code",
      "metadata": {
        "colab": {
          "base_uri": "https://localhost:8080/"
        },
        "id": "jLwhFVjDjBb-",
        "outputId": "c425d5e1-a43c-426d-e30e-3bd9f34bfa5b"
      },
      "source": [
        "rf_grid_search = GridSearchCV(RandomForestClassifier(), rf_param_grid, cv=5, scoring='accuracy')\n",
        "rf_grid_search.fit(X_train, y_train)"
      ],
      "execution_count": 104,
      "outputs": [
        {
          "output_type": "execute_result",
          "data": {
            "text/plain": [
              "GridSearchCV(cv=5, error_score=nan,\n",
              "             estimator=RandomForestClassifier(bootstrap=True, ccp_alpha=0.0,\n",
              "                                              class_weight=None,\n",
              "                                              criterion='gini', max_depth=None,\n",
              "                                              max_features='auto',\n",
              "                                              max_leaf_nodes=None,\n",
              "                                              max_samples=None,\n",
              "                                              min_impurity_decrease=0.0,\n",
              "                                              min_impurity_split=None,\n",
              "                                              min_samples_leaf=1,\n",
              "                                              min_samples_split=2,\n",
              "                                              min_weight_fraction_leaf=0.0,\n",
              "                                              n_estimators=100, n_jobs=None,\n",
              "                                              oob_score=False,\n",
              "                                              random_state=None, verbose=0,\n",
              "                                              warm_start=False),\n",
              "             iid='deprecated', n_jobs=None,\n",
              "             param_grid={'max_depth': [5, 10, 15],\n",
              "                         'max_leaf_nodes': array([2, 3, 4, 5, 6, 7, 8, 9]),\n",
              "                         'min_samples_split': [5, 10, 15],\n",
              "                         'n_estimators': [10, 15, 20]},\n",
              "             pre_dispatch='2*n_jobs', refit=True, return_train_score=False,\n",
              "             scoring='accuracy', verbose=0)"
            ]
          },
          "metadata": {
            "tags": []
          },
          "execution_count": 104
        }
      ]
    },
    {
      "cell_type": "code",
      "metadata": {
        "id": "y2xHyJACmzsJ"
      },
      "source": [
        "# predicting and evaluating the model\n",
        "\n",
        "\n",
        "y_pred = rf_grid_search.best_estimator_.predict(X_test)\n",
        "\n",
        "\n",
        "comparison_frame = pd.DataFrame({'Actual': y_test, 'Predicted': y_pred})"
      ],
      "execution_count": 105,
      "outputs": []
    },
    {
      "cell_type": "code",
      "metadata": {
        "colab": {
          "base_uri": "https://localhost:8080/"
        },
        "id": "mwlT6WElnIbG",
        "outputId": "e640951c-7366-49d5-899d-52e29454c6e1"
      },
      "source": [
        "#Evaluating our model\n",
        "print('The accuracy of the model is ',metrics.accuracy_score(y_test, y_pred))\n",
        "\n",
        "print('\\n', 'Confusion matrix')\n",
        "print(confusion_matrix(y_test, y_pred))\n",
        "\n",
        "print('\\n', 'Classification report')\n",
        "print(classification_report(y_test, y_pred))"
      ],
      "execution_count": 106,
      "outputs": [
        {
          "output_type": "stream",
          "text": [
            "The accuracy of the model is  0.7865168539325843\n",
            "\n",
            " Confusion matrix\n",
            "[[188  28]\n",
            " [ 48  92]]\n",
            "\n",
            " Classification report\n",
            "              precision    recall  f1-score   support\n",
            "\n",
            "           0       0.80      0.87      0.83       216\n",
            "           1       0.77      0.66      0.71       140\n",
            "\n",
            "    accuracy                           0.79       356\n",
            "   macro avg       0.78      0.76      0.77       356\n",
            "weighted avg       0.78      0.79      0.78       356\n",
            "\n"
          ],
          "name": "stdout"
        }
      ]
    },
    {
      "cell_type": "code",
      "metadata": {
        "id": "rSX395byni-q"
      },
      "source": [
        "##According to the confusion matrix and F1 scores, the Random forest model does a better job at predicting our traget variable with an accuracy score at 78%"
      ],
      "execution_count": 107,
      "outputs": []
    },
    {
      "cell_type": "code",
      "metadata": {
        "colab": {
          "base_uri": "https://localhost:8080/",
          "height": 202
        },
        "id": "qmQoO_cMobrq",
        "outputId": "894e98ac-4e67-4e6c-b739-e9d8d893fe36"
      },
      "source": [
        "#Convert the dataframe to a list\n",
        "tes_t= test.values.tolist()\n",
        "\n",
        "# predict using the test dataset\n",
        "y_pred = clf.predict(tes_t)\n",
        "\n",
        "#Adding the predicted values to our dataset\n",
        "test['Survived'] = y_pred\n",
        "test.sample(5)\n"
      ],
      "execution_count": 108,
      "outputs": [
        {
          "output_type": "execute_result",
          "data": {
            "text/html": [
              "<div>\n",
              "<style scoped>\n",
              "    .dataframe tbody tr th:only-of-type {\n",
              "        vertical-align: middle;\n",
              "    }\n",
              "\n",
              "    .dataframe tbody tr th {\n",
              "        vertical-align: top;\n",
              "    }\n",
              "\n",
              "    .dataframe thead th {\n",
              "        text-align: right;\n",
              "    }\n",
              "</style>\n",
              "<table border=\"1\" class=\"dataframe\">\n",
              "  <thead>\n",
              "    <tr style=\"text-align: right;\">\n",
              "      <th></th>\n",
              "      <th>Pclass</th>\n",
              "      <th>Sex</th>\n",
              "      <th>Age</th>\n",
              "      <th>SibSp</th>\n",
              "      <th>Parch</th>\n",
              "      <th>Fare</th>\n",
              "      <th>Embarked</th>\n",
              "      <th>Survived</th>\n",
              "    </tr>\n",
              "  </thead>\n",
              "  <tbody>\n",
              "    <tr>\n",
              "      <th>284</th>\n",
              "      <td>3</td>\n",
              "      <td>0</td>\n",
              "      <td>2</td>\n",
              "      <td>1</td>\n",
              "      <td>1</td>\n",
              "      <td>20</td>\n",
              "      <td>2</td>\n",
              "      <td>1</td>\n",
              "    </tr>\n",
              "    <tr>\n",
              "      <th>296</th>\n",
              "      <td>2</td>\n",
              "      <td>0</td>\n",
              "      <td>1</td>\n",
              "      <td>1</td>\n",
              "      <td>2</td>\n",
              "      <td>41</td>\n",
              "      <td>0</td>\n",
              "      <td>1</td>\n",
              "    </tr>\n",
              "    <tr>\n",
              "      <th>325</th>\n",
              "      <td>3</td>\n",
              "      <td>1</td>\n",
              "      <td>23</td>\n",
              "      <td>0</td>\n",
              "      <td>0</td>\n",
              "      <td>7</td>\n",
              "      <td>2</td>\n",
              "      <td>0</td>\n",
              "    </tr>\n",
              "    <tr>\n",
              "      <th>5</th>\n",
              "      <td>3</td>\n",
              "      <td>1</td>\n",
              "      <td>14</td>\n",
              "      <td>0</td>\n",
              "      <td>0</td>\n",
              "      <td>9</td>\n",
              "      <td>2</td>\n",
              "      <td>0</td>\n",
              "    </tr>\n",
              "    <tr>\n",
              "      <th>222</th>\n",
              "      <td>2</td>\n",
              "      <td>0</td>\n",
              "      <td>22</td>\n",
              "      <td>0</td>\n",
              "      <td>0</td>\n",
              "      <td>10</td>\n",
              "      <td>2</td>\n",
              "      <td>0</td>\n",
              "    </tr>\n",
              "  </tbody>\n",
              "</table>\n",
              "</div>"
            ],
            "text/plain": [
              "     Pclass  Sex  Age  SibSp  Parch  Fare  Embarked  Survived\n",
              "284       3    0    2      1      1    20         2         1\n",
              "296       2    0    1      1      2    41         0         1\n",
              "325       3    1   23      0      0     7         2         0\n",
              "5         3    1   14      0      0     9         2         0\n",
              "222       2    0   22      0      0    10         2         0"
            ]
          },
          "metadata": {
            "tags": []
          },
          "execution_count": 108
        }
      ]
    },
    {
      "cell_type": "markdown",
      "metadata": {
        "id": "gEDs0Az-pujK"
      },
      "source": [
        "#**Conclusion and Recommendations**"
      ]
    },
    {
      "cell_type": "code",
      "metadata": {
        "id": "f3CjmSRbqrxI"
      },
      "source": [
        "#While challenging the solution using Random forests, we can see a clear improvement in accuracy levels compared to our K-Nearest Neighbors which averaged accuracy levels of 70-74%\n",
        "#and a high number of false positives denoted by the confusion matrix and f1-scores. This means that our models were not able to classify survival as desired while determining our metrics of success.\n",
        "#This could mean that there is more manipulation that could be achieved with our features to get higher accuracy scores as has been recommended in previous sections.\n",
        "#"
      ],
      "execution_count": 109,
      "outputs": []
    }
  ]
}