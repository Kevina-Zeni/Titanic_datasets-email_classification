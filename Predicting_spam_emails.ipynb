{
  "nbformat": 4,
  "nbformat_minor": 0,
  "metadata": {
    "colab": {
      "name": "Predicting_spam_emails.ipynb",
      "provenance": [],
      "collapsed_sections": [],
      "authorship_tag": "ABX9TyMYDImduT8z6ThSV6/4ftt4",
      "include_colab_link": true
    },
    "kernelspec": {
      "name": "python3",
      "display_name": "Python 3"
    },
    "language_info": {
      "name": "python"
    }
  },
  "cells": [
    {
      "cell_type": "markdown",
      "metadata": {
        "id": "view-in-github",
        "colab_type": "text"
      },
      "source": [
        "<a href=\"https://colab.research.google.com/github/KevinaZeni/Titanic_datasets-email_classification/blob/main/Predicting_spam_emails.ipynb\" target=\"_parent\"><img src=\"https://colab.research.google.com/assets/colab-badge.svg\" alt=\"Open In Colab\"/></a>"
      ]
    },
    {
      "cell_type": "markdown",
      "metadata": {
        "id": "17Z5dZwGab9F"
      },
      "source": [
        "#Classifiying spam email and non spam email"
      ]
    },
    {
      "cell_type": "markdown",
      "metadata": {
        "id": "LXx2ZeG6aYVp"
      },
      "source": [
        "#**Defining the question**"
      ]
    },
    {
      "cell_type": "markdown",
      "metadata": {
        "id": "yzhJNK7gar1y"
      },
      "source": [
        "**a) Specifying the  Data Analytic Question**"
      ]
    },
    {
      "cell_type": "markdown",
      "metadata": {
        "id": "5M0KsDmOfm2p"
      },
      "source": [
        "Our aim in this project is to identify whether an email is spam or not using the Naive Bayes Classifiation technique"
      ]
    },
    {
      "cell_type": "markdown",
      "metadata": {
        "id": "ttadWVzxazui"
      },
      "source": [
        "**b) Defining the Metric of Success**"
      ]
    },
    {
      "cell_type": "code",
      "metadata": {
        "id": "TOnBjp67hqmF"
      },
      "source": [
        "#For this project we will use the Naive Bayes algorithm to classify whether the mail is spam or ham. We will use the accuracy score and confusion matrix tell us how well our model works\n",
        "#Ideally, we would not want our model to have a larger number of false positives and a success rate (accuracy score of atleast 80%)"
      ],
      "execution_count": 1,
      "outputs": []
    },
    {
      "cell_type": "markdown",
      "metadata": {
        "id": "F50a3Wd6a7pG"
      },
      "source": [
        "**c) Understanding the context**"
      ]
    },
    {
      "cell_type": "markdown",
      "metadata": {
        "id": "bNA5NG9oeEKX"
      },
      "source": [
        "The \"spam\" concept is diverse: advertisements for products/web sites, make money fast schemes, chain letters, pornography\n",
        "Spam email is unsolicited and unwanted junk email sent out in bulk to an indiscriminate recipient list. Typically, spam is sent for commercial purposes. It can be sent in massive volume by botnets, networks of infected computers."
      ]
    },
    {
      "cell_type": "markdown",
      "metadata": {
        "id": "VPmJ4CKrbDRg"
      },
      "source": [
        "*Dataset Attributes*"
      ]
    },
    {
      "cell_type": "markdown",
      "metadata": {
        "id": "-cb_GlBOjhaD"
      },
      "source": [
        "The last column of 'spambase.data' denotes whether the e-mail was considered spam (1) or not (0), i.e. unsolicited commercial e-mail. Most of the attributes indicate whether a particular word or character was frequently occuring in the e-mail. The run-length attributes (55-57) measure the length of sequences of consecutive capital letters. For the statistical measures of each attribute, see the end of this file. Here are the definitions of the attributes:\n",
        "\n",
        "48 continuous real [0,100] attributes of type word_freq_WORD\n",
        "= percentage of words in the e-mail that match WORD, i.e. 100 * (number of times the WORD appears in the e-mail) / total number of words in e-mail. A \"word\" in this case is any string of alphanumeric characters bounded by non-alphanumeric characters or end-of-string.\n",
        "\n",
        "6 continuous real [0,100] attributes of type char_freq_CHAR]\n",
        "= percentage of characters in the e-mail that match CHAR, i.e. 100 * (number of CHAR occurences) / total characters in e-mail\n",
        "\n",
        "1 continuous real [1,...] attribute of type capital_run_length_average\n",
        "= average length of uninterrupted sequences of capital letters\n",
        "\n",
        "1 continuous integer [1,...] attribute of type capital_run_length_longest\n",
        "= length of longest uninterrupted sequence of capital letters\n",
        "\n",
        "1 continuous integer [1,...] attribute of type capital_run_length_total\n",
        "= sum of length of uninterrupted sequences of capital letters\n",
        "= total number of capital letters in the e-mail\n",
        "\n",
        "1 nominal {0,1} class attribute of type spam\n",
        "= denotes whether the e-mail was considered spam (1) or not (0), i.e. unsolicited commercial e-mail."
      ]
    },
    {
      "cell_type": "markdown",
      "metadata": {
        "id": "ElBst74bbIOM"
      },
      "source": [
        "**d) Recording the Experiment Design**"
      ]
    },
    {
      "cell_type": "markdown",
      "metadata": {
        "id": "Eo7IXk7Smzes"
      },
      "source": [
        "\n",
        "\n",
        "*   Data Preparation\n",
        "*   Exploratory Data Analysis\n",
        "*   Data Preprocessing\n",
        "*   Building our models: Gaussian, Bernoulli, Multinomial\n",
        "*   Challenging the solutions\n",
        "*   Conclusion and Recommendations\n",
        "\n",
        "\n",
        "\n",
        "\n"
      ]
    },
    {
      "cell_type": "markdown",
      "metadata": {
        "id": "q-6OkOY2bNnE"
      },
      "source": [
        "#**Data Preparation**"
      ]
    },
    {
      "cell_type": "markdown",
      "metadata": {
        "id": "NKnBqpDmbWGH"
      },
      "source": [
        "**Importing our libraries**"
      ]
    },
    {
      "cell_type": "code",
      "metadata": {
        "colab": {
          "base_uri": "https://localhost:8080/"
        },
        "id": "_hC5WvaEbVhd",
        "outputId": "d9799092-e6ad-4170-8e41-dfc64be4d2d8"
      },
      "source": [
        "#Data\n",
        "import pandas as pd \n",
        "import numpy as np \n",
        "import nltk\n",
        "nltk.download('punkt')\n",
        "from matplotlib.ticker import StrMethodFormatter\n",
        "%matplotlib inline\n",
        "import re\n",
        "\n",
        "## Visualization\n",
        "import seaborn as sns\n",
        "import matplotlib.pyplot as plt\n",
        "%matplotlib inline\n",
        "\n",
        "##Feature engineering\n",
        "from sklearn.model_selection import train_test_split, RandomizedSearchCV, GridSearchCV, KFold, cross_val_predict\n",
        "from sklearn.preprocessing import StandardScaler, MinMaxScaler, RobustScaler, normalize, Normalizer\n",
        "from sklearn.metrics import accuracy_score, classification_report, confusion_matrix\n",
        "from sklearn.discriminant_analysis import LinearDiscriminantAnalysis as LDA\n",
        "from sklearn.decomposition import PCA\n",
        "\n",
        "##ML\n",
        "from sklearn.naive_bayes import MultinomialNB, GaussianNB, BernoulliNB\n",
        "\n"
      ],
      "execution_count": 2,
      "outputs": [
        {
          "output_type": "stream",
          "text": [
            "[nltk_data] Downloading package punkt to /root/nltk_data...\n",
            "[nltk_data]   Package punkt is already up-to-date!\n"
          ],
          "name": "stdout"
        }
      ]
    },
    {
      "cell_type": "markdown",
      "metadata": {
        "id": "lJpgpKe-bQjB"
      },
      "source": [
        "**Reading our dataset**"
      ]
    },
    {
      "cell_type": "code",
      "metadata": {
        "id": "Z_7nMPXZrpzC"
      },
      "source": [
        "#We have extracted names from the spambase.names file by converting it into csv file an extracting the names which we will append to the spambase data provided to make sense of it.\n"
      ],
      "execution_count": 3,
      "outputs": []
    },
    {
      "cell_type": "code",
      "metadata": {
        "id": "tAPH9pX6osb_"
      },
      "source": [
        "names = ['word_freq_make', 'word_freq_address', 'word_freq_all', 'word_freq_3d', 'word_freq_our', \n",
        "         'word_freq_over', 'word_freq_remove', 'word_freq_internet', 'word_freq_order', 'word_freq_mail', \n",
        "         'word_freq_receive', 'word_freq_will', 'word_freq_people', 'word_freq_report', \n",
        "         'word_freq_addresses', 'word_freq_free', 'word_freq_business', 'word_freq_email', 'word_freq_you', \n",
        "         'word_freq_credit', 'word_freq_your', 'word_freq_font', 'word_freq_000', 'word_freq_money', \n",
        "         'word_freq_hp', 'word_freq_hpl', 'word_freq_george', 'word_freq_650', 'word_freq_lab', \n",
        "         'word_freq_labs', 'word_freq_telnet', 'word_freq_857', 'word_freq_data', 'word_freq_415', \n",
        "         'word_freq_85', 'word_freq_technology', 'word_freq_1999', 'word_freq_parts', 'word_freq_pm', \n",
        "         'word_freq_direct', 'word_freq_cs', 'word_freq_meeting', 'word_freq_original', \n",
        "         'word_freq_project', 'word_freq_re', 'word_freq_edu', 'word_freq_table', 'word_freq_conference', \n",
        "         'char_freq_;', 'char_freq_(', 'char_freq_[', 'char_freq_!', 'char_freq_$', 'char_freq_#', \n",
        "         'capital_run_length_average', 'capital_run_length_longest', 'capital_run_length_total', 'spam']\n",
        "\n",
        "data = pd.read_csv('spambase.data', names = names)\n",
        "\n"
      ],
      "execution_count": 4,
      "outputs": []
    },
    {
      "cell_type": "code",
      "metadata": {
        "colab": {
          "base_uri": "https://localhost:8080/",
          "height": 375
        },
        "id": "vT2uu7HPscOp",
        "outputId": "e4cfe15d-b32c-4a3b-e20b-5cd0f351cc82"
      },
      "source": [
        "##Previewing the first ten records of our dataset\n",
        "\n",
        "data.head(10)"
      ],
      "execution_count": 5,
      "outputs": [
        {
          "output_type": "execute_result",
          "data": {
            "text/html": [
              "<div>\n",
              "<style scoped>\n",
              "    .dataframe tbody tr th:only-of-type {\n",
              "        vertical-align: middle;\n",
              "    }\n",
              "\n",
              "    .dataframe tbody tr th {\n",
              "        vertical-align: top;\n",
              "    }\n",
              "\n",
              "    .dataframe thead th {\n",
              "        text-align: right;\n",
              "    }\n",
              "</style>\n",
              "<table border=\"1\" class=\"dataframe\">\n",
              "  <thead>\n",
              "    <tr style=\"text-align: right;\">\n",
              "      <th></th>\n",
              "      <th>word_freq_make</th>\n",
              "      <th>word_freq_address</th>\n",
              "      <th>word_freq_all</th>\n",
              "      <th>word_freq_3d</th>\n",
              "      <th>word_freq_our</th>\n",
              "      <th>word_freq_over</th>\n",
              "      <th>word_freq_remove</th>\n",
              "      <th>word_freq_internet</th>\n",
              "      <th>word_freq_order</th>\n",
              "      <th>word_freq_mail</th>\n",
              "      <th>word_freq_receive</th>\n",
              "      <th>word_freq_will</th>\n",
              "      <th>word_freq_people</th>\n",
              "      <th>word_freq_report</th>\n",
              "      <th>word_freq_addresses</th>\n",
              "      <th>word_freq_free</th>\n",
              "      <th>word_freq_business</th>\n",
              "      <th>word_freq_email</th>\n",
              "      <th>word_freq_you</th>\n",
              "      <th>word_freq_credit</th>\n",
              "      <th>word_freq_your</th>\n",
              "      <th>word_freq_font</th>\n",
              "      <th>word_freq_000</th>\n",
              "      <th>word_freq_money</th>\n",
              "      <th>word_freq_hp</th>\n",
              "      <th>word_freq_hpl</th>\n",
              "      <th>word_freq_george</th>\n",
              "      <th>word_freq_650</th>\n",
              "      <th>word_freq_lab</th>\n",
              "      <th>word_freq_labs</th>\n",
              "      <th>word_freq_telnet</th>\n",
              "      <th>word_freq_857</th>\n",
              "      <th>word_freq_data</th>\n",
              "      <th>word_freq_415</th>\n",
              "      <th>word_freq_85</th>\n",
              "      <th>word_freq_technology</th>\n",
              "      <th>word_freq_1999</th>\n",
              "      <th>word_freq_parts</th>\n",
              "      <th>word_freq_pm</th>\n",
              "      <th>word_freq_direct</th>\n",
              "      <th>word_freq_cs</th>\n",
              "      <th>word_freq_meeting</th>\n",
              "      <th>word_freq_original</th>\n",
              "      <th>word_freq_project</th>\n",
              "      <th>word_freq_re</th>\n",
              "      <th>word_freq_edu</th>\n",
              "      <th>word_freq_table</th>\n",
              "      <th>word_freq_conference</th>\n",
              "      <th>char_freq_;</th>\n",
              "      <th>char_freq_(</th>\n",
              "      <th>char_freq_[</th>\n",
              "      <th>char_freq_!</th>\n",
              "      <th>char_freq_$</th>\n",
              "      <th>char_freq_#</th>\n",
              "      <th>capital_run_length_average</th>\n",
              "      <th>capital_run_length_longest</th>\n",
              "      <th>capital_run_length_total</th>\n",
              "      <th>spam</th>\n",
              "    </tr>\n",
              "  </thead>\n",
              "  <tbody>\n",
              "    <tr>\n",
              "      <th>0</th>\n",
              "      <td>0.00</td>\n",
              "      <td>0.64</td>\n",
              "      <td>0.64</td>\n",
              "      <td>0.0</td>\n",
              "      <td>0.32</td>\n",
              "      <td>0.00</td>\n",
              "      <td>0.00</td>\n",
              "      <td>0.00</td>\n",
              "      <td>0.00</td>\n",
              "      <td>0.00</td>\n",
              "      <td>0.00</td>\n",
              "      <td>0.64</td>\n",
              "      <td>0.00</td>\n",
              "      <td>0.00</td>\n",
              "      <td>0.00</td>\n",
              "      <td>0.32</td>\n",
              "      <td>0.00</td>\n",
              "      <td>1.29</td>\n",
              "      <td>1.93</td>\n",
              "      <td>0.00</td>\n",
              "      <td>0.96</td>\n",
              "      <td>0.0</td>\n",
              "      <td>0.00</td>\n",
              "      <td>0.00</td>\n",
              "      <td>0.0</td>\n",
              "      <td>0.0</td>\n",
              "      <td>0.0</td>\n",
              "      <td>0.0</td>\n",
              "      <td>0.0</td>\n",
              "      <td>0.0</td>\n",
              "      <td>0.0</td>\n",
              "      <td>0.0</td>\n",
              "      <td>0.00</td>\n",
              "      <td>0.0</td>\n",
              "      <td>0.0</td>\n",
              "      <td>0.0</td>\n",
              "      <td>0.00</td>\n",
              "      <td>0.0</td>\n",
              "      <td>0.0</td>\n",
              "      <td>0.00</td>\n",
              "      <td>0.0</td>\n",
              "      <td>0.0</td>\n",
              "      <td>0.00</td>\n",
              "      <td>0.00</td>\n",
              "      <td>0.00</td>\n",
              "      <td>0.00</td>\n",
              "      <td>0.0</td>\n",
              "      <td>0.0</td>\n",
              "      <td>0.00</td>\n",
              "      <td>0.000</td>\n",
              "      <td>0.0</td>\n",
              "      <td>0.778</td>\n",
              "      <td>0.000</td>\n",
              "      <td>0.000</td>\n",
              "      <td>3.756</td>\n",
              "      <td>61</td>\n",
              "      <td>278</td>\n",
              "      <td>1</td>\n",
              "    </tr>\n",
              "    <tr>\n",
              "      <th>1</th>\n",
              "      <td>0.21</td>\n",
              "      <td>0.28</td>\n",
              "      <td>0.50</td>\n",
              "      <td>0.0</td>\n",
              "      <td>0.14</td>\n",
              "      <td>0.28</td>\n",
              "      <td>0.21</td>\n",
              "      <td>0.07</td>\n",
              "      <td>0.00</td>\n",
              "      <td>0.94</td>\n",
              "      <td>0.21</td>\n",
              "      <td>0.79</td>\n",
              "      <td>0.65</td>\n",
              "      <td>0.21</td>\n",
              "      <td>0.14</td>\n",
              "      <td>0.14</td>\n",
              "      <td>0.07</td>\n",
              "      <td>0.28</td>\n",
              "      <td>3.47</td>\n",
              "      <td>0.00</td>\n",
              "      <td>1.59</td>\n",
              "      <td>0.0</td>\n",
              "      <td>0.43</td>\n",
              "      <td>0.43</td>\n",
              "      <td>0.0</td>\n",
              "      <td>0.0</td>\n",
              "      <td>0.0</td>\n",
              "      <td>0.0</td>\n",
              "      <td>0.0</td>\n",
              "      <td>0.0</td>\n",
              "      <td>0.0</td>\n",
              "      <td>0.0</td>\n",
              "      <td>0.00</td>\n",
              "      <td>0.0</td>\n",
              "      <td>0.0</td>\n",
              "      <td>0.0</td>\n",
              "      <td>0.07</td>\n",
              "      <td>0.0</td>\n",
              "      <td>0.0</td>\n",
              "      <td>0.00</td>\n",
              "      <td>0.0</td>\n",
              "      <td>0.0</td>\n",
              "      <td>0.00</td>\n",
              "      <td>0.00</td>\n",
              "      <td>0.00</td>\n",
              "      <td>0.00</td>\n",
              "      <td>0.0</td>\n",
              "      <td>0.0</td>\n",
              "      <td>0.00</td>\n",
              "      <td>0.132</td>\n",
              "      <td>0.0</td>\n",
              "      <td>0.372</td>\n",
              "      <td>0.180</td>\n",
              "      <td>0.048</td>\n",
              "      <td>5.114</td>\n",
              "      <td>101</td>\n",
              "      <td>1028</td>\n",
              "      <td>1</td>\n",
              "    </tr>\n",
              "    <tr>\n",
              "      <th>2</th>\n",
              "      <td>0.06</td>\n",
              "      <td>0.00</td>\n",
              "      <td>0.71</td>\n",
              "      <td>0.0</td>\n",
              "      <td>1.23</td>\n",
              "      <td>0.19</td>\n",
              "      <td>0.19</td>\n",
              "      <td>0.12</td>\n",
              "      <td>0.64</td>\n",
              "      <td>0.25</td>\n",
              "      <td>0.38</td>\n",
              "      <td>0.45</td>\n",
              "      <td>0.12</td>\n",
              "      <td>0.00</td>\n",
              "      <td>1.75</td>\n",
              "      <td>0.06</td>\n",
              "      <td>0.06</td>\n",
              "      <td>1.03</td>\n",
              "      <td>1.36</td>\n",
              "      <td>0.32</td>\n",
              "      <td>0.51</td>\n",
              "      <td>0.0</td>\n",
              "      <td>1.16</td>\n",
              "      <td>0.06</td>\n",
              "      <td>0.0</td>\n",
              "      <td>0.0</td>\n",
              "      <td>0.0</td>\n",
              "      <td>0.0</td>\n",
              "      <td>0.0</td>\n",
              "      <td>0.0</td>\n",
              "      <td>0.0</td>\n",
              "      <td>0.0</td>\n",
              "      <td>0.00</td>\n",
              "      <td>0.0</td>\n",
              "      <td>0.0</td>\n",
              "      <td>0.0</td>\n",
              "      <td>0.00</td>\n",
              "      <td>0.0</td>\n",
              "      <td>0.0</td>\n",
              "      <td>0.06</td>\n",
              "      <td>0.0</td>\n",
              "      <td>0.0</td>\n",
              "      <td>0.12</td>\n",
              "      <td>0.00</td>\n",
              "      <td>0.06</td>\n",
              "      <td>0.06</td>\n",
              "      <td>0.0</td>\n",
              "      <td>0.0</td>\n",
              "      <td>0.01</td>\n",
              "      <td>0.143</td>\n",
              "      <td>0.0</td>\n",
              "      <td>0.276</td>\n",
              "      <td>0.184</td>\n",
              "      <td>0.010</td>\n",
              "      <td>9.821</td>\n",
              "      <td>485</td>\n",
              "      <td>2259</td>\n",
              "      <td>1</td>\n",
              "    </tr>\n",
              "    <tr>\n",
              "      <th>3</th>\n",
              "      <td>0.00</td>\n",
              "      <td>0.00</td>\n",
              "      <td>0.00</td>\n",
              "      <td>0.0</td>\n",
              "      <td>0.63</td>\n",
              "      <td>0.00</td>\n",
              "      <td>0.31</td>\n",
              "      <td>0.63</td>\n",
              "      <td>0.31</td>\n",
              "      <td>0.63</td>\n",
              "      <td>0.31</td>\n",
              "      <td>0.31</td>\n",
              "      <td>0.31</td>\n",
              "      <td>0.00</td>\n",
              "      <td>0.00</td>\n",
              "      <td>0.31</td>\n",
              "      <td>0.00</td>\n",
              "      <td>0.00</td>\n",
              "      <td>3.18</td>\n",
              "      <td>0.00</td>\n",
              "      <td>0.31</td>\n",
              "      <td>0.0</td>\n",
              "      <td>0.00</td>\n",
              "      <td>0.00</td>\n",
              "      <td>0.0</td>\n",
              "      <td>0.0</td>\n",
              "      <td>0.0</td>\n",
              "      <td>0.0</td>\n",
              "      <td>0.0</td>\n",
              "      <td>0.0</td>\n",
              "      <td>0.0</td>\n",
              "      <td>0.0</td>\n",
              "      <td>0.00</td>\n",
              "      <td>0.0</td>\n",
              "      <td>0.0</td>\n",
              "      <td>0.0</td>\n",
              "      <td>0.00</td>\n",
              "      <td>0.0</td>\n",
              "      <td>0.0</td>\n",
              "      <td>0.00</td>\n",
              "      <td>0.0</td>\n",
              "      <td>0.0</td>\n",
              "      <td>0.00</td>\n",
              "      <td>0.00</td>\n",
              "      <td>0.00</td>\n",
              "      <td>0.00</td>\n",
              "      <td>0.0</td>\n",
              "      <td>0.0</td>\n",
              "      <td>0.00</td>\n",
              "      <td>0.137</td>\n",
              "      <td>0.0</td>\n",
              "      <td>0.137</td>\n",
              "      <td>0.000</td>\n",
              "      <td>0.000</td>\n",
              "      <td>3.537</td>\n",
              "      <td>40</td>\n",
              "      <td>191</td>\n",
              "      <td>1</td>\n",
              "    </tr>\n",
              "    <tr>\n",
              "      <th>4</th>\n",
              "      <td>0.00</td>\n",
              "      <td>0.00</td>\n",
              "      <td>0.00</td>\n",
              "      <td>0.0</td>\n",
              "      <td>0.63</td>\n",
              "      <td>0.00</td>\n",
              "      <td>0.31</td>\n",
              "      <td>0.63</td>\n",
              "      <td>0.31</td>\n",
              "      <td>0.63</td>\n",
              "      <td>0.31</td>\n",
              "      <td>0.31</td>\n",
              "      <td>0.31</td>\n",
              "      <td>0.00</td>\n",
              "      <td>0.00</td>\n",
              "      <td>0.31</td>\n",
              "      <td>0.00</td>\n",
              "      <td>0.00</td>\n",
              "      <td>3.18</td>\n",
              "      <td>0.00</td>\n",
              "      <td>0.31</td>\n",
              "      <td>0.0</td>\n",
              "      <td>0.00</td>\n",
              "      <td>0.00</td>\n",
              "      <td>0.0</td>\n",
              "      <td>0.0</td>\n",
              "      <td>0.0</td>\n",
              "      <td>0.0</td>\n",
              "      <td>0.0</td>\n",
              "      <td>0.0</td>\n",
              "      <td>0.0</td>\n",
              "      <td>0.0</td>\n",
              "      <td>0.00</td>\n",
              "      <td>0.0</td>\n",
              "      <td>0.0</td>\n",
              "      <td>0.0</td>\n",
              "      <td>0.00</td>\n",
              "      <td>0.0</td>\n",
              "      <td>0.0</td>\n",
              "      <td>0.00</td>\n",
              "      <td>0.0</td>\n",
              "      <td>0.0</td>\n",
              "      <td>0.00</td>\n",
              "      <td>0.00</td>\n",
              "      <td>0.00</td>\n",
              "      <td>0.00</td>\n",
              "      <td>0.0</td>\n",
              "      <td>0.0</td>\n",
              "      <td>0.00</td>\n",
              "      <td>0.135</td>\n",
              "      <td>0.0</td>\n",
              "      <td>0.135</td>\n",
              "      <td>0.000</td>\n",
              "      <td>0.000</td>\n",
              "      <td>3.537</td>\n",
              "      <td>40</td>\n",
              "      <td>191</td>\n",
              "      <td>1</td>\n",
              "    </tr>\n",
              "    <tr>\n",
              "      <th>5</th>\n",
              "      <td>0.00</td>\n",
              "      <td>0.00</td>\n",
              "      <td>0.00</td>\n",
              "      <td>0.0</td>\n",
              "      <td>1.85</td>\n",
              "      <td>0.00</td>\n",
              "      <td>0.00</td>\n",
              "      <td>1.85</td>\n",
              "      <td>0.00</td>\n",
              "      <td>0.00</td>\n",
              "      <td>0.00</td>\n",
              "      <td>0.00</td>\n",
              "      <td>0.00</td>\n",
              "      <td>0.00</td>\n",
              "      <td>0.00</td>\n",
              "      <td>0.00</td>\n",
              "      <td>0.00</td>\n",
              "      <td>0.00</td>\n",
              "      <td>0.00</td>\n",
              "      <td>0.00</td>\n",
              "      <td>0.00</td>\n",
              "      <td>0.0</td>\n",
              "      <td>0.00</td>\n",
              "      <td>0.00</td>\n",
              "      <td>0.0</td>\n",
              "      <td>0.0</td>\n",
              "      <td>0.0</td>\n",
              "      <td>0.0</td>\n",
              "      <td>0.0</td>\n",
              "      <td>0.0</td>\n",
              "      <td>0.0</td>\n",
              "      <td>0.0</td>\n",
              "      <td>0.00</td>\n",
              "      <td>0.0</td>\n",
              "      <td>0.0</td>\n",
              "      <td>0.0</td>\n",
              "      <td>0.00</td>\n",
              "      <td>0.0</td>\n",
              "      <td>0.0</td>\n",
              "      <td>0.00</td>\n",
              "      <td>0.0</td>\n",
              "      <td>0.0</td>\n",
              "      <td>0.00</td>\n",
              "      <td>0.00</td>\n",
              "      <td>0.00</td>\n",
              "      <td>0.00</td>\n",
              "      <td>0.0</td>\n",
              "      <td>0.0</td>\n",
              "      <td>0.00</td>\n",
              "      <td>0.223</td>\n",
              "      <td>0.0</td>\n",
              "      <td>0.000</td>\n",
              "      <td>0.000</td>\n",
              "      <td>0.000</td>\n",
              "      <td>3.000</td>\n",
              "      <td>15</td>\n",
              "      <td>54</td>\n",
              "      <td>1</td>\n",
              "    </tr>\n",
              "    <tr>\n",
              "      <th>6</th>\n",
              "      <td>0.00</td>\n",
              "      <td>0.00</td>\n",
              "      <td>0.00</td>\n",
              "      <td>0.0</td>\n",
              "      <td>1.92</td>\n",
              "      <td>0.00</td>\n",
              "      <td>0.00</td>\n",
              "      <td>0.00</td>\n",
              "      <td>0.00</td>\n",
              "      <td>0.64</td>\n",
              "      <td>0.96</td>\n",
              "      <td>1.28</td>\n",
              "      <td>0.00</td>\n",
              "      <td>0.00</td>\n",
              "      <td>0.00</td>\n",
              "      <td>0.96</td>\n",
              "      <td>0.00</td>\n",
              "      <td>0.32</td>\n",
              "      <td>3.85</td>\n",
              "      <td>0.00</td>\n",
              "      <td>0.64</td>\n",
              "      <td>0.0</td>\n",
              "      <td>0.00</td>\n",
              "      <td>0.00</td>\n",
              "      <td>0.0</td>\n",
              "      <td>0.0</td>\n",
              "      <td>0.0</td>\n",
              "      <td>0.0</td>\n",
              "      <td>0.0</td>\n",
              "      <td>0.0</td>\n",
              "      <td>0.0</td>\n",
              "      <td>0.0</td>\n",
              "      <td>0.00</td>\n",
              "      <td>0.0</td>\n",
              "      <td>0.0</td>\n",
              "      <td>0.0</td>\n",
              "      <td>0.00</td>\n",
              "      <td>0.0</td>\n",
              "      <td>0.0</td>\n",
              "      <td>0.00</td>\n",
              "      <td>0.0</td>\n",
              "      <td>0.0</td>\n",
              "      <td>0.00</td>\n",
              "      <td>0.00</td>\n",
              "      <td>0.00</td>\n",
              "      <td>0.00</td>\n",
              "      <td>0.0</td>\n",
              "      <td>0.0</td>\n",
              "      <td>0.00</td>\n",
              "      <td>0.054</td>\n",
              "      <td>0.0</td>\n",
              "      <td>0.164</td>\n",
              "      <td>0.054</td>\n",
              "      <td>0.000</td>\n",
              "      <td>1.671</td>\n",
              "      <td>4</td>\n",
              "      <td>112</td>\n",
              "      <td>1</td>\n",
              "    </tr>\n",
              "    <tr>\n",
              "      <th>7</th>\n",
              "      <td>0.00</td>\n",
              "      <td>0.00</td>\n",
              "      <td>0.00</td>\n",
              "      <td>0.0</td>\n",
              "      <td>1.88</td>\n",
              "      <td>0.00</td>\n",
              "      <td>0.00</td>\n",
              "      <td>1.88</td>\n",
              "      <td>0.00</td>\n",
              "      <td>0.00</td>\n",
              "      <td>0.00</td>\n",
              "      <td>0.00</td>\n",
              "      <td>0.00</td>\n",
              "      <td>0.00</td>\n",
              "      <td>0.00</td>\n",
              "      <td>0.00</td>\n",
              "      <td>0.00</td>\n",
              "      <td>0.00</td>\n",
              "      <td>0.00</td>\n",
              "      <td>0.00</td>\n",
              "      <td>0.00</td>\n",
              "      <td>0.0</td>\n",
              "      <td>0.00</td>\n",
              "      <td>0.00</td>\n",
              "      <td>0.0</td>\n",
              "      <td>0.0</td>\n",
              "      <td>0.0</td>\n",
              "      <td>0.0</td>\n",
              "      <td>0.0</td>\n",
              "      <td>0.0</td>\n",
              "      <td>0.0</td>\n",
              "      <td>0.0</td>\n",
              "      <td>0.00</td>\n",
              "      <td>0.0</td>\n",
              "      <td>0.0</td>\n",
              "      <td>0.0</td>\n",
              "      <td>0.00</td>\n",
              "      <td>0.0</td>\n",
              "      <td>0.0</td>\n",
              "      <td>0.00</td>\n",
              "      <td>0.0</td>\n",
              "      <td>0.0</td>\n",
              "      <td>0.00</td>\n",
              "      <td>0.00</td>\n",
              "      <td>0.00</td>\n",
              "      <td>0.00</td>\n",
              "      <td>0.0</td>\n",
              "      <td>0.0</td>\n",
              "      <td>0.00</td>\n",
              "      <td>0.206</td>\n",
              "      <td>0.0</td>\n",
              "      <td>0.000</td>\n",
              "      <td>0.000</td>\n",
              "      <td>0.000</td>\n",
              "      <td>2.450</td>\n",
              "      <td>11</td>\n",
              "      <td>49</td>\n",
              "      <td>1</td>\n",
              "    </tr>\n",
              "    <tr>\n",
              "      <th>8</th>\n",
              "      <td>0.15</td>\n",
              "      <td>0.00</td>\n",
              "      <td>0.46</td>\n",
              "      <td>0.0</td>\n",
              "      <td>0.61</td>\n",
              "      <td>0.00</td>\n",
              "      <td>0.30</td>\n",
              "      <td>0.00</td>\n",
              "      <td>0.92</td>\n",
              "      <td>0.76</td>\n",
              "      <td>0.76</td>\n",
              "      <td>0.92</td>\n",
              "      <td>0.00</td>\n",
              "      <td>0.00</td>\n",
              "      <td>0.00</td>\n",
              "      <td>0.00</td>\n",
              "      <td>0.00</td>\n",
              "      <td>0.15</td>\n",
              "      <td>1.23</td>\n",
              "      <td>3.53</td>\n",
              "      <td>2.00</td>\n",
              "      <td>0.0</td>\n",
              "      <td>0.00</td>\n",
              "      <td>0.15</td>\n",
              "      <td>0.0</td>\n",
              "      <td>0.0</td>\n",
              "      <td>0.0</td>\n",
              "      <td>0.0</td>\n",
              "      <td>0.0</td>\n",
              "      <td>0.0</td>\n",
              "      <td>0.0</td>\n",
              "      <td>0.0</td>\n",
              "      <td>0.15</td>\n",
              "      <td>0.0</td>\n",
              "      <td>0.0</td>\n",
              "      <td>0.0</td>\n",
              "      <td>0.00</td>\n",
              "      <td>0.0</td>\n",
              "      <td>0.0</td>\n",
              "      <td>0.00</td>\n",
              "      <td>0.0</td>\n",
              "      <td>0.0</td>\n",
              "      <td>0.30</td>\n",
              "      <td>0.00</td>\n",
              "      <td>0.00</td>\n",
              "      <td>0.00</td>\n",
              "      <td>0.0</td>\n",
              "      <td>0.0</td>\n",
              "      <td>0.00</td>\n",
              "      <td>0.271</td>\n",
              "      <td>0.0</td>\n",
              "      <td>0.181</td>\n",
              "      <td>0.203</td>\n",
              "      <td>0.022</td>\n",
              "      <td>9.744</td>\n",
              "      <td>445</td>\n",
              "      <td>1257</td>\n",
              "      <td>1</td>\n",
              "    </tr>\n",
              "    <tr>\n",
              "      <th>9</th>\n",
              "      <td>0.06</td>\n",
              "      <td>0.12</td>\n",
              "      <td>0.77</td>\n",
              "      <td>0.0</td>\n",
              "      <td>0.19</td>\n",
              "      <td>0.32</td>\n",
              "      <td>0.38</td>\n",
              "      <td>0.00</td>\n",
              "      <td>0.06</td>\n",
              "      <td>0.00</td>\n",
              "      <td>0.00</td>\n",
              "      <td>0.64</td>\n",
              "      <td>0.25</td>\n",
              "      <td>0.00</td>\n",
              "      <td>0.12</td>\n",
              "      <td>0.00</td>\n",
              "      <td>0.00</td>\n",
              "      <td>0.12</td>\n",
              "      <td>1.67</td>\n",
              "      <td>0.06</td>\n",
              "      <td>0.71</td>\n",
              "      <td>0.0</td>\n",
              "      <td>0.19</td>\n",
              "      <td>0.00</td>\n",
              "      <td>0.0</td>\n",
              "      <td>0.0</td>\n",
              "      <td>0.0</td>\n",
              "      <td>0.0</td>\n",
              "      <td>0.0</td>\n",
              "      <td>0.0</td>\n",
              "      <td>0.0</td>\n",
              "      <td>0.0</td>\n",
              "      <td>0.00</td>\n",
              "      <td>0.0</td>\n",
              "      <td>0.0</td>\n",
              "      <td>0.0</td>\n",
              "      <td>0.00</td>\n",
              "      <td>0.0</td>\n",
              "      <td>0.0</td>\n",
              "      <td>0.00</td>\n",
              "      <td>0.0</td>\n",
              "      <td>0.0</td>\n",
              "      <td>0.00</td>\n",
              "      <td>0.06</td>\n",
              "      <td>0.00</td>\n",
              "      <td>0.00</td>\n",
              "      <td>0.0</td>\n",
              "      <td>0.0</td>\n",
              "      <td>0.04</td>\n",
              "      <td>0.030</td>\n",
              "      <td>0.0</td>\n",
              "      <td>0.244</td>\n",
              "      <td>0.081</td>\n",
              "      <td>0.000</td>\n",
              "      <td>1.729</td>\n",
              "      <td>43</td>\n",
              "      <td>749</td>\n",
              "      <td>1</td>\n",
              "    </tr>\n",
              "  </tbody>\n",
              "</table>\n",
              "</div>"
            ],
            "text/plain": [
              "   word_freq_make  word_freq_address  ...  capital_run_length_total  spam\n",
              "0            0.00               0.64  ...                       278     1\n",
              "1            0.21               0.28  ...                      1028     1\n",
              "2            0.06               0.00  ...                      2259     1\n",
              "3            0.00               0.00  ...                       191     1\n",
              "4            0.00               0.00  ...                       191     1\n",
              "5            0.00               0.00  ...                        54     1\n",
              "6            0.00               0.00  ...                       112     1\n",
              "7            0.00               0.00  ...                        49     1\n",
              "8            0.15               0.00  ...                      1257     1\n",
              "9            0.06               0.12  ...                       749     1\n",
              "\n",
              "[10 rows x 58 columns]"
            ]
          },
          "metadata": {
            "tags": []
          },
          "execution_count": 5
        }
      ]
    },
    {
      "cell_type": "code",
      "metadata": {
        "colab": {
          "base_uri": "https://localhost:8080/",
          "height": 375
        },
        "id": "wf9y3KyBsoLT",
        "outputId": "20112586-1c3c-4bea-a9b3-e3efe332723d"
      },
      "source": [
        "#Previewing the last ten records of our data\n",
        "\n",
        "data.tail(10)"
      ],
      "execution_count": 6,
      "outputs": [
        {
          "output_type": "execute_result",
          "data": {
            "text/html": [
              "<div>\n",
              "<style scoped>\n",
              "    .dataframe tbody tr th:only-of-type {\n",
              "        vertical-align: middle;\n",
              "    }\n",
              "\n",
              "    .dataframe tbody tr th {\n",
              "        vertical-align: top;\n",
              "    }\n",
              "\n",
              "    .dataframe thead th {\n",
              "        text-align: right;\n",
              "    }\n",
              "</style>\n",
              "<table border=\"1\" class=\"dataframe\">\n",
              "  <thead>\n",
              "    <tr style=\"text-align: right;\">\n",
              "      <th></th>\n",
              "      <th>word_freq_make</th>\n",
              "      <th>word_freq_address</th>\n",
              "      <th>word_freq_all</th>\n",
              "      <th>word_freq_3d</th>\n",
              "      <th>word_freq_our</th>\n",
              "      <th>word_freq_over</th>\n",
              "      <th>word_freq_remove</th>\n",
              "      <th>word_freq_internet</th>\n",
              "      <th>word_freq_order</th>\n",
              "      <th>word_freq_mail</th>\n",
              "      <th>word_freq_receive</th>\n",
              "      <th>word_freq_will</th>\n",
              "      <th>word_freq_people</th>\n",
              "      <th>word_freq_report</th>\n",
              "      <th>word_freq_addresses</th>\n",
              "      <th>word_freq_free</th>\n",
              "      <th>word_freq_business</th>\n",
              "      <th>word_freq_email</th>\n",
              "      <th>word_freq_you</th>\n",
              "      <th>word_freq_credit</th>\n",
              "      <th>word_freq_your</th>\n",
              "      <th>word_freq_font</th>\n",
              "      <th>word_freq_000</th>\n",
              "      <th>word_freq_money</th>\n",
              "      <th>word_freq_hp</th>\n",
              "      <th>word_freq_hpl</th>\n",
              "      <th>word_freq_george</th>\n",
              "      <th>word_freq_650</th>\n",
              "      <th>word_freq_lab</th>\n",
              "      <th>word_freq_labs</th>\n",
              "      <th>word_freq_telnet</th>\n",
              "      <th>word_freq_857</th>\n",
              "      <th>word_freq_data</th>\n",
              "      <th>word_freq_415</th>\n",
              "      <th>word_freq_85</th>\n",
              "      <th>word_freq_technology</th>\n",
              "      <th>word_freq_1999</th>\n",
              "      <th>word_freq_parts</th>\n",
              "      <th>word_freq_pm</th>\n",
              "      <th>word_freq_direct</th>\n",
              "      <th>word_freq_cs</th>\n",
              "      <th>word_freq_meeting</th>\n",
              "      <th>word_freq_original</th>\n",
              "      <th>word_freq_project</th>\n",
              "      <th>word_freq_re</th>\n",
              "      <th>word_freq_edu</th>\n",
              "      <th>word_freq_table</th>\n",
              "      <th>word_freq_conference</th>\n",
              "      <th>char_freq_;</th>\n",
              "      <th>char_freq_(</th>\n",
              "      <th>char_freq_[</th>\n",
              "      <th>char_freq_!</th>\n",
              "      <th>char_freq_$</th>\n",
              "      <th>char_freq_#</th>\n",
              "      <th>capital_run_length_average</th>\n",
              "      <th>capital_run_length_longest</th>\n",
              "      <th>capital_run_length_total</th>\n",
              "      <th>spam</th>\n",
              "    </tr>\n",
              "  </thead>\n",
              "  <tbody>\n",
              "    <tr>\n",
              "      <th>4591</th>\n",
              "      <td>0.00</td>\n",
              "      <td>0.0</td>\n",
              "      <td>0.00</td>\n",
              "      <td>0.0</td>\n",
              "      <td>0.00</td>\n",
              "      <td>0.00</td>\n",
              "      <td>0.0</td>\n",
              "      <td>0.0</td>\n",
              "      <td>0.0</td>\n",
              "      <td>0.0</td>\n",
              "      <td>0.0</td>\n",
              "      <td>0.00</td>\n",
              "      <td>0.00</td>\n",
              "      <td>0.0</td>\n",
              "      <td>0.0</td>\n",
              "      <td>0.0</td>\n",
              "      <td>0.0</td>\n",
              "      <td>0.00</td>\n",
              "      <td>6.89</td>\n",
              "      <td>0.0</td>\n",
              "      <td>0.00</td>\n",
              "      <td>0.0</td>\n",
              "      <td>0.0</td>\n",
              "      <td>0.0</td>\n",
              "      <td>0.0</td>\n",
              "      <td>0.0</td>\n",
              "      <td>0.0</td>\n",
              "      <td>0.0</td>\n",
              "      <td>0.0</td>\n",
              "      <td>0.00</td>\n",
              "      <td>0.0</td>\n",
              "      <td>0.0</td>\n",
              "      <td>0.0</td>\n",
              "      <td>0.0</td>\n",
              "      <td>0.0</td>\n",
              "      <td>0.0</td>\n",
              "      <td>0.0</td>\n",
              "      <td>0.0</td>\n",
              "      <td>0.0</td>\n",
              "      <td>0.0</td>\n",
              "      <td>0.00</td>\n",
              "      <td>0.0</td>\n",
              "      <td>0.0</td>\n",
              "      <td>0.00</td>\n",
              "      <td>0.00</td>\n",
              "      <td>3.44</td>\n",
              "      <td>0.0</td>\n",
              "      <td>0.0</td>\n",
              "      <td>0.000</td>\n",
              "      <td>0.000</td>\n",
              "      <td>0.0</td>\n",
              "      <td>0.000</td>\n",
              "      <td>0.0</td>\n",
              "      <td>0.0</td>\n",
              "      <td>1.000</td>\n",
              "      <td>1</td>\n",
              "      <td>8</td>\n",
              "      <td>0</td>\n",
              "    </tr>\n",
              "    <tr>\n",
              "      <th>4592</th>\n",
              "      <td>0.00</td>\n",
              "      <td>0.0</td>\n",
              "      <td>1.25</td>\n",
              "      <td>0.0</td>\n",
              "      <td>2.50</td>\n",
              "      <td>0.00</td>\n",
              "      <td>0.0</td>\n",
              "      <td>0.0</td>\n",
              "      <td>0.0</td>\n",
              "      <td>0.0</td>\n",
              "      <td>0.0</td>\n",
              "      <td>0.00</td>\n",
              "      <td>0.62</td>\n",
              "      <td>0.0</td>\n",
              "      <td>0.0</td>\n",
              "      <td>0.0</td>\n",
              "      <td>0.0</td>\n",
              "      <td>0.00</td>\n",
              "      <td>0.62</td>\n",
              "      <td>0.0</td>\n",
              "      <td>0.00</td>\n",
              "      <td>0.0</td>\n",
              "      <td>0.0</td>\n",
              "      <td>0.0</td>\n",
              "      <td>0.0</td>\n",
              "      <td>0.0</td>\n",
              "      <td>0.0</td>\n",
              "      <td>0.0</td>\n",
              "      <td>0.0</td>\n",
              "      <td>0.00</td>\n",
              "      <td>0.0</td>\n",
              "      <td>0.0</td>\n",
              "      <td>0.0</td>\n",
              "      <td>0.0</td>\n",
              "      <td>0.0</td>\n",
              "      <td>0.0</td>\n",
              "      <td>0.0</td>\n",
              "      <td>0.0</td>\n",
              "      <td>0.0</td>\n",
              "      <td>0.0</td>\n",
              "      <td>0.62</td>\n",
              "      <td>0.0</td>\n",
              "      <td>0.0</td>\n",
              "      <td>1.25</td>\n",
              "      <td>0.62</td>\n",
              "      <td>0.62</td>\n",
              "      <td>0.0</td>\n",
              "      <td>0.0</td>\n",
              "      <td>0.000</td>\n",
              "      <td>0.111</td>\n",
              "      <td>0.0</td>\n",
              "      <td>0.000</td>\n",
              "      <td>0.0</td>\n",
              "      <td>0.0</td>\n",
              "      <td>1.285</td>\n",
              "      <td>4</td>\n",
              "      <td>27</td>\n",
              "      <td>0</td>\n",
              "    </tr>\n",
              "    <tr>\n",
              "      <th>4593</th>\n",
              "      <td>0.00</td>\n",
              "      <td>0.0</td>\n",
              "      <td>0.00</td>\n",
              "      <td>0.0</td>\n",
              "      <td>0.00</td>\n",
              "      <td>0.00</td>\n",
              "      <td>0.0</td>\n",
              "      <td>0.0</td>\n",
              "      <td>0.0</td>\n",
              "      <td>0.0</td>\n",
              "      <td>0.0</td>\n",
              "      <td>0.00</td>\n",
              "      <td>0.00</td>\n",
              "      <td>0.0</td>\n",
              "      <td>0.0</td>\n",
              "      <td>0.0</td>\n",
              "      <td>0.0</td>\n",
              "      <td>0.00</td>\n",
              "      <td>0.00</td>\n",
              "      <td>0.0</td>\n",
              "      <td>0.00</td>\n",
              "      <td>0.0</td>\n",
              "      <td>0.0</td>\n",
              "      <td>0.0</td>\n",
              "      <td>0.0</td>\n",
              "      <td>0.0</td>\n",
              "      <td>0.0</td>\n",
              "      <td>0.0</td>\n",
              "      <td>0.0</td>\n",
              "      <td>0.00</td>\n",
              "      <td>0.0</td>\n",
              "      <td>0.0</td>\n",
              "      <td>0.0</td>\n",
              "      <td>0.0</td>\n",
              "      <td>0.0</td>\n",
              "      <td>0.0</td>\n",
              "      <td>0.0</td>\n",
              "      <td>0.0</td>\n",
              "      <td>0.0</td>\n",
              "      <td>0.0</td>\n",
              "      <td>0.00</td>\n",
              "      <td>0.0</td>\n",
              "      <td>0.0</td>\n",
              "      <td>0.00</td>\n",
              "      <td>0.00</td>\n",
              "      <td>7.69</td>\n",
              "      <td>0.0</td>\n",
              "      <td>0.0</td>\n",
              "      <td>0.000</td>\n",
              "      <td>0.000</td>\n",
              "      <td>0.0</td>\n",
              "      <td>1.052</td>\n",
              "      <td>0.0</td>\n",
              "      <td>0.0</td>\n",
              "      <td>1.000</td>\n",
              "      <td>1</td>\n",
              "      <td>6</td>\n",
              "      <td>0</td>\n",
              "    </tr>\n",
              "    <tr>\n",
              "      <th>4594</th>\n",
              "      <td>0.00</td>\n",
              "      <td>0.0</td>\n",
              "      <td>0.00</td>\n",
              "      <td>0.0</td>\n",
              "      <td>0.00</td>\n",
              "      <td>0.00</td>\n",
              "      <td>0.0</td>\n",
              "      <td>0.0</td>\n",
              "      <td>0.0</td>\n",
              "      <td>0.0</td>\n",
              "      <td>0.0</td>\n",
              "      <td>1.61</td>\n",
              "      <td>0.00</td>\n",
              "      <td>0.0</td>\n",
              "      <td>0.0</td>\n",
              "      <td>0.0</td>\n",
              "      <td>0.0</td>\n",
              "      <td>0.00</td>\n",
              "      <td>6.45</td>\n",
              "      <td>0.0</td>\n",
              "      <td>0.00</td>\n",
              "      <td>0.0</td>\n",
              "      <td>0.0</td>\n",
              "      <td>0.0</td>\n",
              "      <td>0.0</td>\n",
              "      <td>0.0</td>\n",
              "      <td>0.0</td>\n",
              "      <td>0.0</td>\n",
              "      <td>0.0</td>\n",
              "      <td>1.61</td>\n",
              "      <td>0.0</td>\n",
              "      <td>0.0</td>\n",
              "      <td>0.0</td>\n",
              "      <td>0.0</td>\n",
              "      <td>0.0</td>\n",
              "      <td>0.0</td>\n",
              "      <td>0.0</td>\n",
              "      <td>0.0</td>\n",
              "      <td>0.0</td>\n",
              "      <td>0.0</td>\n",
              "      <td>0.00</td>\n",
              "      <td>0.0</td>\n",
              "      <td>0.0</td>\n",
              "      <td>0.00</td>\n",
              "      <td>0.00</td>\n",
              "      <td>1.61</td>\n",
              "      <td>0.0</td>\n",
              "      <td>0.0</td>\n",
              "      <td>0.000</td>\n",
              "      <td>0.630</td>\n",
              "      <td>0.0</td>\n",
              "      <td>0.000</td>\n",
              "      <td>0.0</td>\n",
              "      <td>0.0</td>\n",
              "      <td>1.727</td>\n",
              "      <td>5</td>\n",
              "      <td>19</td>\n",
              "      <td>0</td>\n",
              "    </tr>\n",
              "    <tr>\n",
              "      <th>4595</th>\n",
              "      <td>0.00</td>\n",
              "      <td>0.0</td>\n",
              "      <td>1.19</td>\n",
              "      <td>0.0</td>\n",
              "      <td>0.00</td>\n",
              "      <td>0.00</td>\n",
              "      <td>0.0</td>\n",
              "      <td>0.0</td>\n",
              "      <td>0.0</td>\n",
              "      <td>0.0</td>\n",
              "      <td>0.0</td>\n",
              "      <td>0.00</td>\n",
              "      <td>0.00</td>\n",
              "      <td>0.0</td>\n",
              "      <td>0.0</td>\n",
              "      <td>0.0</td>\n",
              "      <td>0.0</td>\n",
              "      <td>0.59</td>\n",
              "      <td>3.57</td>\n",
              "      <td>0.0</td>\n",
              "      <td>1.19</td>\n",
              "      <td>0.0</td>\n",
              "      <td>0.0</td>\n",
              "      <td>0.0</td>\n",
              "      <td>0.0</td>\n",
              "      <td>0.0</td>\n",
              "      <td>0.0</td>\n",
              "      <td>0.0</td>\n",
              "      <td>0.0</td>\n",
              "      <td>0.00</td>\n",
              "      <td>0.0</td>\n",
              "      <td>0.0</td>\n",
              "      <td>0.0</td>\n",
              "      <td>0.0</td>\n",
              "      <td>0.0</td>\n",
              "      <td>0.0</td>\n",
              "      <td>0.0</td>\n",
              "      <td>0.0</td>\n",
              "      <td>0.0</td>\n",
              "      <td>0.0</td>\n",
              "      <td>0.00</td>\n",
              "      <td>0.0</td>\n",
              "      <td>0.0</td>\n",
              "      <td>0.00</td>\n",
              "      <td>0.00</td>\n",
              "      <td>0.59</td>\n",
              "      <td>0.0</td>\n",
              "      <td>0.0</td>\n",
              "      <td>0.000</td>\n",
              "      <td>0.000</td>\n",
              "      <td>0.0</td>\n",
              "      <td>0.000</td>\n",
              "      <td>0.0</td>\n",
              "      <td>0.0</td>\n",
              "      <td>1.000</td>\n",
              "      <td>1</td>\n",
              "      <td>24</td>\n",
              "      <td>0</td>\n",
              "    </tr>\n",
              "    <tr>\n",
              "      <th>4596</th>\n",
              "      <td>0.31</td>\n",
              "      <td>0.0</td>\n",
              "      <td>0.62</td>\n",
              "      <td>0.0</td>\n",
              "      <td>0.00</td>\n",
              "      <td>0.31</td>\n",
              "      <td>0.0</td>\n",
              "      <td>0.0</td>\n",
              "      <td>0.0</td>\n",
              "      <td>0.0</td>\n",
              "      <td>0.0</td>\n",
              "      <td>1.88</td>\n",
              "      <td>0.00</td>\n",
              "      <td>0.0</td>\n",
              "      <td>0.0</td>\n",
              "      <td>0.0</td>\n",
              "      <td>0.0</td>\n",
              "      <td>0.00</td>\n",
              "      <td>0.62</td>\n",
              "      <td>0.0</td>\n",
              "      <td>0.00</td>\n",
              "      <td>0.0</td>\n",
              "      <td>0.0</td>\n",
              "      <td>0.0</td>\n",
              "      <td>0.0</td>\n",
              "      <td>0.0</td>\n",
              "      <td>0.0</td>\n",
              "      <td>0.0</td>\n",
              "      <td>0.0</td>\n",
              "      <td>0.00</td>\n",
              "      <td>0.0</td>\n",
              "      <td>0.0</td>\n",
              "      <td>0.0</td>\n",
              "      <td>0.0</td>\n",
              "      <td>0.0</td>\n",
              "      <td>0.0</td>\n",
              "      <td>0.0</td>\n",
              "      <td>0.0</td>\n",
              "      <td>0.0</td>\n",
              "      <td>0.0</td>\n",
              "      <td>0.00</td>\n",
              "      <td>0.0</td>\n",
              "      <td>0.0</td>\n",
              "      <td>0.31</td>\n",
              "      <td>0.31</td>\n",
              "      <td>0.31</td>\n",
              "      <td>0.0</td>\n",
              "      <td>0.0</td>\n",
              "      <td>0.000</td>\n",
              "      <td>0.232</td>\n",
              "      <td>0.0</td>\n",
              "      <td>0.000</td>\n",
              "      <td>0.0</td>\n",
              "      <td>0.0</td>\n",
              "      <td>1.142</td>\n",
              "      <td>3</td>\n",
              "      <td>88</td>\n",
              "      <td>0</td>\n",
              "    </tr>\n",
              "    <tr>\n",
              "      <th>4597</th>\n",
              "      <td>0.00</td>\n",
              "      <td>0.0</td>\n",
              "      <td>0.00</td>\n",
              "      <td>0.0</td>\n",
              "      <td>0.00</td>\n",
              "      <td>0.00</td>\n",
              "      <td>0.0</td>\n",
              "      <td>0.0</td>\n",
              "      <td>0.0</td>\n",
              "      <td>0.0</td>\n",
              "      <td>0.0</td>\n",
              "      <td>0.00</td>\n",
              "      <td>0.00</td>\n",
              "      <td>0.0</td>\n",
              "      <td>0.0</td>\n",
              "      <td>0.0</td>\n",
              "      <td>0.0</td>\n",
              "      <td>0.00</td>\n",
              "      <td>6.00</td>\n",
              "      <td>0.0</td>\n",
              "      <td>2.00</td>\n",
              "      <td>0.0</td>\n",
              "      <td>0.0</td>\n",
              "      <td>0.0</td>\n",
              "      <td>0.0</td>\n",
              "      <td>0.0</td>\n",
              "      <td>0.0</td>\n",
              "      <td>0.0</td>\n",
              "      <td>0.0</td>\n",
              "      <td>0.00</td>\n",
              "      <td>0.0</td>\n",
              "      <td>0.0</td>\n",
              "      <td>0.0</td>\n",
              "      <td>0.0</td>\n",
              "      <td>0.0</td>\n",
              "      <td>0.0</td>\n",
              "      <td>0.0</td>\n",
              "      <td>0.0</td>\n",
              "      <td>0.0</td>\n",
              "      <td>0.0</td>\n",
              "      <td>0.00</td>\n",
              "      <td>0.0</td>\n",
              "      <td>0.0</td>\n",
              "      <td>0.00</td>\n",
              "      <td>0.00</td>\n",
              "      <td>2.00</td>\n",
              "      <td>0.0</td>\n",
              "      <td>0.0</td>\n",
              "      <td>0.000</td>\n",
              "      <td>0.000</td>\n",
              "      <td>0.0</td>\n",
              "      <td>0.353</td>\n",
              "      <td>0.0</td>\n",
              "      <td>0.0</td>\n",
              "      <td>1.555</td>\n",
              "      <td>4</td>\n",
              "      <td>14</td>\n",
              "      <td>0</td>\n",
              "    </tr>\n",
              "    <tr>\n",
              "      <th>4598</th>\n",
              "      <td>0.30</td>\n",
              "      <td>0.0</td>\n",
              "      <td>0.30</td>\n",
              "      <td>0.0</td>\n",
              "      <td>0.00</td>\n",
              "      <td>0.00</td>\n",
              "      <td>0.0</td>\n",
              "      <td>0.0</td>\n",
              "      <td>0.0</td>\n",
              "      <td>0.0</td>\n",
              "      <td>0.0</td>\n",
              "      <td>1.80</td>\n",
              "      <td>0.30</td>\n",
              "      <td>0.0</td>\n",
              "      <td>0.0</td>\n",
              "      <td>0.0</td>\n",
              "      <td>0.0</td>\n",
              "      <td>0.90</td>\n",
              "      <td>1.50</td>\n",
              "      <td>0.0</td>\n",
              "      <td>0.30</td>\n",
              "      <td>0.0</td>\n",
              "      <td>0.0</td>\n",
              "      <td>0.0</td>\n",
              "      <td>0.0</td>\n",
              "      <td>0.0</td>\n",
              "      <td>0.0</td>\n",
              "      <td>0.0</td>\n",
              "      <td>0.0</td>\n",
              "      <td>0.00</td>\n",
              "      <td>0.0</td>\n",
              "      <td>0.0</td>\n",
              "      <td>0.0</td>\n",
              "      <td>0.0</td>\n",
              "      <td>0.0</td>\n",
              "      <td>0.0</td>\n",
              "      <td>0.0</td>\n",
              "      <td>0.0</td>\n",
              "      <td>0.0</td>\n",
              "      <td>0.0</td>\n",
              "      <td>0.00</td>\n",
              "      <td>0.0</td>\n",
              "      <td>0.0</td>\n",
              "      <td>0.00</td>\n",
              "      <td>0.00</td>\n",
              "      <td>1.20</td>\n",
              "      <td>0.0</td>\n",
              "      <td>0.0</td>\n",
              "      <td>0.102</td>\n",
              "      <td>0.718</td>\n",
              "      <td>0.0</td>\n",
              "      <td>0.000</td>\n",
              "      <td>0.0</td>\n",
              "      <td>0.0</td>\n",
              "      <td>1.404</td>\n",
              "      <td>6</td>\n",
              "      <td>118</td>\n",
              "      <td>0</td>\n",
              "    </tr>\n",
              "    <tr>\n",
              "      <th>4599</th>\n",
              "      <td>0.96</td>\n",
              "      <td>0.0</td>\n",
              "      <td>0.00</td>\n",
              "      <td>0.0</td>\n",
              "      <td>0.32</td>\n",
              "      <td>0.00</td>\n",
              "      <td>0.0</td>\n",
              "      <td>0.0</td>\n",
              "      <td>0.0</td>\n",
              "      <td>0.0</td>\n",
              "      <td>0.0</td>\n",
              "      <td>0.32</td>\n",
              "      <td>0.00</td>\n",
              "      <td>0.0</td>\n",
              "      <td>0.0</td>\n",
              "      <td>0.0</td>\n",
              "      <td>0.0</td>\n",
              "      <td>0.00</td>\n",
              "      <td>1.93</td>\n",
              "      <td>0.0</td>\n",
              "      <td>0.32</td>\n",
              "      <td>0.0</td>\n",
              "      <td>0.0</td>\n",
              "      <td>0.0</td>\n",
              "      <td>0.0</td>\n",
              "      <td>0.0</td>\n",
              "      <td>0.0</td>\n",
              "      <td>0.0</td>\n",
              "      <td>0.0</td>\n",
              "      <td>0.00</td>\n",
              "      <td>0.0</td>\n",
              "      <td>0.0</td>\n",
              "      <td>0.0</td>\n",
              "      <td>0.0</td>\n",
              "      <td>0.0</td>\n",
              "      <td>0.0</td>\n",
              "      <td>0.0</td>\n",
              "      <td>0.0</td>\n",
              "      <td>0.0</td>\n",
              "      <td>0.0</td>\n",
              "      <td>0.00</td>\n",
              "      <td>0.0</td>\n",
              "      <td>0.0</td>\n",
              "      <td>0.32</td>\n",
              "      <td>0.00</td>\n",
              "      <td>0.32</td>\n",
              "      <td>0.0</td>\n",
              "      <td>0.0</td>\n",
              "      <td>0.000</td>\n",
              "      <td>0.057</td>\n",
              "      <td>0.0</td>\n",
              "      <td>0.000</td>\n",
              "      <td>0.0</td>\n",
              "      <td>0.0</td>\n",
              "      <td>1.147</td>\n",
              "      <td>5</td>\n",
              "      <td>78</td>\n",
              "      <td>0</td>\n",
              "    </tr>\n",
              "    <tr>\n",
              "      <th>4600</th>\n",
              "      <td>0.00</td>\n",
              "      <td>0.0</td>\n",
              "      <td>0.65</td>\n",
              "      <td>0.0</td>\n",
              "      <td>0.00</td>\n",
              "      <td>0.00</td>\n",
              "      <td>0.0</td>\n",
              "      <td>0.0</td>\n",
              "      <td>0.0</td>\n",
              "      <td>0.0</td>\n",
              "      <td>0.0</td>\n",
              "      <td>0.00</td>\n",
              "      <td>0.65</td>\n",
              "      <td>0.0</td>\n",
              "      <td>0.0</td>\n",
              "      <td>0.0</td>\n",
              "      <td>0.0</td>\n",
              "      <td>0.00</td>\n",
              "      <td>4.60</td>\n",
              "      <td>0.0</td>\n",
              "      <td>0.65</td>\n",
              "      <td>0.0</td>\n",
              "      <td>0.0</td>\n",
              "      <td>0.0</td>\n",
              "      <td>0.0</td>\n",
              "      <td>0.0</td>\n",
              "      <td>0.0</td>\n",
              "      <td>0.0</td>\n",
              "      <td>0.0</td>\n",
              "      <td>0.00</td>\n",
              "      <td>0.0</td>\n",
              "      <td>0.0</td>\n",
              "      <td>0.0</td>\n",
              "      <td>0.0</td>\n",
              "      <td>0.0</td>\n",
              "      <td>0.0</td>\n",
              "      <td>0.0</td>\n",
              "      <td>0.0</td>\n",
              "      <td>0.0</td>\n",
              "      <td>0.0</td>\n",
              "      <td>0.00</td>\n",
              "      <td>0.0</td>\n",
              "      <td>0.0</td>\n",
              "      <td>0.00</td>\n",
              "      <td>1.97</td>\n",
              "      <td>0.65</td>\n",
              "      <td>0.0</td>\n",
              "      <td>0.0</td>\n",
              "      <td>0.000</td>\n",
              "      <td>0.000</td>\n",
              "      <td>0.0</td>\n",
              "      <td>0.125</td>\n",
              "      <td>0.0</td>\n",
              "      <td>0.0</td>\n",
              "      <td>1.250</td>\n",
              "      <td>5</td>\n",
              "      <td>40</td>\n",
              "      <td>0</td>\n",
              "    </tr>\n",
              "  </tbody>\n",
              "</table>\n",
              "</div>"
            ],
            "text/plain": [
              "      word_freq_make  word_freq_address  ...  capital_run_length_total  spam\n",
              "4591            0.00                0.0  ...                         8     0\n",
              "4592            0.00                0.0  ...                        27     0\n",
              "4593            0.00                0.0  ...                         6     0\n",
              "4594            0.00                0.0  ...                        19     0\n",
              "4595            0.00                0.0  ...                        24     0\n",
              "4596            0.31                0.0  ...                        88     0\n",
              "4597            0.00                0.0  ...                        14     0\n",
              "4598            0.30                0.0  ...                       118     0\n",
              "4599            0.96                0.0  ...                        78     0\n",
              "4600            0.00                0.0  ...                        40     0\n",
              "\n",
              "[10 rows x 58 columns]"
            ]
          },
          "metadata": {
            "tags": []
          },
          "execution_count": 6
        }
      ]
    },
    {
      "cell_type": "markdown",
      "metadata": {
        "id": "OkpRtJ5UsznP"
      },
      "source": [
        "**Acessing basic info about our dataset**"
      ]
    },
    {
      "cell_type": "code",
      "metadata": {
        "colab": {
          "base_uri": "https://localhost:8080/"
        },
        "id": "MgPjb7uCs5Xz",
        "outputId": "f3af6de2-0076-44e4-933c-586a881bd342"
      },
      "source": [
        "data.info()"
      ],
      "execution_count": 7,
      "outputs": [
        {
          "output_type": "stream",
          "text": [
            "<class 'pandas.core.frame.DataFrame'>\n",
            "RangeIndex: 4601 entries, 0 to 4600\n",
            "Data columns (total 58 columns):\n",
            " #   Column                      Non-Null Count  Dtype  \n",
            "---  ------                      --------------  -----  \n",
            " 0   word_freq_make              4601 non-null   float64\n",
            " 1   word_freq_address           4601 non-null   float64\n",
            " 2   word_freq_all               4601 non-null   float64\n",
            " 3   word_freq_3d                4601 non-null   float64\n",
            " 4   word_freq_our               4601 non-null   float64\n",
            " 5   word_freq_over              4601 non-null   float64\n",
            " 6   word_freq_remove            4601 non-null   float64\n",
            " 7   word_freq_internet          4601 non-null   float64\n",
            " 8   word_freq_order             4601 non-null   float64\n",
            " 9   word_freq_mail              4601 non-null   float64\n",
            " 10  word_freq_receive           4601 non-null   float64\n",
            " 11  word_freq_will              4601 non-null   float64\n",
            " 12  word_freq_people            4601 non-null   float64\n",
            " 13  word_freq_report            4601 non-null   float64\n",
            " 14  word_freq_addresses         4601 non-null   float64\n",
            " 15  word_freq_free              4601 non-null   float64\n",
            " 16  word_freq_business          4601 non-null   float64\n",
            " 17  word_freq_email             4601 non-null   float64\n",
            " 18  word_freq_you               4601 non-null   float64\n",
            " 19  word_freq_credit            4601 non-null   float64\n",
            " 20  word_freq_your              4601 non-null   float64\n",
            " 21  word_freq_font              4601 non-null   float64\n",
            " 22  word_freq_000               4601 non-null   float64\n",
            " 23  word_freq_money             4601 non-null   float64\n",
            " 24  word_freq_hp                4601 non-null   float64\n",
            " 25  word_freq_hpl               4601 non-null   float64\n",
            " 26  word_freq_george            4601 non-null   float64\n",
            " 27  word_freq_650               4601 non-null   float64\n",
            " 28  word_freq_lab               4601 non-null   float64\n",
            " 29  word_freq_labs              4601 non-null   float64\n",
            " 30  word_freq_telnet            4601 non-null   float64\n",
            " 31  word_freq_857               4601 non-null   float64\n",
            " 32  word_freq_data              4601 non-null   float64\n",
            " 33  word_freq_415               4601 non-null   float64\n",
            " 34  word_freq_85                4601 non-null   float64\n",
            " 35  word_freq_technology        4601 non-null   float64\n",
            " 36  word_freq_1999              4601 non-null   float64\n",
            " 37  word_freq_parts             4601 non-null   float64\n",
            " 38  word_freq_pm                4601 non-null   float64\n",
            " 39  word_freq_direct            4601 non-null   float64\n",
            " 40  word_freq_cs                4601 non-null   float64\n",
            " 41  word_freq_meeting           4601 non-null   float64\n",
            " 42  word_freq_original          4601 non-null   float64\n",
            " 43  word_freq_project           4601 non-null   float64\n",
            " 44  word_freq_re                4601 non-null   float64\n",
            " 45  word_freq_edu               4601 non-null   float64\n",
            " 46  word_freq_table             4601 non-null   float64\n",
            " 47  word_freq_conference        4601 non-null   float64\n",
            " 48  char_freq_;                 4601 non-null   float64\n",
            " 49  char_freq_(                 4601 non-null   float64\n",
            " 50  char_freq_[                 4601 non-null   float64\n",
            " 51  char_freq_!                 4601 non-null   float64\n",
            " 52  char_freq_$                 4601 non-null   float64\n",
            " 53  char_freq_#                 4601 non-null   float64\n",
            " 54  capital_run_length_average  4601 non-null   float64\n",
            " 55  capital_run_length_longest  4601 non-null   int64  \n",
            " 56  capital_run_length_total    4601 non-null   int64  \n",
            " 57  spam                        4601 non-null   int64  \n",
            "dtypes: float64(55), int64(3)\n",
            "memory usage: 2.0 MB\n"
          ],
          "name": "stdout"
        }
      ]
    },
    {
      "cell_type": "code",
      "metadata": {
        "colab": {
          "base_uri": "https://localhost:8080/"
        },
        "id": "GXsblE6ByO91",
        "outputId": "8c157185-4151-4830-b039-aaac4183db1d"
      },
      "source": [
        "data.shape"
      ],
      "execution_count": 8,
      "outputs": [
        {
          "output_type": "execute_result",
          "data": {
            "text/plain": [
              "(4601, 58)"
            ]
          },
          "metadata": {
            "tags": []
          },
          "execution_count": 8
        }
      ]
    },
    {
      "cell_type": "code",
      "metadata": {
        "colab": {
          "base_uri": "https://localhost:8080/"
        },
        "id": "oOk3fd1n0C_G",
        "outputId": "b7c5e988-2194-458c-cb6d-1b32d4bfe851"
      },
      "source": [
        "data.dtypes"
      ],
      "execution_count": 9,
      "outputs": [
        {
          "output_type": "execute_result",
          "data": {
            "text/plain": [
              "word_freq_make                float64\n",
              "word_freq_address             float64\n",
              "word_freq_all                 float64\n",
              "word_freq_3d                  float64\n",
              "word_freq_our                 float64\n",
              "word_freq_over                float64\n",
              "word_freq_remove              float64\n",
              "word_freq_internet            float64\n",
              "word_freq_order               float64\n",
              "word_freq_mail                float64\n",
              "word_freq_receive             float64\n",
              "word_freq_will                float64\n",
              "word_freq_people              float64\n",
              "word_freq_report              float64\n",
              "word_freq_addresses           float64\n",
              "word_freq_free                float64\n",
              "word_freq_business            float64\n",
              "word_freq_email               float64\n",
              "word_freq_you                 float64\n",
              "word_freq_credit              float64\n",
              "word_freq_your                float64\n",
              "word_freq_font                float64\n",
              "word_freq_000                 float64\n",
              "word_freq_money               float64\n",
              "word_freq_hp                  float64\n",
              "word_freq_hpl                 float64\n",
              "word_freq_george              float64\n",
              "word_freq_650                 float64\n",
              "word_freq_lab                 float64\n",
              "word_freq_labs                float64\n",
              "word_freq_telnet              float64\n",
              "word_freq_857                 float64\n",
              "word_freq_data                float64\n",
              "word_freq_415                 float64\n",
              "word_freq_85                  float64\n",
              "word_freq_technology          float64\n",
              "word_freq_1999                float64\n",
              "word_freq_parts               float64\n",
              "word_freq_pm                  float64\n",
              "word_freq_direct              float64\n",
              "word_freq_cs                  float64\n",
              "word_freq_meeting             float64\n",
              "word_freq_original            float64\n",
              "word_freq_project             float64\n",
              "word_freq_re                  float64\n",
              "word_freq_edu                 float64\n",
              "word_freq_table               float64\n",
              "word_freq_conference          float64\n",
              "char_freq_;                   float64\n",
              "char_freq_(                   float64\n",
              "char_freq_[                   float64\n",
              "char_freq_!                   float64\n",
              "char_freq_$                   float64\n",
              "char_freq_#                   float64\n",
              "capital_run_length_average    float64\n",
              "capital_run_length_longest      int64\n",
              "capital_run_length_total        int64\n",
              "spam                            int64\n",
              "dtype: object"
            ]
          },
          "metadata": {
            "tags": []
          },
          "execution_count": 9
        }
      ]
    },
    {
      "cell_type": "code",
      "metadata": {
        "id": "imkCfEhK0Csb"
      },
      "source": [
        "##Our dataset has 56 columns, one which is our preditor variable (spam). Our dtypes are mostly of the float type which we might need to convert"
      ],
      "execution_count": 10,
      "outputs": []
    },
    {
      "cell_type": "code",
      "metadata": {
        "colab": {
          "base_uri": "https://localhost:8080/"
        },
        "id": "pYtP4vL8WbX_",
        "outputId": "7eb1b250-062b-4df9-d784-0c8824863d79"
      },
      "source": [
        "for i in data.columns:\n",
        "    try:\n",
        "        data[[i]] = data[[i]].astype(float).astype(int)\n",
        "    except:\n",
        "        pass\n",
        "\n",
        "print(data.dtypes)"
      ],
      "execution_count": 11,
      "outputs": [
        {
          "output_type": "stream",
          "text": [
            "word_freq_make                int64\n",
            "word_freq_address             int64\n",
            "word_freq_all                 int64\n",
            "word_freq_3d                  int64\n",
            "word_freq_our                 int64\n",
            "word_freq_over                int64\n",
            "word_freq_remove              int64\n",
            "word_freq_internet            int64\n",
            "word_freq_order               int64\n",
            "word_freq_mail                int64\n",
            "word_freq_receive             int64\n",
            "word_freq_will                int64\n",
            "word_freq_people              int64\n",
            "word_freq_report              int64\n",
            "word_freq_addresses           int64\n",
            "word_freq_free                int64\n",
            "word_freq_business            int64\n",
            "word_freq_email               int64\n",
            "word_freq_you                 int64\n",
            "word_freq_credit              int64\n",
            "word_freq_your                int64\n",
            "word_freq_font                int64\n",
            "word_freq_000                 int64\n",
            "word_freq_money               int64\n",
            "word_freq_hp                  int64\n",
            "word_freq_hpl                 int64\n",
            "word_freq_george              int64\n",
            "word_freq_650                 int64\n",
            "word_freq_lab                 int64\n",
            "word_freq_labs                int64\n",
            "word_freq_telnet              int64\n",
            "word_freq_857                 int64\n",
            "word_freq_data                int64\n",
            "word_freq_415                 int64\n",
            "word_freq_85                  int64\n",
            "word_freq_technology          int64\n",
            "word_freq_1999                int64\n",
            "word_freq_parts               int64\n",
            "word_freq_pm                  int64\n",
            "word_freq_direct              int64\n",
            "word_freq_cs                  int64\n",
            "word_freq_meeting             int64\n",
            "word_freq_original            int64\n",
            "word_freq_project             int64\n",
            "word_freq_re                  int64\n",
            "word_freq_edu                 int64\n",
            "word_freq_table               int64\n",
            "word_freq_conference          int64\n",
            "char_freq_;                   int64\n",
            "char_freq_(                   int64\n",
            "char_freq_[                   int64\n",
            "char_freq_!                   int64\n",
            "char_freq_$                   int64\n",
            "char_freq_#                   int64\n",
            "capital_run_length_average    int64\n",
            "capital_run_length_longest    int64\n",
            "capital_run_length_total      int64\n",
            "spam                          int64\n",
            "dtype: object\n"
          ],
          "name": "stdout"
        }
      ]
    },
    {
      "cell_type": "markdown",
      "metadata": {
        "id": "ySRF-AkkSw9F"
      },
      "source": [
        "*Checking for unique values*"
      ]
    },
    {
      "cell_type": "code",
      "metadata": {
        "colab": {
          "base_uri": "https://localhost:8080/"
        },
        "id": "7C0MPV0VSWCp",
        "outputId": "d79129c3-d087-49a0-fea4-b61729027fd4"
      },
      "source": [
        "data.nunique()"
      ],
      "execution_count": 12,
      "outputs": [
        {
          "output_type": "execute_result",
          "data": {
            "text/plain": [
              "word_freq_make                  5\n",
              "word_freq_address              10\n",
              "word_freq_all                   6\n",
              "word_freq_3d                   11\n",
              "word_freq_our                  11\n",
              "word_freq_over                  5\n",
              "word_freq_remove                7\n",
              "word_freq_internet              8\n",
              "word_freq_order                 5\n",
              "word_freq_mail                  9\n",
              "word_freq_receive               3\n",
              "word_freq_will                  9\n",
              "word_freq_people                4\n",
              "word_freq_report                7\n",
              "word_freq_addresses             4\n",
              "word_freq_free                 11\n",
              "word_freq_business              7\n",
              "word_freq_email                 9\n",
              "word_freq_you                  15\n",
              "word_freq_credit                8\n",
              "word_freq_your                 12\n",
              "word_freq_font                 16\n",
              "word_freq_000                   6\n",
              "word_freq_money                 9\n",
              "word_freq_hp                   19\n",
              "word_freq_hpl                  13\n",
              "word_freq_george               19\n",
              "word_freq_650                   8\n",
              "word_freq_lab                  12\n",
              "word_freq_labs                  6\n",
              "word_freq_telnet                6\n",
              "word_freq_857                   5\n",
              "word_freq_data                 10\n",
              "word_freq_415                   5\n",
              "word_freq_85                    7\n",
              "word_freq_technology            6\n",
              "word_freq_1999                  7\n",
              "word_freq_parts                 8\n",
              "word_freq_pm                    9\n",
              "word_freq_direct                5\n",
              "word_freq_cs                    7\n",
              "word_freq_meeting              13\n",
              "word_freq_original              4\n",
              "word_freq_project              11\n",
              "word_freq_re                   16\n",
              "word_freq_edu                  15\n",
              "word_freq_table                 3\n",
              "word_freq_conference            8\n",
              "char_freq_;                     5\n",
              "char_freq_(                     6\n",
              "char_freq_[                     4\n",
              "char_freq_!                    12\n",
              "char_freq_$                     7\n",
              "char_freq_#                     9\n",
              "capital_run_length_average     66\n",
              "capital_run_length_longest    271\n",
              "capital_run_length_total      919\n",
              "spam                            2\n",
              "dtype: int64"
            ]
          },
          "metadata": {
            "tags": []
          },
          "execution_count": 12
        }
      ]
    },
    {
      "cell_type": "markdown",
      "metadata": {
        "id": "Aa0vc-lj131p"
      },
      "source": [
        "**Data Cleaning**"
      ]
    },
    {
      "cell_type": "markdown",
      "metadata": {
        "id": "AavNwdb619Dn"
      },
      "source": [
        "*Missing values*"
      ]
    },
    {
      "cell_type": "code",
      "metadata": {
        "colab": {
          "base_uri": "https://localhost:8080/"
        },
        "id": "Jmex5d742AAb",
        "outputId": "49f3a161-3e6b-4f55-94a4-8b4565d6b3d1"
      },
      "source": [
        "data.isnull().sum()"
      ],
      "execution_count": 13,
      "outputs": [
        {
          "output_type": "execute_result",
          "data": {
            "text/plain": [
              "word_freq_make                0\n",
              "word_freq_address             0\n",
              "word_freq_all                 0\n",
              "word_freq_3d                  0\n",
              "word_freq_our                 0\n",
              "word_freq_over                0\n",
              "word_freq_remove              0\n",
              "word_freq_internet            0\n",
              "word_freq_order               0\n",
              "word_freq_mail                0\n",
              "word_freq_receive             0\n",
              "word_freq_will                0\n",
              "word_freq_people              0\n",
              "word_freq_report              0\n",
              "word_freq_addresses           0\n",
              "word_freq_free                0\n",
              "word_freq_business            0\n",
              "word_freq_email               0\n",
              "word_freq_you                 0\n",
              "word_freq_credit              0\n",
              "word_freq_your                0\n",
              "word_freq_font                0\n",
              "word_freq_000                 0\n",
              "word_freq_money               0\n",
              "word_freq_hp                  0\n",
              "word_freq_hpl                 0\n",
              "word_freq_george              0\n",
              "word_freq_650                 0\n",
              "word_freq_lab                 0\n",
              "word_freq_labs                0\n",
              "word_freq_telnet              0\n",
              "word_freq_857                 0\n",
              "word_freq_data                0\n",
              "word_freq_415                 0\n",
              "word_freq_85                  0\n",
              "word_freq_technology          0\n",
              "word_freq_1999                0\n",
              "word_freq_parts               0\n",
              "word_freq_pm                  0\n",
              "word_freq_direct              0\n",
              "word_freq_cs                  0\n",
              "word_freq_meeting             0\n",
              "word_freq_original            0\n",
              "word_freq_project             0\n",
              "word_freq_re                  0\n",
              "word_freq_edu                 0\n",
              "word_freq_table               0\n",
              "word_freq_conference          0\n",
              "char_freq_;                   0\n",
              "char_freq_(                   0\n",
              "char_freq_[                   0\n",
              "char_freq_!                   0\n",
              "char_freq_$                   0\n",
              "char_freq_#                   0\n",
              "capital_run_length_average    0\n",
              "capital_run_length_longest    0\n",
              "capital_run_length_total      0\n",
              "spam                          0\n",
              "dtype: int64"
            ]
          },
          "metadata": {
            "tags": []
          },
          "execution_count": 13
        }
      ]
    },
    {
      "cell_type": "code",
      "metadata": {
        "id": "4H5ev0pA2F1y"
      },
      "source": [
        "#There are no missing values in our dataset"
      ],
      "execution_count": 14,
      "outputs": []
    },
    {
      "cell_type": "markdown",
      "metadata": {
        "id": "fHbaTcNI2KM8"
      },
      "source": [
        "*Checking for duplicates*"
      ]
    },
    {
      "cell_type": "code",
      "metadata": {
        "colab": {
          "base_uri": "https://localhost:8080/"
        },
        "id": "21EhdX3N2NnF",
        "outputId": "94c18b93-b26e-4de4-849b-2a64900af019"
      },
      "source": [
        "data.duplicated().value_counts()"
      ],
      "execution_count": 15,
      "outputs": [
        {
          "output_type": "execute_result",
          "data": {
            "text/plain": [
              "False    4009\n",
              "True      592\n",
              "dtype: int64"
            ]
          },
          "metadata": {
            "tags": []
          },
          "execution_count": 15
        }
      ]
    },
    {
      "cell_type": "code",
      "metadata": {
        "colab": {
          "base_uri": "https://localhost:8080/"
        },
        "id": "n9CUWKEN2yLw",
        "outputId": "f8f12d85-8102-4ebd-aaf3-57ec025c051e"
      },
      "source": [
        "#We will view to check whether the data is duplicated\n",
        "\n",
        "\n",
        "print(data[data.duplicated()].head())\n",
        "print(data[data.duplicated()].tail())"
      ],
      "execution_count": 16,
      "outputs": [
        {
          "output_type": "stream",
          "text": [
            "     word_freq_make  word_freq_address  ...  capital_run_length_total  spam\n",
            "4                 0                  0  ...                       191     1\n",
            "26                0                  0  ...                        82     1\n",
            "42                0                  0  ...                        28     1\n",
            "93                0                  0  ...                      2453     1\n",
            "103               0                  0  ...                       292     1\n",
            "\n",
            "[5 rows x 58 columns]\n",
            "      word_freq_make  word_freq_address  ...  capital_run_length_total  spam\n",
            "4541               0                  0  ...                         2     0\n",
            "4550               0                  0  ...                         4     0\n",
            "4556               0                  0  ...                        10     0\n",
            "4571               0                  0  ...                        98     0\n",
            "4587               0                  0  ...                        28     0\n",
            "\n",
            "[5 rows x 58 columns]\n"
          ],
          "name": "stdout"
        }
      ]
    },
    {
      "cell_type": "code",
      "metadata": {
        "id": "IQ8tCVbL98Aq"
      },
      "source": [
        "data = data.drop_duplicates()"
      ],
      "execution_count": 17,
      "outputs": []
    },
    {
      "cell_type": "code",
      "metadata": {
        "id": "ID6OsKB23HBV"
      },
      "source": [
        "#The data might not be truly duplicated so we will keep all the records as they are"
      ],
      "execution_count": 18,
      "outputs": []
    },
    {
      "cell_type": "markdown",
      "metadata": {
        "id": "aPgu1FYYTgHx"
      },
      "source": [
        "*Outliers*"
      ]
    },
    {
      "cell_type": "code",
      "metadata": {
        "colab": {
          "base_uri": "https://localhost:8080/"
        },
        "id": "66-HZoCVTjvI",
        "outputId": "9adcf083-24da-4cef-8055-cdc499b35ece"
      },
      "source": [
        "Q1 = data.quantile(0.25)\n",
        "Q3 = data.quantile(0.75)\n",
        "IQR = Q3 - Q1\n",
        "((data < (Q1 - 1.5 * IQR)) | (data > (Q3 + 1.5 * IQR))).sum()"
      ],
      "execution_count": 19,
      "outputs": [
        {
          "output_type": "execute_result",
          "data": {
            "text/plain": [
              "word_freq_make                 73\n",
              "word_freq_address             105\n",
              "word_freq_all                 327\n",
              "word_freq_3d                   18\n",
              "word_freq_our                 436\n",
              "word_freq_over                 71\n",
              "word_freq_remove              142\n",
              "word_freq_internet            118\n",
              "word_freq_order                83\n",
              "word_freq_mail                340\n",
              "word_freq_receive              38\n",
              "word_freq_will                804\n",
              "word_freq_people               85\n",
              "word_freq_report               99\n",
              "word_freq_addresses            61\n",
              "word_freq_free                291\n",
              "word_freq_business            155\n",
              "word_freq_email               264\n",
              "word_freq_you                  94\n",
              "word_freq_credit              106\n",
              "word_freq_your                196\n",
              "word_freq_font                 78\n",
              "word_freq_000                 113\n",
              "word_freq_money                68\n",
              "word_freq_hp                  683\n",
              "word_freq_hpl                 383\n",
              "word_freq_george              390\n",
              "word_freq_650                 179\n",
              "word_freq_lab                 102\n",
              "word_freq_labs                132\n",
              "word_freq_telnet               68\n",
              "word_freq_857                  44\n",
              "word_freq_data                134\n",
              "word_freq_415                  45\n",
              "word_freq_85                  134\n",
              "word_freq_technology          118\n",
              "word_freq_1999                194\n",
              "word_freq_parts                14\n",
              "word_freq_pm                  114\n",
              "word_freq_direct               52\n",
              "word_freq_cs                   62\n",
              "word_freq_meeting             157\n",
              "word_freq_original             60\n",
              "word_freq_project              93\n",
              "word_freq_re                  396\n",
              "word_freq_edu                 229\n",
              "word_freq_table                 6\n",
              "word_freq_conference           40\n",
              "char_freq_;                    24\n",
              "char_freq_(                    34\n",
              "char_freq_[                     8\n",
              "char_freq_!                   242\n",
              "char_freq_$                    31\n",
              "char_freq_#                    36\n",
              "capital_run_length_average    297\n",
              "capital_run_length_longest    385\n",
              "capital_run_length_total      477\n",
              "spam                            0\n",
              "dtype: int64"
            ]
          },
          "metadata": {
            "tags": []
          },
          "execution_count": 19
        }
      ]
    },
    {
      "cell_type": "code",
      "metadata": {
        "id": "WI7_tmUxUiwa"
      },
      "source": [
        "##Our data seems to have a really high number of outliers. We work investigate the effect of these outliers and decide whether to drop them or not"
      ],
      "execution_count": 20,
      "outputs": []
    },
    {
      "cell_type": "markdown",
      "metadata": {
        "id": "K2vaSJLd3YG_"
      },
      "source": [
        "#**Exploratory data Analysis**"
      ]
    },
    {
      "cell_type": "code",
      "metadata": {
        "id": "6QULWCgU3g04"
      },
      "source": [
        "##We will explore some attributes of our data to determine wg. distribution"
      ],
      "execution_count": 21,
      "outputs": []
    },
    {
      "cell_type": "markdown",
      "metadata": {
        "id": "-akbExphRfon"
      },
      "source": [
        "**Univariate data Analysis**"
      ]
    },
    {
      "cell_type": "code",
      "metadata": {
        "colab": {
          "base_uri": "https://localhost:8080/",
          "height": 314
        },
        "id": "sNGFIT7xTI64",
        "outputId": "fb87bac3-4469-4c7a-aa0c-e33e9c92d270"
      },
      "source": [
        "#Getting the descriptive summary of our data\n",
        "\n",
        "data.describe()"
      ],
      "execution_count": 22,
      "outputs": [
        {
          "output_type": "execute_result",
          "data": {
            "text/html": [
              "<div>\n",
              "<style scoped>\n",
              "    .dataframe tbody tr th:only-of-type {\n",
              "        vertical-align: middle;\n",
              "    }\n",
              "\n",
              "    .dataframe tbody tr th {\n",
              "        vertical-align: top;\n",
              "    }\n",
              "\n",
              "    .dataframe thead th {\n",
              "        text-align: right;\n",
              "    }\n",
              "</style>\n",
              "<table border=\"1\" class=\"dataframe\">\n",
              "  <thead>\n",
              "    <tr style=\"text-align: right;\">\n",
              "      <th></th>\n",
              "      <th>word_freq_make</th>\n",
              "      <th>word_freq_address</th>\n",
              "      <th>word_freq_all</th>\n",
              "      <th>word_freq_3d</th>\n",
              "      <th>word_freq_our</th>\n",
              "      <th>word_freq_over</th>\n",
              "      <th>word_freq_remove</th>\n",
              "      <th>word_freq_internet</th>\n",
              "      <th>word_freq_order</th>\n",
              "      <th>word_freq_mail</th>\n",
              "      <th>word_freq_receive</th>\n",
              "      <th>word_freq_will</th>\n",
              "      <th>word_freq_people</th>\n",
              "      <th>word_freq_report</th>\n",
              "      <th>word_freq_addresses</th>\n",
              "      <th>word_freq_free</th>\n",
              "      <th>word_freq_business</th>\n",
              "      <th>word_freq_email</th>\n",
              "      <th>word_freq_you</th>\n",
              "      <th>word_freq_credit</th>\n",
              "      <th>word_freq_your</th>\n",
              "      <th>word_freq_font</th>\n",
              "      <th>word_freq_000</th>\n",
              "      <th>word_freq_money</th>\n",
              "      <th>word_freq_hp</th>\n",
              "      <th>word_freq_hpl</th>\n",
              "      <th>word_freq_george</th>\n",
              "      <th>word_freq_650</th>\n",
              "      <th>word_freq_lab</th>\n",
              "      <th>word_freq_labs</th>\n",
              "      <th>word_freq_telnet</th>\n",
              "      <th>word_freq_857</th>\n",
              "      <th>word_freq_data</th>\n",
              "      <th>word_freq_415</th>\n",
              "      <th>word_freq_85</th>\n",
              "      <th>word_freq_technology</th>\n",
              "      <th>word_freq_1999</th>\n",
              "      <th>word_freq_parts</th>\n",
              "      <th>word_freq_pm</th>\n",
              "      <th>word_freq_direct</th>\n",
              "      <th>word_freq_cs</th>\n",
              "      <th>word_freq_meeting</th>\n",
              "      <th>word_freq_original</th>\n",
              "      <th>word_freq_project</th>\n",
              "      <th>word_freq_re</th>\n",
              "      <th>word_freq_edu</th>\n",
              "      <th>word_freq_table</th>\n",
              "      <th>word_freq_conference</th>\n",
              "      <th>char_freq_;</th>\n",
              "      <th>char_freq_(</th>\n",
              "      <th>char_freq_[</th>\n",
              "      <th>char_freq_!</th>\n",
              "      <th>char_freq_$</th>\n",
              "      <th>char_freq_#</th>\n",
              "      <th>capital_run_length_average</th>\n",
              "      <th>capital_run_length_longest</th>\n",
              "      <th>capital_run_length_total</th>\n",
              "      <th>spam</th>\n",
              "    </tr>\n",
              "  </thead>\n",
              "  <tbody>\n",
              "    <tr>\n",
              "      <th>count</th>\n",
              "      <td>4009.000000</td>\n",
              "      <td>4009.000000</td>\n",
              "      <td>4009.000000</td>\n",
              "      <td>4009.000000</td>\n",
              "      <td>4009.000000</td>\n",
              "      <td>4009.000000</td>\n",
              "      <td>4009.000000</td>\n",
              "      <td>4009.000000</td>\n",
              "      <td>4009.000000</td>\n",
              "      <td>4009.000000</td>\n",
              "      <td>4009.000000</td>\n",
              "      <td>4009.000000</td>\n",
              "      <td>4009.000000</td>\n",
              "      <td>4009.000000</td>\n",
              "      <td>4009.000000</td>\n",
              "      <td>4009.000000</td>\n",
              "      <td>4009.000000</td>\n",
              "      <td>4009.000000</td>\n",
              "      <td>4009.00000</td>\n",
              "      <td>4009.00000</td>\n",
              "      <td>4009.000000</td>\n",
              "      <td>4009.000000</td>\n",
              "      <td>4009.000000</td>\n",
              "      <td>4009.000000</td>\n",
              "      <td>4009.000000</td>\n",
              "      <td>4009.000000</td>\n",
              "      <td>4009.000000</td>\n",
              "      <td>4009.000000</td>\n",
              "      <td>4009.000000</td>\n",
              "      <td>4009.000000</td>\n",
              "      <td>4009.000000</td>\n",
              "      <td>4009.000000</td>\n",
              "      <td>4009.000000</td>\n",
              "      <td>4009.000000</td>\n",
              "      <td>4009.000000</td>\n",
              "      <td>4009.000000</td>\n",
              "      <td>4009.000000</td>\n",
              "      <td>4009.000000</td>\n",
              "      <td>4009.000000</td>\n",
              "      <td>4009.000000</td>\n",
              "      <td>4009.000000</td>\n",
              "      <td>4009.000000</td>\n",
              "      <td>4009.000000</td>\n",
              "      <td>4009.000000</td>\n",
              "      <td>4009.000000</td>\n",
              "      <td>4009.000000</td>\n",
              "      <td>4009.000000</td>\n",
              "      <td>4009.000000</td>\n",
              "      <td>4009.000000</td>\n",
              "      <td>4009.000000</td>\n",
              "      <td>4009.000000</td>\n",
              "      <td>4009.000000</td>\n",
              "      <td>4009.000000</td>\n",
              "      <td>4009.000000</td>\n",
              "      <td>4009.000000</td>\n",
              "      <td>4009.000000</td>\n",
              "      <td>4009.000000</td>\n",
              "      <td>4009.000000</td>\n",
              "    </tr>\n",
              "    <tr>\n",
              "      <th>mean</th>\n",
              "      <td>0.024944</td>\n",
              "      <td>0.045148</td>\n",
              "      <td>0.104515</td>\n",
              "      <td>0.061861</td>\n",
              "      <td>0.160140</td>\n",
              "      <td>0.021202</td>\n",
              "      <td>0.050137</td>\n",
              "      <td>0.045398</td>\n",
              "      <td>0.024445</td>\n",
              "      <td>0.123722</td>\n",
              "      <td>0.010227</td>\n",
              "      <td>0.315789</td>\n",
              "      <td>0.026690</td>\n",
              "      <td>0.036169</td>\n",
              "      <td>0.019207</td>\n",
              "      <td>0.136443</td>\n",
              "      <td>0.058868</td>\n",
              "      <td>0.094288</td>\n",
              "      <td>1.36443</td>\n",
              "      <td>0.05313</td>\n",
              "      <td>0.530057</td>\n",
              "      <td>0.120728</td>\n",
              "      <td>0.038414</td>\n",
              "      <td>0.031928</td>\n",
              "      <td>0.463956</td>\n",
              "      <td>0.193814</td>\n",
              "      <td>0.315789</td>\n",
              "      <td>0.079072</td>\n",
              "      <td>0.059616</td>\n",
              "      <td>0.053879</td>\n",
              "      <td>0.030432</td>\n",
              "      <td>0.019955</td>\n",
              "      <td>0.069095</td>\n",
              "      <td>0.020205</td>\n",
              "      <td>0.058119</td>\n",
              "      <td>0.041407</td>\n",
              "      <td>0.062110</td>\n",
              "      <td>0.009479</td>\n",
              "      <td>0.048641</td>\n",
              "      <td>0.023447</td>\n",
              "      <td>0.027438</td>\n",
              "      <td>0.111250</td>\n",
              "      <td>0.017960</td>\n",
              "      <td>0.060364</td>\n",
              "      <td>0.208281</td>\n",
              "      <td>0.144924</td>\n",
              "      <td>0.001996</td>\n",
              "      <td>0.019456</td>\n",
              "      <td>0.015465</td>\n",
              "      <td>0.012971</td>\n",
              "      <td>0.002993</td>\n",
              "      <td>0.108506</td>\n",
              "      <td>0.012721</td>\n",
              "      <td>0.021452</td>\n",
              "      <td>4.820404</td>\n",
              "      <td>49.700923</td>\n",
              "      <td>284.794462</td>\n",
              "      <td>0.375655</td>\n",
              "    </tr>\n",
              "    <tr>\n",
              "      <th>std</th>\n",
              "      <td>0.209258</td>\n",
              "      <td>0.397983</td>\n",
              "      <td>0.396217</td>\n",
              "      <td>1.363798</td>\n",
              "      <td>0.590846</td>\n",
              "      <td>0.178146</td>\n",
              "      <td>0.318634</td>\n",
              "      <td>0.339417</td>\n",
              "      <td>0.187964</td>\n",
              "      <td>0.564377</td>\n",
              "      <td>0.107805</td>\n",
              "      <td>0.783470</td>\n",
              "      <td>0.214346</td>\n",
              "      <td>0.293711</td>\n",
              "      <td>0.168296</td>\n",
              "      <td>0.719761</td>\n",
              "      <td>0.347542</td>\n",
              "      <td>0.440683</td>\n",
              "      <td>1.67884</td>\n",
              "      <td>0.45223</td>\n",
              "      <td>1.002570</td>\n",
              "      <td>1.007899</td>\n",
              "      <td>0.259589</td>\n",
              "      <td>0.379066</td>\n",
              "      <td>1.584531</td>\n",
              "      <td>0.811962</td>\n",
              "      <td>1.760640</td>\n",
              "      <td>0.441128</td>\n",
              "      <td>0.516869</td>\n",
              "      <td>0.338911</td>\n",
              "      <td>0.307218</td>\n",
              "      <td>0.217958</td>\n",
              "      <td>0.521939</td>\n",
              "      <td>0.218507</td>\n",
              "      <td>0.457107</td>\n",
              "      <td>0.282174</td>\n",
              "      <td>0.321212</td>\n",
              "      <td>0.215215</td>\n",
              "      <td>0.393153</td>\n",
              "      <td>0.234178</td>\n",
              "      <td>0.266652</td>\n",
              "      <td>0.747648</td>\n",
              "      <td>0.161631</td>\n",
              "      <td>0.618936</td>\n",
              "      <td>0.991114</td>\n",
              "      <td>0.876449</td>\n",
              "      <td>0.054681</td>\n",
              "      <td>0.269213</td>\n",
              "      <td>0.220597</td>\n",
              "      <td>0.200626</td>\n",
              "      <td>0.080486</td>\n",
              "      <td>0.771531</td>\n",
              "      <td>0.183087</td>\n",
              "      <td>0.412551</td>\n",
              "      <td>33.214834</td>\n",
              "      <td>199.405978</td>\n",
              "      <td>617.909710</td>\n",
              "      <td>0.484352</td>\n",
              "    </tr>\n",
              "    <tr>\n",
              "      <th>min</th>\n",
              "      <td>0.000000</td>\n",
              "      <td>0.000000</td>\n",
              "      <td>0.000000</td>\n",
              "      <td>0.000000</td>\n",
              "      <td>0.000000</td>\n",
              "      <td>0.000000</td>\n",
              "      <td>0.000000</td>\n",
              "      <td>0.000000</td>\n",
              "      <td>0.000000</td>\n",
              "      <td>0.000000</td>\n",
              "      <td>0.000000</td>\n",
              "      <td>0.000000</td>\n",
              "      <td>0.000000</td>\n",
              "      <td>0.000000</td>\n",
              "      <td>0.000000</td>\n",
              "      <td>0.000000</td>\n",
              "      <td>0.000000</td>\n",
              "      <td>0.000000</td>\n",
              "      <td>0.00000</td>\n",
              "      <td>0.00000</td>\n",
              "      <td>0.000000</td>\n",
              "      <td>0.000000</td>\n",
              "      <td>0.000000</td>\n",
              "      <td>0.000000</td>\n",
              "      <td>0.000000</td>\n",
              "      <td>0.000000</td>\n",
              "      <td>0.000000</td>\n",
              "      <td>0.000000</td>\n",
              "      <td>0.000000</td>\n",
              "      <td>0.000000</td>\n",
              "      <td>0.000000</td>\n",
              "      <td>0.000000</td>\n",
              "      <td>0.000000</td>\n",
              "      <td>0.000000</td>\n",
              "      <td>0.000000</td>\n",
              "      <td>0.000000</td>\n",
              "      <td>0.000000</td>\n",
              "      <td>0.000000</td>\n",
              "      <td>0.000000</td>\n",
              "      <td>0.000000</td>\n",
              "      <td>0.000000</td>\n",
              "      <td>0.000000</td>\n",
              "      <td>0.000000</td>\n",
              "      <td>0.000000</td>\n",
              "      <td>0.000000</td>\n",
              "      <td>0.000000</td>\n",
              "      <td>0.000000</td>\n",
              "      <td>0.000000</td>\n",
              "      <td>0.000000</td>\n",
              "      <td>0.000000</td>\n",
              "      <td>0.000000</td>\n",
              "      <td>0.000000</td>\n",
              "      <td>0.000000</td>\n",
              "      <td>0.000000</td>\n",
              "      <td>1.000000</td>\n",
              "      <td>1.000000</td>\n",
              "      <td>1.000000</td>\n",
              "      <td>0.000000</td>\n",
              "    </tr>\n",
              "    <tr>\n",
              "      <th>25%</th>\n",
              "      <td>0.000000</td>\n",
              "      <td>0.000000</td>\n",
              "      <td>0.000000</td>\n",
              "      <td>0.000000</td>\n",
              "      <td>0.000000</td>\n",
              "      <td>0.000000</td>\n",
              "      <td>0.000000</td>\n",
              "      <td>0.000000</td>\n",
              "      <td>0.000000</td>\n",
              "      <td>0.000000</td>\n",
              "      <td>0.000000</td>\n",
              "      <td>0.000000</td>\n",
              "      <td>0.000000</td>\n",
              "      <td>0.000000</td>\n",
              "      <td>0.000000</td>\n",
              "      <td>0.000000</td>\n",
              "      <td>0.000000</td>\n",
              "      <td>0.000000</td>\n",
              "      <td>0.00000</td>\n",
              "      <td>0.00000</td>\n",
              "      <td>0.000000</td>\n",
              "      <td>0.000000</td>\n",
              "      <td>0.000000</td>\n",
              "      <td>0.000000</td>\n",
              "      <td>0.000000</td>\n",
              "      <td>0.000000</td>\n",
              "      <td>0.000000</td>\n",
              "      <td>0.000000</td>\n",
              "      <td>0.000000</td>\n",
              "      <td>0.000000</td>\n",
              "      <td>0.000000</td>\n",
              "      <td>0.000000</td>\n",
              "      <td>0.000000</td>\n",
              "      <td>0.000000</td>\n",
              "      <td>0.000000</td>\n",
              "      <td>0.000000</td>\n",
              "      <td>0.000000</td>\n",
              "      <td>0.000000</td>\n",
              "      <td>0.000000</td>\n",
              "      <td>0.000000</td>\n",
              "      <td>0.000000</td>\n",
              "      <td>0.000000</td>\n",
              "      <td>0.000000</td>\n",
              "      <td>0.000000</td>\n",
              "      <td>0.000000</td>\n",
              "      <td>0.000000</td>\n",
              "      <td>0.000000</td>\n",
              "      <td>0.000000</td>\n",
              "      <td>0.000000</td>\n",
              "      <td>0.000000</td>\n",
              "      <td>0.000000</td>\n",
              "      <td>0.000000</td>\n",
              "      <td>0.000000</td>\n",
              "      <td>0.000000</td>\n",
              "      <td>1.000000</td>\n",
              "      <td>7.000000</td>\n",
              "      <td>38.000000</td>\n",
              "      <td>0.000000</td>\n",
              "    </tr>\n",
              "    <tr>\n",
              "      <th>50%</th>\n",
              "      <td>0.000000</td>\n",
              "      <td>0.000000</td>\n",
              "      <td>0.000000</td>\n",
              "      <td>0.000000</td>\n",
              "      <td>0.000000</td>\n",
              "      <td>0.000000</td>\n",
              "      <td>0.000000</td>\n",
              "      <td>0.000000</td>\n",
              "      <td>0.000000</td>\n",
              "      <td>0.000000</td>\n",
              "      <td>0.000000</td>\n",
              "      <td>0.000000</td>\n",
              "      <td>0.000000</td>\n",
              "      <td>0.000000</td>\n",
              "      <td>0.000000</td>\n",
              "      <td>0.000000</td>\n",
              "      <td>0.000000</td>\n",
              "      <td>0.000000</td>\n",
              "      <td>1.00000</td>\n",
              "      <td>0.00000</td>\n",
              "      <td>0.000000</td>\n",
              "      <td>0.000000</td>\n",
              "      <td>0.000000</td>\n",
              "      <td>0.000000</td>\n",
              "      <td>0.000000</td>\n",
              "      <td>0.000000</td>\n",
              "      <td>0.000000</td>\n",
              "      <td>0.000000</td>\n",
              "      <td>0.000000</td>\n",
              "      <td>0.000000</td>\n",
              "      <td>0.000000</td>\n",
              "      <td>0.000000</td>\n",
              "      <td>0.000000</td>\n",
              "      <td>0.000000</td>\n",
              "      <td>0.000000</td>\n",
              "      <td>0.000000</td>\n",
              "      <td>0.000000</td>\n",
              "      <td>0.000000</td>\n",
              "      <td>0.000000</td>\n",
              "      <td>0.000000</td>\n",
              "      <td>0.000000</td>\n",
              "      <td>0.000000</td>\n",
              "      <td>0.000000</td>\n",
              "      <td>0.000000</td>\n",
              "      <td>0.000000</td>\n",
              "      <td>0.000000</td>\n",
              "      <td>0.000000</td>\n",
              "      <td>0.000000</td>\n",
              "      <td>0.000000</td>\n",
              "      <td>0.000000</td>\n",
              "      <td>0.000000</td>\n",
              "      <td>0.000000</td>\n",
              "      <td>0.000000</td>\n",
              "      <td>0.000000</td>\n",
              "      <td>2.000000</td>\n",
              "      <td>15.000000</td>\n",
              "      <td>98.000000</td>\n",
              "      <td>0.000000</td>\n",
              "    </tr>\n",
              "    <tr>\n",
              "      <th>75%</th>\n",
              "      <td>0.000000</td>\n",
              "      <td>0.000000</td>\n",
              "      <td>0.000000</td>\n",
              "      <td>0.000000</td>\n",
              "      <td>0.000000</td>\n",
              "      <td>0.000000</td>\n",
              "      <td>0.000000</td>\n",
              "      <td>0.000000</td>\n",
              "      <td>0.000000</td>\n",
              "      <td>0.000000</td>\n",
              "      <td>0.000000</td>\n",
              "      <td>0.000000</td>\n",
              "      <td>0.000000</td>\n",
              "      <td>0.000000</td>\n",
              "      <td>0.000000</td>\n",
              "      <td>0.000000</td>\n",
              "      <td>0.000000</td>\n",
              "      <td>0.000000</td>\n",
              "      <td>2.00000</td>\n",
              "      <td>0.00000</td>\n",
              "      <td>1.000000</td>\n",
              "      <td>0.000000</td>\n",
              "      <td>0.000000</td>\n",
              "      <td>0.000000</td>\n",
              "      <td>0.000000</td>\n",
              "      <td>0.000000</td>\n",
              "      <td>0.000000</td>\n",
              "      <td>0.000000</td>\n",
              "      <td>0.000000</td>\n",
              "      <td>0.000000</td>\n",
              "      <td>0.000000</td>\n",
              "      <td>0.000000</td>\n",
              "      <td>0.000000</td>\n",
              "      <td>0.000000</td>\n",
              "      <td>0.000000</td>\n",
              "      <td>0.000000</td>\n",
              "      <td>0.000000</td>\n",
              "      <td>0.000000</td>\n",
              "      <td>0.000000</td>\n",
              "      <td>0.000000</td>\n",
              "      <td>0.000000</td>\n",
              "      <td>0.000000</td>\n",
              "      <td>0.000000</td>\n",
              "      <td>0.000000</td>\n",
              "      <td>0.000000</td>\n",
              "      <td>0.000000</td>\n",
              "      <td>0.000000</td>\n",
              "      <td>0.000000</td>\n",
              "      <td>0.000000</td>\n",
              "      <td>0.000000</td>\n",
              "      <td>0.000000</td>\n",
              "      <td>0.000000</td>\n",
              "      <td>0.000000</td>\n",
              "      <td>0.000000</td>\n",
              "      <td>3.000000</td>\n",
              "      <td>43.000000</td>\n",
              "      <td>265.000000</td>\n",
              "      <td>1.000000</td>\n",
              "    </tr>\n",
              "    <tr>\n",
              "      <th>max</th>\n",
              "      <td>4.000000</td>\n",
              "      <td>14.000000</td>\n",
              "      <td>5.000000</td>\n",
              "      <td>42.000000</td>\n",
              "      <td>10.000000</td>\n",
              "      <td>5.000000</td>\n",
              "      <td>7.000000</td>\n",
              "      <td>11.000000</td>\n",
              "      <td>5.000000</td>\n",
              "      <td>18.000000</td>\n",
              "      <td>2.000000</td>\n",
              "      <td>9.000000</td>\n",
              "      <td>5.000000</td>\n",
              "      <td>10.000000</td>\n",
              "      <td>4.000000</td>\n",
              "      <td>20.000000</td>\n",
              "      <td>7.000000</td>\n",
              "      <td>9.000000</td>\n",
              "      <td>18.00000</td>\n",
              "      <td>18.00000</td>\n",
              "      <td>11.000000</td>\n",
              "      <td>17.000000</td>\n",
              "      <td>5.000000</td>\n",
              "      <td>12.000000</td>\n",
              "      <td>20.000000</td>\n",
              "      <td>16.000000</td>\n",
              "      <td>33.000000</td>\n",
              "      <td>9.000000</td>\n",
              "      <td>14.000000</td>\n",
              "      <td>5.000000</td>\n",
              "      <td>12.000000</td>\n",
              "      <td>4.000000</td>\n",
              "      <td>18.000000</td>\n",
              "      <td>4.000000</td>\n",
              "      <td>20.000000</td>\n",
              "      <td>7.000000</td>\n",
              "      <td>6.000000</td>\n",
              "      <td>8.000000</td>\n",
              "      <td>11.000000</td>\n",
              "      <td>4.000000</td>\n",
              "      <td>7.000000</td>\n",
              "      <td>14.000000</td>\n",
              "      <td>3.000000</td>\n",
              "      <td>20.000000</td>\n",
              "      <td>21.000000</td>\n",
              "      <td>22.000000</td>\n",
              "      <td>2.000000</td>\n",
              "      <td>10.000000</td>\n",
              "      <td>4.000000</td>\n",
              "      <td>9.000000</td>\n",
              "      <td>4.000000</td>\n",
              "      <td>32.000000</td>\n",
              "      <td>6.000000</td>\n",
              "      <td>19.000000</td>\n",
              "      <td>1102.000000</td>\n",
              "      <td>9989.000000</td>\n",
              "      <td>15841.000000</td>\n",
              "      <td>1.000000</td>\n",
              "    </tr>\n",
              "  </tbody>\n",
              "</table>\n",
              "</div>"
            ],
            "text/plain": [
              "       word_freq_make  word_freq_address  ...  capital_run_length_total         spam\n",
              "count     4009.000000        4009.000000  ...               4009.000000  4009.000000\n",
              "mean         0.024944           0.045148  ...                284.794462     0.375655\n",
              "std          0.209258           0.397983  ...                617.909710     0.484352\n",
              "min          0.000000           0.000000  ...                  1.000000     0.000000\n",
              "25%          0.000000           0.000000  ...                 38.000000     0.000000\n",
              "50%          0.000000           0.000000  ...                 98.000000     0.000000\n",
              "75%          0.000000           0.000000  ...                265.000000     1.000000\n",
              "max          4.000000          14.000000  ...              15841.000000     1.000000\n",
              "\n",
              "[8 rows x 58 columns]"
            ]
          },
          "metadata": {
            "tags": []
          },
          "execution_count": 22
        }
      ]
    },
    {
      "cell_type": "code",
      "metadata": {
        "colab": {
          "base_uri": "https://localhost:8080/",
          "height": 350
        },
        "id": "kkb_iQo63nAv",
        "outputId": "37259770-d011-429a-f91d-fafc8e648903"
      },
      "source": [
        "# Plotting our target variable \n",
        "\n",
        "sns.countplot(data.spam)\n",
        "plt.title('Spam vs Non_Spam Emails')\n",
        "plt.show()"
      ],
      "execution_count": 23,
      "outputs": [
        {
          "output_type": "stream",
          "text": [
            "/usr/local/lib/python3.7/dist-packages/seaborn/_decorators.py:43: FutureWarning: Pass the following variable as a keyword arg: x. From version 0.12, the only valid positional argument will be `data`, and passing other arguments without an explicit keyword will result in an error or misinterpretation.\n",
            "  FutureWarning\n"
          ],
          "name": "stderr"
        },
        {
          "output_type": "display_data",
          "data": {
            "image/png": "[encoded data removed]",
            "text/plain": [
              "<Figure size 432x288 with 1 Axes>"
            ]
          },
          "metadata": {
            "tags": [],
            "needs_background": "light"
          }
        }
      ]
    },
    {
      "cell_type": "code",
      "metadata": {
        "colab": {
          "base_uri": "https://localhost:8080/"
        },
        "id": "umThjrlK3_OM",
        "outputId": "fe092ebe-efdb-407a-c937-864541a52cc3"
      },
      "source": [
        "#Frequenct table of our target variable\n",
        "data.spam.value_counts(normalize=True)\n",
        "\n",
        "#1 nominal {0,1} class attribute of type spam\n",
        "#= denotes whether the e-mail was considered spam (1) or not (0), i.e. unsolicited commercial e-mail."
      ],
      "execution_count": 24,
      "outputs": [
        {
          "output_type": "execute_result",
          "data": {
            "text/plain": [
              "0    0.624345\n",
              "1    0.375655\n",
              "Name: spam, dtype: float64"
            ]
          },
          "metadata": {
            "tags": []
          },
          "execution_count": 24
        }
      ]
    },
    {
      "cell_type": "code",
      "metadata": {
        "id": "IOBF7aCD4W2A"
      },
      "source": [
        "##From this we can see that 60% of our y values account for not spam while 39% are spam emails"
      ],
      "execution_count": 25,
      "outputs": []
    },
    {
      "cell_type": "code",
      "metadata": {
        "colab": {
          "base_uri": "https://localhost:8080/",
          "height": 1000
        },
        "id": "yQEiOYn1Q5aS",
        "outputId": "38d737bf-98d4-4c41-ea51-3c94226be8c9"
      },
      "source": [
        "##We will now explore the distribution of the other features\n",
        "\n",
        "data.hist(bins=10, figsize=(20,20))\n",
        "plt.suptitle(\"Numerical distributions\")\n",
        "plt.savefig('Histogram')\n",
        "plt.show()"
      ],
      "execution_count": 26,
      "outputs": [
        {
          "output_type": "display_data",
          "data": {
            "image/png": "[encoded data removed]",
            "text/plain": [
              "<Figure size 1440x1440 with 64 Axes>"
            ]
          },
          "metadata": {
            "tags": [],
            "needs_background": "light"
          }
        }
      ]
    },
    {
      "cell_type": "markdown",
      "metadata": {
        "id": "Ej2QOqmVVOay"
      },
      "source": [
        "*Measures of central tendancy*"
      ]
    },
    {
      "cell_type": "code",
      "metadata": {
        "colab": {
          "base_uri": "https://localhost:8080/"
        },
        "id": "Grl-oXUjVS4r",
        "outputId": "f0364247-44fa-4568-9b07-5130719d5a17"
      },
      "source": [
        "#MEAN\n",
        "colums_ = data[['word_freq_make', 'word_freq_address', 'word_freq_all', 'word_freq_3d', 'word_freq_our', \n",
        "         'word_freq_over', 'word_freq_remove', 'word_freq_internet', 'word_freq_order', 'word_freq_mail', \n",
        "         'word_freq_receive', 'word_freq_will', 'word_freq_people', 'word_freq_report', \n",
        "         'word_freq_addresses', 'word_freq_free', 'word_freq_business', 'word_freq_email', 'word_freq_you', \n",
        "         'word_freq_credit', 'word_freq_your', 'word_freq_font', 'word_freq_000', 'word_freq_money', \n",
        "         'word_freq_hp', 'word_freq_hpl', 'word_freq_george', 'word_freq_650', 'word_freq_lab', \n",
        "         'word_freq_labs', 'word_freq_telnet', 'word_freq_857', 'word_freq_data', 'word_freq_415', \n",
        "         'word_freq_85', 'word_freq_technology', 'word_freq_1999', 'word_freq_parts', 'word_freq_pm', \n",
        "         'word_freq_direct', 'word_freq_cs', 'word_freq_meeting', 'word_freq_original', \n",
        "         'word_freq_project', 'word_freq_re', 'word_freq_edu', 'word_freq_table', 'word_freq_conference', \n",
        "         'char_freq_;', 'char_freq_(', 'char_freq_[', 'char_freq_!', 'char_freq_$', 'char_freq_#', \n",
        "         'capital_run_length_average', 'capital_run_length_longest', 'capital_run_length_total', 'spam']]\n",
        "\n",
        "for i, col_val in enumerate(colums_):\n",
        " print('The mean of ' + str(col_val) + ' ' + 'is' + ' ' + str(colums_[col_val].mean()))"
      ],
      "execution_count": 27,
      "outputs": [
        {
          "output_type": "stream",
          "text": [
            "The mean of word_freq_make is 0.024943876278373658\n",
            "The mean of word_freq_address is 0.04514841606385633\n",
            "The mean of word_freq_all is 0.10451484160638563\n",
            "The mean of word_freq_3d is 0.06186081317036667\n",
            "The mean of word_freq_our is 0.1601396857071589\n",
            "The mean of word_freq_over is 0.021202294836617612\n",
            "The mean of word_freq_remove is 0.05013719131953105\n",
            "The mean of word_freq_internet is 0.04539785482664006\n",
            "The mean of word_freq_order is 0.024444998752806184\n",
            "The mean of word_freq_mail is 0.12372162634073335\n",
            "The mean of word_freq_receive is 0.010226989274133201\n",
            "The mean of word_freq_will is 0.3157894736842105\n",
            "The mean of word_freq_people is 0.026689947617859814\n",
            "The mean of word_freq_report is 0.03616862060364181\n",
            "The mean of word_freq_addresses is 0.01920678473434772\n",
            "The mean of word_freq_free is 0.13644300324270392\n",
            "The mean of word_freq_business is 0.05886754801696183\n",
            "The mean of word_freq_email is 0.09428785233225243\n",
            "The mean of word_freq_you is 1.364430032427039\n",
            "The mean of word_freq_credit is 0.05313045647293589\n",
            "The mean of word_freq_your is 0.5300573709154403\n",
            "The mean of word_freq_font is 0.1207283611873285\n",
            "The mean of word_freq_000 is 0.03841356946869544\n",
            "The mean of word_freq_money is 0.031928161636318286\n",
            "The mean of word_freq_hp is 0.46395609877775007\n",
            "The mean of word_freq_hpl is 0.19381391868296333\n",
            "The mean of word_freq_george is 0.3157894736842105\n",
            "The mean of word_freq_650 is 0.0790720878024445\n",
            "The mean of word_freq_lab is 0.05961586430531304\n",
            "The mean of word_freq_labs is 0.0538787727612871\n",
            "The mean of word_freq_telnet is 0.030431529059615863\n",
            "The mean of word_freq_857 is 0.01995510102269893\n",
            "The mean of word_freq_data is 0.06909453729109503\n",
            "The mean of word_freq_415 is 0.020204539785482666\n",
            "The mean of word_freq_85 is 0.058119231728610624\n",
            "The mean of word_freq_technology is 0.04140683462210028\n",
            "The mean of word_freq_1999 is 0.06211025193315041\n",
            "The mean of word_freq_parts is 0.009478672985781991\n",
            "The mean of word_freq_pm is 0.04864055874282863\n",
            "The mean of word_freq_direct is 0.023447243701671238\n",
            "The mean of word_freq_cs is 0.027438263906211024\n",
            "The mean of word_freq_meeting is 0.11124968820154651\n",
            "The mean of word_freq_original is 0.017959590920429036\n",
            "The mean of word_freq_project is 0.06036418059366425\n",
            "The mean of word_freq_re is 0.20828136692442006\n",
            "The mean of word_freq_edu is 0.14492392117735095\n",
            "The mean of word_freq_table is 0.001995510102269893\n",
            "The mean of word_freq_conference is 0.019456223497131456\n",
            "The mean of char_freq_; is 0.015465203292591668\n",
            "The mean of char_freq_( is 0.012970815664754302\n",
            "The mean of char_freq_[ is 0.002993265153404839\n",
            "The mean of char_freq_! is 0.10850586181092542\n",
            "The mean of char_freq_$ is 0.012721376901970565\n",
            "The mean of char_freq_# is 0.02145173359940135\n",
            "The mean of capital_run_length_average is 4.8204040907957095\n",
            "The mean of capital_run_length_longest is 49.7009229234223\n",
            "The mean of capital_run_length_total is 284.7944624594662\n",
            "The mean of spam is 0.3756547767523073\n"
          ],
          "name": "stdout"
        }
      ]
    },
    {
      "cell_type": "code",
      "metadata": {
        "colab": {
          "base_uri": "https://localhost:8080/"
        },
        "id": "1wqCSJB9W1EF",
        "outputId": "3bdeb068-2c04-4eef-97c4-331ade1d4657"
      },
      "source": [
        "##MODE\n",
        "\n",
        "for i, col_val in enumerate(colums_):\n",
        " print('The mode of ' + str(col_val) + ' ' + 'is' + ' ' + str(colums_[col_val].mode()))"
      ],
      "execution_count": 28,
      "outputs": [
        {
          "output_type": "stream",
          "text": [
            "The mode of word_freq_make is 0    0\n",
            "dtype: int64\n",
            "The mode of word_freq_address is 0    0\n",
            "dtype: int64\n",
            "The mode of word_freq_all is 0    0\n",
            "dtype: int64\n",
            "The mode of word_freq_3d is 0    0\n",
            "dtype: int64\n",
            "The mode of word_freq_our is 0    0\n",
            "dtype: int64\n",
            "The mode of word_freq_over is 0    0\n",
            "dtype: int64\n",
            "The mode of word_freq_remove is 0    0\n",
            "dtype: int64\n",
            "The mode of word_freq_internet is 0    0\n",
            "dtype: int64\n",
            "The mode of word_freq_order is 0    0\n",
            "dtype: int64\n",
            "The mode of word_freq_mail is 0    0\n",
            "dtype: int64\n",
            "The mode of word_freq_receive is 0    0\n",
            "dtype: int64\n",
            "The mode of word_freq_will is 0    0\n",
            "dtype: int64\n",
            "The mode of word_freq_people is 0    0\n",
            "dtype: int64\n",
            "The mode of word_freq_report is 0    0\n",
            "dtype: int64\n",
            "The mode of word_freq_addresses is 0    0\n",
            "dtype: int64\n",
            "The mode of word_freq_free is 0    0\n",
            "dtype: int64\n",
            "The mode of word_freq_business is 0    0\n",
            "dtype: int64\n",
            "The mode of word_freq_email is 0    0\n",
            "dtype: int64\n",
            "The mode of word_freq_you is 0    0\n",
            "dtype: int64\n",
            "The mode of word_freq_credit is 0    0\n",
            "dtype: int64\n",
            "The mode of word_freq_your is 0    0\n",
            "dtype: int64\n",
            "The mode of word_freq_font is 0    0\n",
            "dtype: int64\n",
            "The mode of word_freq_000 is 0    0\n",
            "dtype: int64\n",
            "The mode of word_freq_money is 0    0\n",
            "dtype: int64\n",
            "The mode of word_freq_hp is 0    0\n",
            "dtype: int64\n",
            "The mode of word_freq_hpl is 0    0\n",
            "dtype: int64\n",
            "The mode of word_freq_george is 0    0\n",
            "dtype: int64\n",
            "The mode of word_freq_650 is 0    0\n",
            "dtype: int64\n",
            "The mode of word_freq_lab is 0    0\n",
            "dtype: int64\n",
            "The mode of word_freq_labs is 0    0\n",
            "dtype: int64\n",
            "The mode of word_freq_telnet is 0    0\n",
            "dtype: int64\n",
            "The mode of word_freq_857 is 0    0\n",
            "dtype: int64\n",
            "The mode of word_freq_data is 0    0\n",
            "dtype: int64\n",
            "The mode of word_freq_415 is 0    0\n",
            "dtype: int64\n",
            "The mode of word_freq_85 is 0    0\n",
            "dtype: int64\n",
            "The mode of word_freq_technology is 0    0\n",
            "dtype: int64\n",
            "The mode of word_freq_1999 is 0    0\n",
            "dtype: int64\n",
            "The mode of word_freq_parts is 0    0\n",
            "dtype: int64\n",
            "The mode of word_freq_pm is 0    0\n",
            "dtype: int64\n",
            "The mode of word_freq_direct is 0    0\n",
            "dtype: int64\n",
            "The mode of word_freq_cs is 0    0\n",
            "dtype: int64\n",
            "The mode of word_freq_meeting is 0    0\n",
            "dtype: int64\n",
            "The mode of word_freq_original is 0    0\n",
            "dtype: int64\n",
            "The mode of word_freq_project is 0    0\n",
            "dtype: int64\n",
            "The mode of word_freq_re is 0    0\n",
            "dtype: int64\n",
            "The mode of word_freq_edu is 0    0\n",
            "dtype: int64\n",
            "The mode of word_freq_table is 0    0\n",
            "dtype: int64\n",
            "The mode of word_freq_conference is 0    0\n",
            "dtype: int64\n",
            "The mode of char_freq_; is 0    0\n",
            "dtype: int64\n",
            "The mode of char_freq_( is 0    0\n",
            "dtype: int64\n",
            "The mode of char_freq_[ is 0    0\n",
            "dtype: int64\n",
            "The mode of char_freq_! is 0    0\n",
            "dtype: int64\n",
            "The mode of char_freq_$ is 0    0\n",
            "dtype: int64\n",
            "The mode of char_freq_# is 0    0\n",
            "dtype: int64\n",
            "The mode of capital_run_length_average is 0    1\n",
            "dtype: int64\n",
            "The mode of capital_run_length_longest is 0    1\n",
            "dtype: int64\n",
            "The mode of capital_run_length_total is 0    7\n",
            "1    8\n",
            "dtype: int64\n",
            "The mode of spam is 0    0\n",
            "dtype: int64\n"
          ],
          "name": "stdout"
        }
      ]
    },
    {
      "cell_type": "code",
      "metadata": {
        "colab": {
          "base_uri": "https://localhost:8080/"
        },
        "id": "7ecllf3cXDyj",
        "outputId": "deab2af6-08fd-4458-e773-c786136af951"
      },
      "source": [
        "#Median\n",
        "for i, col_val in enumerate(colums_):\n",
        " print('The median of ' + str(col_val) + ' ' + 'is' + ' ' + str(colums_[col_val].median()))"
      ],
      "execution_count": 29,
      "outputs": [
        {
          "output_type": "stream",
          "text": [
            "The median of word_freq_make is 0.0\n",
            "The median of word_freq_address is 0.0\n",
            "The median of word_freq_all is 0.0\n",
            "The median of word_freq_3d is 0.0\n",
            "The median of word_freq_our is 0.0\n",
            "The median of word_freq_over is 0.0\n",
            "The median of word_freq_remove is 0.0\n",
            "The median of word_freq_internet is 0.0\n",
            "The median of word_freq_order is 0.0\n",
            "The median of word_freq_mail is 0.0\n",
            "The median of word_freq_receive is 0.0\n",
            "The median of word_freq_will is 0.0\n",
            "The median of word_freq_people is 0.0\n",
            "The median of word_freq_report is 0.0\n",
            "The median of word_freq_addresses is 0.0\n",
            "The median of word_freq_free is 0.0\n",
            "The median of word_freq_business is 0.0\n",
            "The median of word_freq_email is 0.0\n",
            "The median of word_freq_you is 1.0\n",
            "The median of word_freq_credit is 0.0\n",
            "The median of word_freq_your is 0.0\n",
            "The median of word_freq_font is 0.0\n",
            "The median of word_freq_000 is 0.0\n",
            "The median of word_freq_money is 0.0\n",
            "The median of word_freq_hp is 0.0\n",
            "The median of word_freq_hpl is 0.0\n",
            "The median of word_freq_george is 0.0\n",
            "The median of word_freq_650 is 0.0\n",
            "The median of word_freq_lab is 0.0\n",
            "The median of word_freq_labs is 0.0\n",
            "The median of word_freq_telnet is 0.0\n",
            "The median of word_freq_857 is 0.0\n",
            "The median of word_freq_data is 0.0\n",
            "The median of word_freq_415 is 0.0\n",
            "The median of word_freq_85 is 0.0\n",
            "The median of word_freq_technology is 0.0\n",
            "The median of word_freq_1999 is 0.0\n",
            "The median of word_freq_parts is 0.0\n",
            "The median of word_freq_pm is 0.0\n",
            "The median of word_freq_direct is 0.0\n",
            "The median of word_freq_cs is 0.0\n",
            "The median of word_freq_meeting is 0.0\n",
            "The median of word_freq_original is 0.0\n",
            "The median of word_freq_project is 0.0\n",
            "The median of word_freq_re is 0.0\n",
            "The median of word_freq_edu is 0.0\n",
            "The median of word_freq_table is 0.0\n",
            "The median of word_freq_conference is 0.0\n",
            "The median of char_freq_; is 0.0\n",
            "The median of char_freq_( is 0.0\n",
            "The median of char_freq_[ is 0.0\n",
            "The median of char_freq_! is 0.0\n",
            "The median of char_freq_$ is 0.0\n",
            "The median of char_freq_# is 0.0\n",
            "The median of capital_run_length_average is 2.0\n",
            "The median of capital_run_length_longest is 15.0\n",
            "The median of capital_run_length_total is 98.0\n",
            "The median of spam is 0.0\n"
          ],
          "name": "stdout"
        }
      ]
    },
    {
      "cell_type": "markdown",
      "metadata": {
        "id": "dC2OuSgTS_fe"
      },
      "source": [
        "*Measures of dispersion*"
      ]
    },
    {
      "cell_type": "code",
      "metadata": {
        "colab": {
          "base_uri": "https://localhost:8080/"
        },
        "id": "nWRnY-6WUaUj",
        "outputId": "a33d94bb-b5aa-48b4-9676-c54416143d09"
      },
      "source": [
        "#Skewness\n",
        "\n",
        "for i, col_val in enumerate(colums_):\n",
        " print('The skewness of ' + str(col_val) + ' ' + 'is' + ' ' + str(colums_[col_val].skew()))"
      ],
      "execution_count": 30,
      "outputs": [
        {
          "output_type": "stream",
          "text": [
            "The skewness of word_freq_make is 11.191264321129749\n",
            "The skewness of word_freq_address is 18.575009012469167\n",
            "The skewness of word_freq_all is 4.964861968239692\n",
            "The skewness of word_freq_3d is 26.68794709240451\n",
            "The skewness of word_freq_our is 6.718357085367314\n",
            "The skewness of word_freq_over is 12.401329641104597\n",
            "The skewness of word_freq_remove is 10.51964374876429\n",
            "The skewness of word_freq_internet is 14.623905521575761\n",
            "The skewness of word_freq_order is 11.1849872280615\n",
            "The skewness of word_freq_mail is 12.784348256162177\n",
            "The skewness of word_freq_receive is 11.469434540189136\n",
            "The skewness of word_freq_will is 3.6111516036419262\n",
            "The skewness of word_freq_people is 12.982719756110432\n",
            "The skewness of word_freq_report is 16.071596444719244\n",
            "The skewness of word_freq_addresses is 10.915082449970306\n",
            "The skewness of word_freq_free is 12.270470317185175\n",
            "The skewness of word_freq_business is 8.454196496807269\n",
            "The skewness of word_freq_email is 7.923469755456701\n",
            "The skewness of word_freq_you is 1.8674378444514679\n",
            "The skewness of word_freq_credit is 20.123464295697552\n",
            "The skewness of word_freq_your is 2.979897129023956\n",
            "The skewness of word_freq_font is 9.475696489122523\n",
            "The skewness of word_freq_000 is 9.284909368090055\n",
            "The skewness of word_freq_money is 20.736496787833055\n",
            "The skewness of word_freq_hp is 6.297272620876601\n",
            "The skewness of word_freq_hpl is 7.609081956806025\n",
            "The skewness of word_freq_george is 9.927503547383502\n",
            "The skewness of word_freq_650 is 8.33432821320897\n",
            "The skewness of word_freq_lab is 14.553861857208297\n",
            "The skewness of word_freq_labs is 7.983385559807848\n",
            "The skewness of word_freq_telnet is 20.173686177172666\n",
            "The skewness of word_freq_857 is 13.369769011890519\n",
            "The skewness of word_freq_data is 15.876659171691843\n",
            "The skewness of word_freq_415 is 13.288402158298176\n",
            "The skewness of word_freq_85 is 23.731820459931573\n",
            "The skewness of word_freq_technology is 10.466971702210696\n",
            "The skewness of word_freq_1999 is 7.750362514474034\n",
            "The skewness of word_freq_parts is 29.367527667370414\n",
            "The skewness of word_freq_pm is 14.969163995917791\n",
            "The skewness of word_freq_direct is 12.255399998621778\n",
            "The skewness of word_freq_cs is 13.856708357959343\n",
            "The skewness of word_freq_meeting is 10.24903632186612\n",
            "The skewness of word_freq_original is 11.72512737019232\n",
            "The skewness of word_freq_project is 20.124616483809692\n",
            "The skewness of word_freq_re is 10.185937335115794\n",
            "The skewness of word_freq_edu is 11.389498499147793\n",
            "The skewness of word_freq_table is 30.425977708998698\n",
            "The skewness of word_freq_conference is 23.80952704623631\n",
            "The skewness of char_freq_; is 15.60171511759622\n",
            "The skewness of char_freq_( is 29.790239431049425\n",
            "The skewness of char_freq_[ is 37.23188610267045\n",
            "The skewness of char_freq_! is 23.65761137799351\n",
            "The skewness of char_freq_$ is 21.145026512856653\n",
            "The skewness of char_freq_# is 34.598766231511654\n",
            "The skewness of capital_run_length_average is 23.36042284083664\n",
            "The skewness of capital_run_length_longest is 32.70722699444527\n",
            "The skewness of capital_run_length_total is 9.132502711995384\n",
            "The skewness of spam is 0.5137061791507676\n"
          ],
          "name": "stdout"
        }
      ]
    },
    {
      "cell_type": "code",
      "metadata": {
        "colab": {
          "base_uri": "https://localhost:8080/"
        },
        "id": "r858UuWhXNT-",
        "outputId": "123c3e0d-2366-4706-dab3-093a18144114"
      },
      "source": [
        "#Kurtosis\n",
        "\n",
        "for i, col_val in enumerate(colums_):\n",
        " print('The kurtosis of ' + str(col_val) + ' ' + 'is' + ' ' + str(colums_[col_val].kurt()))"
      ],
      "execution_count": 31,
      "outputs": [
        {
          "output_type": "stream",
          "text": [
            "The kurtosis of word_freq_make is 155.50758089072374\n",
            "The kurtosis of word_freq_address is 497.83469867000605\n",
            "The kurtosis of word_freq_all is 31.491016477136746\n",
            "The kurtosis of word_freq_3d is 756.7352001144991\n",
            "The kurtosis of word_freq_our is 67.80006466794933\n",
            "The kurtosis of word_freq_over is 225.45279631216783\n",
            "The kurtosis of word_freq_remove is 160.9031496191811\n",
            "The kurtosis of word_freq_internet is 338.1534634137273\n",
            "The kurtosis of word_freq_order is 185.6481576733645\n",
            "The kurtosis of word_freq_mail is 303.9516733563105\n",
            "The kurtosis of word_freq_receive is 146.13498904647108\n",
            "The kurtosis of word_freq_will is 17.59374224382593\n",
            "The kurtosis of word_freq_people is 239.84876151228727\n",
            "The kurtosis of word_freq_report is 403.6893273047756\n",
            "The kurtosis of word_freq_addresses is 151.09594450796774\n",
            "The kurtosis of word_freq_free is 239.83475265894552\n",
            "The kurtosis of word_freq_business is 96.21959226961927\n",
            "The kurtosis of word_freq_email is 93.99250901365875\n",
            "The kurtosis of word_freq_you is 6.6933148439940195\n",
            "The kurtosis of word_freq_credit is 658.4976759898602\n",
            "The kurtosis of word_freq_your is 13.925833533510616\n",
            "The kurtosis of word_freq_font is 97.4859996727427\n",
            "The kurtosis of word_freq_000 is 110.88388561775837\n",
            "The kurtosis of word_freq_money is 514.8576553060137\n",
            "The kurtosis of word_freq_hp is 52.00495054858405\n",
            "The kurtosis of word_freq_hpl is 87.95878820855772\n",
            "The kurtosis of word_freq_george is 118.18827724012698\n",
            "The kurtosis of word_freq_650 is 99.39129317679244\n",
            "The kurtosis of word_freq_lab is 276.9090881846976\n",
            "The kurtosis of word_freq_labs is 73.88708218303402\n",
            "The kurtosis of word_freq_telnet is 628.4233703659729\n",
            "The kurtosis of word_freq_857 is 200.6433711099426\n",
            "The kurtosis of word_freq_data is 404.6212439458373\n",
            "The kurtosis of word_freq_415 is 198.64597899434008\n",
            "The kurtosis of word_freq_85 is 923.2619216961604\n",
            "The kurtosis of word_freq_technology is 157.7551682022819\n",
            "The kurtosis of word_freq_1999 is 84.49578846539933\n",
            "The kurtosis of word_freq_parts is 941.550701659056\n",
            "The kurtosis of word_freq_pm is 306.06200782559716\n",
            "The kurtosis of word_freq_direct is 169.99873976146085\n",
            "The kurtosis of word_freq_cs is 243.29067724676707\n",
            "The kurtosis of word_freq_meeting is 132.11336005038822\n",
            "The kurtosis of word_freq_original is 171.10719343081084\n",
            "The kurtosis of word_freq_project is 520.7581467841401\n",
            "The kurtosis of word_freq_re is 149.10447656596634\n",
            "The kurtosis of word_freq_edu is 185.10242028847495\n",
            "The kurtosis of word_freq_table is 998.7203613625608\n",
            "The kurtosis of word_freq_conference is 722.0921460840904\n",
            "The kurtosis of char_freq_; is 252.58433700938758\n",
            "The kurtosis of char_freq_( is 1148.769753922761\n",
            "The kurtosis of char_freq_[ is 1646.7454575209706\n",
            "The kurtosis of char_freq_! is 834.113941592988\n",
            "The kurtosis of char_freq_$ is 541.4751794069609\n",
            "The kurtosis of char_freq_# is 1396.3058554339348\n",
            "The kurtosis of capital_run_length_average is 636.7389579218589\n",
            "The kurtosis of capital_run_length_longest is 1551.5512937484643\n",
            "The kurtosis of capital_run_length_total is 153.97545867969052\n",
            "The kurtosis of spam is -1.7369727472171996\n"
          ],
          "name": "stdout"
        }
      ]
    },
    {
      "cell_type": "markdown",
      "metadata": {
        "id": "-MjH58Z2Xo6l"
      },
      "source": [
        "**Bivariate Analysis**"
      ]
    },
    {
      "cell_type": "code",
      "metadata": {
        "id": "KYw9FEQMXoXC"
      },
      "source": [
        "#We will check for the correlation of features\n"
      ],
      "execution_count": 32,
      "outputs": []
    },
    {
      "cell_type": "code",
      "metadata": {
        "colab": {
          "base_uri": "https://localhost:8080/",
          "height": 1000
        },
        "id": "yxBx0yocXw5H",
        "outputId": "675ff67d-89ad-4dc9-bee2-368ccf415e39"
      },
      "source": [
        "corr = data.corr()\n",
        "plt.figure(figsize=(20,20))\n",
        "sns.set(font_scale=1)\n",
        "sns.heatmap(corr,vmax=1, cmap= 'Blues', annot=False, square=True)\n",
        "plt.show()"
      ],
      "execution_count": 33,
      "outputs": [
        {
          "output_type": "display_data",
          "data": {
            "image/png": "[encoded data removed]",
            "text/plain": [
              "<Figure size 1440x1440 with 2 Axes>"
            ]
          },
          "metadata": {
            "tags": [],
            "needs_background": "light"
          }
        }
      ]
    },
    {
      "cell_type": "markdown",
      "metadata": {
        "id": "WuH-Ij_oYISZ"
      },
      "source": [
        "#**Implementing the solution**"
      ]
    },
    {
      "cell_type": "code",
      "metadata": {
        "id": "7TJ5yrtNYlHU"
      },
      "source": [
        "##Most of our features have ben converted from words to numbers hence we will go straight away to building our models\n",
        "##We will randomly partition our train and test differently into i.e.  80/20, 70-30, 60-40"
      ],
      "execution_count": 34,
      "outputs": []
    },
    {
      "cell_type": "code",
      "metadata": {
        "id": "qkv2oQq4YUe-"
      },
      "source": [
        "# Defining our features\n",
        "X = data.iloc[:, :-1]\n",
        "y = data.spam\n"
      ],
      "execution_count": 35,
      "outputs": []
    },
    {
      "cell_type": "code",
      "metadata": {
        "colab": {
          "base_uri": "https://localhost:8080/"
        },
        "id": "ExzUWZWuaLBv",
        "outputId": "17bf10a9-95df-4861-f807-2a3195030c1b"
      },
      "source": [
        "X.shape"
      ],
      "execution_count": 36,
      "outputs": [
        {
          "output_type": "execute_result",
          "data": {
            "text/plain": [
              "(4009, 57)"
            ]
          },
          "metadata": {
            "tags": []
          },
          "execution_count": 36
        }
      ]
    },
    {
      "cell_type": "code",
      "metadata": {
        "colab": {
          "base_uri": "https://localhost:8080/"
        },
        "id": "HoZcIkOSaM8y",
        "outputId": "13653fa6-5c48-48c4-d18b-d962cf405a5a"
      },
      "source": [
        "y.shape"
      ],
      "execution_count": 37,
      "outputs": [
        {
          "output_type": "execute_result",
          "data": {
            "text/plain": [
              "(4009,)"
            ]
          },
          "metadata": {
            "tags": []
          },
          "execution_count": 37
        }
      ]
    },
    {
      "cell_type": "code",
      "metadata": {
        "colab": {
          "base_uri": "https://localhost:8080/"
        },
        "id": "NYJngatTckor",
        "outputId": "dd564c18-14ce-4481-ab05-8f67e12af1ce"
      },
      "source": [
        "#Standardizing our data\n",
        "from sklearn.preprocessing import StandardScaler\n",
        "\n",
        "scaler = StandardScaler()\n",
        "\n",
        "scaler.fit_transform(X)"
      ],
      "execution_count": 38,
      "outputs": [
        {
          "output_type": "execute_result",
          "data": {
            "text/plain": [
              "array([[-0.11921653, -0.1134573 , -0.26381457, ..., -0.0548138 ,\n",
              "         0.05667075, -0.01099725],\n",
              "       [-0.11921653, -0.1134573 , -0.26381457, ...,  0.00540777,\n",
              "         0.25729157,  1.20292372],\n",
              "       [-0.11921653, -0.1134573 , -0.26381457, ...,  0.12585091,\n",
              "         2.18325138,  3.19537268],\n",
              "       ...,\n",
              "       [-0.11921653, -0.1134573 , -0.26381457, ..., -0.11503537,\n",
              "        -0.21918287, -0.26996706],\n",
              "       [-0.11921653, -0.1134573 , -0.26381457, ..., -0.11503537,\n",
              "        -0.22419839, -0.33470951],\n",
              "       [-0.11921653, -0.1134573 , -0.26381457, ..., -0.11503537,\n",
              "        -0.22419839, -0.39621484]])"
            ]
          },
          "metadata": {
            "tags": []
          },
          "execution_count": 38
        }
      ]
    },
    {
      "cell_type": "markdown",
      "metadata": {
        "id": "9AyE04OgmTuD"
      },
      "source": [
        "#**a)Training our models at 80/20 split**"
      ]
    },
    {
      "cell_type": "code",
      "metadata": {
        "id": "zGKUXficaT9S"
      },
      "source": [
        "#Our first split will be an 80/20 split\n",
        "from sklearn.model_selection import train_test_split \n",
        "\n",
        "X_train, X_test, y_train, y_test = train_test_split(X,y, test_size = 0.2, random_state=0)"
      ],
      "execution_count": 39,
      "outputs": []
    },
    {
      "cell_type": "markdown",
      "metadata": {
        "id": "p73U4huoa9m8"
      },
      "source": [
        "**Multinomial NB model**"
      ]
    },
    {
      "cell_type": "code",
      "metadata": {
        "colab": {
          "base_uri": "https://localhost:8080/"
        },
        "id": "edUdmuZ2a5lZ",
        "outputId": "12d73292-646b-4aae-8391-0be5540ecc4e"
      },
      "source": [
        "from sklearn.naive_bayes import MultinomialNB\n",
        "from sklearn.metrics import accuracy_score\n",
        "\n",
        "mnb = MultinomialNB()\n",
        "mnb.fit(X_train, y_train)\n",
        "\n",
        "#Making predictions\n",
        "predicted = mnb.predict(X_test)\n",
        "\n",
        "#Evaluating our model performance\n",
        "score = accuracy_score(y_test, predicted)\n",
        "print('Accuracy Score: \\n', (100*score))\n",
        "\n",
        "print('\\n', 'Confusion matrix')\n",
        "print(confusion_matrix(y_test, predicted))\n",
        "\n",
        "print('\\n', 'Classification report')\n",
        "print(classification_report(y_test, predicted))"
      ],
      "execution_count": 40,
      "outputs": [
        {
          "output_type": "stream",
          "text": [
            "Accuracy Score: \n",
            " 77.55610972568579\n",
            "\n",
            " Confusion matrix\n",
            "[[398  72]\n",
            " [108 224]]\n",
            "\n",
            " Classification report\n",
            "              precision    recall  f1-score   support\n",
            "\n",
            "           0       0.79      0.85      0.82       470\n",
            "           1       0.76      0.67      0.71       332\n",
            "\n",
            "    accuracy                           0.78       802\n",
            "   macro avg       0.77      0.76      0.76       802\n",
            "weighted avg       0.77      0.78      0.77       802\n",
            "\n"
          ],
          "name": "stdout"
        }
      ]
    },
    {
      "cell_type": "markdown",
      "metadata": {
        "id": "bA-Gft0ObU7u"
      },
      "source": [
        "**GaussianNM Model**"
      ]
    },
    {
      "cell_type": "code",
      "metadata": {
        "colab": {
          "base_uri": "https://localhost:8080/"
        },
        "id": "Eh_MU67nbE4K",
        "outputId": "061dd5d4-b4ca-4ab8-e1f3-f096aa6d0c10"
      },
      "source": [
        "from sklearn.naive_bayes import GaussianNB\n",
        "\n",
        "gsb = GaussianNB()  \n",
        "gsb.fit(X_train, y_train) \n",
        "\n",
        "#Making Predictions\n",
        "\n",
        "predicted = gsb.predict(X_test)\n",
        "\n",
        "\n",
        "#Evaluating our model performance\n",
        "\n",
        "\n",
        "score = accuracy_score(y_test, predicted)\n",
        "print('Accuracy Score: \\n', (100*score))\n",
        "\n",
        "print('\\n', 'Confusion matrix')\n",
        "print(confusion_matrix(y_test, predicted))\n",
        "\n",
        "print('\\n', 'Classification report')\n",
        "print(classification_report(y_test, predicted))"
      ],
      "execution_count": 41,
      "outputs": [
        {
          "output_type": "stream",
          "text": [
            "Accuracy Score: \n",
            " 77.55610972568579\n",
            "\n",
            " Confusion matrix\n",
            "[[305 165]\n",
            " [ 15 317]]\n",
            "\n",
            " Classification report\n",
            "              precision    recall  f1-score   support\n",
            "\n",
            "           0       0.95      0.65      0.77       470\n",
            "           1       0.66      0.95      0.78       332\n",
            "\n",
            "    accuracy                           0.78       802\n",
            "   macro avg       0.81      0.80      0.78       802\n",
            "weighted avg       0.83      0.78      0.77       802\n",
            "\n"
          ],
          "name": "stdout"
        }
      ]
    },
    {
      "cell_type": "markdown",
      "metadata": {
        "id": "TaJnqk_odXUI"
      },
      "source": [
        "**Bernoulli Model**"
      ]
    },
    {
      "cell_type": "code",
      "metadata": {
        "id": "eegQ9-l5daLm"
      },
      "source": [
        "from sklearn.naive_bayes import BernoulliNB"
      ],
      "execution_count": 42,
      "outputs": []
    },
    {
      "cell_type": "code",
      "metadata": {
        "id": "15MarfSUdglL"
      },
      "source": [
        "# Defining our features\n",
        "X = data.iloc[:, :-1]\n",
        "y = data.spam"
      ],
      "execution_count": 43,
      "outputs": []
    },
    {
      "cell_type": "code",
      "metadata": {
        "colab": {
          "base_uri": "https://localhost:8080/"
        },
        "id": "BqYH975ed4B-",
        "outputId": "a859d176-e8ad-481a-a27d-4233a66906d4"
      },
      "source": [
        "#Standardizing our data\n",
        "from sklearn.preprocessing import StandardScaler\n",
        "\n",
        "scaler = StandardScaler()\n",
        "\n",
        "scaler.fit_transform(X)"
      ],
      "execution_count": 44,
      "outputs": [
        {
          "output_type": "execute_result",
          "data": {
            "text/plain": [
              "array([[-0.11921653, -0.1134573 , -0.26381457, ..., -0.0548138 ,\n",
              "         0.05667075, -0.01099725],\n",
              "       [-0.11921653, -0.1134573 , -0.26381457, ...,  0.00540777,\n",
              "         0.25729157,  1.20292372],\n",
              "       [-0.11921653, -0.1134573 , -0.26381457, ...,  0.12585091,\n",
              "         2.18325138,  3.19537268],\n",
              "       ...,\n",
              "       [-0.11921653, -0.1134573 , -0.26381457, ..., -0.11503537,\n",
              "        -0.21918287, -0.26996706],\n",
              "       [-0.11921653, -0.1134573 , -0.26381457, ..., -0.11503537,\n",
              "        -0.22419839, -0.33470951],\n",
              "       [-0.11921653, -0.1134573 , -0.26381457, ..., -0.11503537,\n",
              "        -0.22419839, -0.39621484]])"
            ]
          },
          "metadata": {
            "tags": []
          },
          "execution_count": 44
        }
      ]
    },
    {
      "cell_type": "code",
      "metadata": {
        "id": "5CSyFciTft2Y"
      },
      "source": [
        "X_train, X_test, y_train, y_test = train_test_split(X,y, test_size = 0.2, random_state=0)"
      ],
      "execution_count": 45,
      "outputs": []
    },
    {
      "cell_type": "code",
      "metadata": {
        "id": "Aog_2MXieB4i"
      },
      "source": [
        "# Training our Bernoulli Naive Bayes Classifier\n",
        "# \n",
        "# Creating our Bernoulli Naive Bayes object with prior probabilities of each class\n",
        "clf = BernoulliNB()\n",
        "\n",
        "# Train model\n",
        "clf.fit(X_train, y_train)\n",
        "\n",
        " \n",
        "\n",
        "#Making Predictions\n",
        "\n",
        "y_pred = clf.predict(X_test)"
      ],
      "execution_count": 46,
      "outputs": []
    },
    {
      "cell_type": "code",
      "metadata": {
        "colab": {
          "base_uri": "https://localhost:8080/"
        },
        "id": "gEzt8hkhelab",
        "outputId": "1f32c039-80c6-4d7f-eb86-e9aec899849b"
      },
      "source": [
        "#Evaluating our model performance\n",
        "score = accuracy_score(y_test, y_pred)\n",
        "print('Accuracy Score: \\n', (100*score))\n",
        "\n",
        "print('\\n', 'Confusion matrix')\n",
        "print(confusion_matrix(y_test, y_pred))\n",
        "\n",
        "print('\\n', 'Classification report')\n",
        "print(classification_report(y_test, y_pred))"
      ],
      "execution_count": 47,
      "outputs": [
        {
          "output_type": "stream",
          "text": [
            "Accuracy Score: \n",
            " 86.65835411471322\n",
            "\n",
            " Confusion matrix\n",
            "[[430  40]\n",
            " [ 67 265]]\n",
            "\n",
            " Classification report\n",
            "              precision    recall  f1-score   support\n",
            "\n",
            "           0       0.87      0.91      0.89       470\n",
            "           1       0.87      0.80      0.83       332\n",
            "\n",
            "    accuracy                           0.87       802\n",
            "   macro avg       0.87      0.86      0.86       802\n",
            "weighted avg       0.87      0.87      0.87       802\n",
            "\n"
          ],
          "name": "stdout"
        }
      ]
    },
    {
      "cell_type": "code",
      "metadata": {
        "id": "5pexPpynheLD"
      },
      "source": [
        "##Our best performing model on the 80/20 split is the Bernoulli NB model which has the highest accuracy, and least number of false positives\n",
        "##We will now test if this stands with the rest of the models agaist the rest of the splits"
      ],
      "execution_count": 48,
      "outputs": []
    },
    {
      "cell_type": "markdown",
      "metadata": {
        "id": "k-6chtOvmiXo"
      },
      "source": [
        "#**b)Training our models at 70/30splits**"
      ]
    },
    {
      "cell_type": "code",
      "metadata": {
        "id": "5Lf2g6PFicqf"
      },
      "source": [
        "# Defining our features\n",
        "X = data.iloc[:, :-1]\n",
        "y = data.spam"
      ],
      "execution_count": 49,
      "outputs": []
    },
    {
      "cell_type": "code",
      "metadata": {
        "colab": {
          "base_uri": "https://localhost:8080/"
        },
        "id": "tqubTyRRienm",
        "outputId": "18347cc8-d205-4213-93ec-15507e883176"
      },
      "source": [
        "#Standardizing our data\n",
        "from sklearn.preprocessing import StandardScaler\n",
        "\n",
        "scaler = StandardScaler()\n",
        "\n",
        "scaler.fit_transform(X)"
      ],
      "execution_count": 50,
      "outputs": [
        {
          "output_type": "execute_result",
          "data": {
            "text/plain": [
              "array([[-0.11921653, -0.1134573 , -0.26381457, ..., -0.0548138 ,\n",
              "         0.05667075, -0.01099725],\n",
              "       [-0.11921653, -0.1134573 , -0.26381457, ...,  0.00540777,\n",
              "         0.25729157,  1.20292372],\n",
              "       [-0.11921653, -0.1134573 , -0.26381457, ...,  0.12585091,\n",
              "         2.18325138,  3.19537268],\n",
              "       ...,\n",
              "       [-0.11921653, -0.1134573 , -0.26381457, ..., -0.11503537,\n",
              "        -0.21918287, -0.26996706],\n",
              "       [-0.11921653, -0.1134573 , -0.26381457, ..., -0.11503537,\n",
              "        -0.22419839, -0.33470951],\n",
              "       [-0.11921653, -0.1134573 , -0.26381457, ..., -0.11503537,\n",
              "        -0.22419839, -0.39621484]])"
            ]
          },
          "metadata": {
            "tags": []
          },
          "execution_count": 50
        }
      ]
    },
    {
      "cell_type": "code",
      "metadata": {
        "id": "p70Qreafinur"
      },
      "source": [
        "X_train, X_test, y_train, y_test = train_test_split(X,y, test_size = 0.3, random_state=0)"
      ],
      "execution_count": 51,
      "outputs": []
    },
    {
      "cell_type": "code",
      "metadata": {
        "id": "fPzYByt0itxc"
      },
      "source": [
        "#We will start with our worst performing model the Gaussian NB model"
      ],
      "execution_count": 52,
      "outputs": []
    },
    {
      "cell_type": "markdown",
      "metadata": {
        "id": "hYIcQbzBjY42"
      },
      "source": [
        "**Gaussian NB Model**"
      ]
    },
    {
      "cell_type": "code",
      "metadata": {
        "colab": {
          "base_uri": "https://localhost:8080/"
        },
        "id": "4VV7-RH6i6xr",
        "outputId": "c08e47db-2304-4b66-ca35-266e27748bbf"
      },
      "source": [
        "gsb = GaussianNB()  \n",
        "gsb.fit(X_train, y_train) \n",
        "\n",
        "#Making Predictions\n",
        "\n",
        "predicted = gsb.predict(X_test)\n",
        "\n",
        "\n",
        "#Evaluating our model performance\n",
        "\n",
        "\n",
        "score = accuracy_score(y_test, predicted)\n",
        "print('Accuracy Score: \\n', (100*score))\n",
        "\n",
        "print('\\n', 'Confusion matrix')\n",
        "print(confusion_matrix(y_test, predicted))\n",
        "\n",
        "print('\\n', 'Classification report')\n",
        "print(classification_report(y_test, predicted))"
      ],
      "execution_count": 53,
      "outputs": [
        {
          "output_type": "stream",
          "text": [
            "Accuracy Score: \n",
            " 74.4804655029094\n",
            "\n",
            " Confusion matrix\n",
            "[[450 288]\n",
            " [ 19 446]]\n",
            "\n",
            " Classification report\n",
            "              precision    recall  f1-score   support\n",
            "\n",
            "           0       0.96      0.61      0.75       738\n",
            "           1       0.61      0.96      0.74       465\n",
            "\n",
            "    accuracy                           0.74      1203\n",
            "   macro avg       0.78      0.78      0.74      1203\n",
            "weighted avg       0.82      0.74      0.74      1203\n",
            "\n"
          ],
          "name": "stdout"
        }
      ]
    },
    {
      "cell_type": "code",
      "metadata": {
        "id": "1DKZuo1xjGcz"
      },
      "source": [
        "##Our model performed slightly worse that on a 80/20 split"
      ],
      "execution_count": 54,
      "outputs": []
    },
    {
      "cell_type": "markdown",
      "metadata": {
        "id": "_luN4B2yjj_I"
      },
      "source": [
        "**MultinomialNB model**"
      ]
    },
    {
      "cell_type": "code",
      "metadata": {
        "colab": {
          "base_uri": "https://localhost:8080/"
        },
        "id": "a-BTyFFtjHWv",
        "outputId": "ffa535f0-9a21-43b4-d833-e49c9601530e"
      },
      "source": [
        "mnb = MultinomialNB()\n",
        "mnb.fit(X_train, y_train)\n",
        "\n",
        "#Making predictions\n",
        "predicted = mnb.predict(X_test)\n",
        "\n",
        "#Evaluating our model performance\n",
        "score = accuracy_score(y_test, predicted)\n",
        "print('Accuracy Score: \\n', (100*score))\n",
        "\n",
        "print('\\n', 'Confusion matrix')\n",
        "print(confusion_matrix(y_test, predicted))\n",
        "\n",
        "print('\\n', 'Classification report')\n",
        "print(classification_report(y_test, predicted))"
      ],
      "execution_count": 55,
      "outputs": [
        {
          "output_type": "stream",
          "text": [
            "Accuracy Score: \n",
            " 76.39235245220283\n",
            "\n",
            " Confusion matrix\n",
            "[[609 129]\n",
            " [155 310]]\n",
            "\n",
            " Classification report\n",
            "              precision    recall  f1-score   support\n",
            "\n",
            "           0       0.80      0.83      0.81       738\n",
            "           1       0.71      0.67      0.69       465\n",
            "\n",
            "    accuracy                           0.76      1203\n",
            "   macro avg       0.75      0.75      0.75      1203\n",
            "weighted avg       0.76      0.76      0.76      1203\n",
            "\n"
          ],
          "name": "stdout"
        }
      ]
    },
    {
      "cell_type": "markdown",
      "metadata": {
        "id": "2lYKuj7ckKOR"
      },
      "source": [
        "**Bernoulli Model**"
      ]
    },
    {
      "cell_type": "code",
      "metadata": {
        "colab": {
          "base_uri": "https://localhost:8080/"
        },
        "id": "Z2-tjjqokPmd",
        "outputId": "a5ec0601-ff08-4258-96c3-97069e267f5c"
      },
      "source": [
        "clf = BernoulliNB()\n",
        "clf.fit(X_train, y_train)\n",
        "\n",
        "#Making predictions\n",
        "predicted = clf.predict(X_test)\n",
        "\n",
        "#Evaluating our model performance\n",
        "score = accuracy_score(y_test, predicted)\n",
        "print('Accuracy Score: \\n', (100*score))\n",
        "\n",
        "print('\\n', 'Confusion matrix')\n",
        "print(confusion_matrix(y_test, predicted))\n",
        "\n",
        "print('\\n', 'Classification report')\n",
        "print(classification_report(y_test, predicted))"
      ],
      "execution_count": 56,
      "outputs": [
        {
          "output_type": "stream",
          "text": [
            "Accuracy Score: \n",
            " 86.61679135494596\n",
            "\n",
            " Confusion matrix\n",
            "[[669  69]\n",
            " [ 92 373]]\n",
            "\n",
            " Classification report\n",
            "              precision    recall  f1-score   support\n",
            "\n",
            "           0       0.88      0.91      0.89       738\n",
            "           1       0.84      0.80      0.82       465\n",
            "\n",
            "    accuracy                           0.87      1203\n",
            "   macro avg       0.86      0.85      0.86      1203\n",
            "weighted avg       0.87      0.87      0.87      1203\n",
            "\n"
          ],
          "name": "stdout"
        }
      ]
    },
    {
      "cell_type": "code",
      "metadata": {
        "id": "4Bnczux4lgT5"
      },
      "source": [
        "##The number of true positives and negatives increased slightly but there was not much difference in performance of the models"
      ],
      "execution_count": 57,
      "outputs": []
    },
    {
      "cell_type": "code",
      "metadata": {
        "id": "4FMeOjdGl0vf"
      },
      "source": [
        "##We will finally split our data into 60/40 splits"
      ],
      "execution_count": 58,
      "outputs": []
    },
    {
      "cell_type": "markdown",
      "metadata": {
        "id": "M5Oc5v8KmtH5"
      },
      "source": [
        "#**c)Training our models at 60/40splits**"
      ]
    },
    {
      "cell_type": "code",
      "metadata": {
        "id": "7mMM1N6vmx0l"
      },
      "source": [
        "# Defining our features\n",
        "X = data.iloc[:, :-1]\n",
        "y = data.spam"
      ],
      "execution_count": 59,
      "outputs": []
    },
    {
      "cell_type": "code",
      "metadata": {
        "colab": {
          "base_uri": "https://localhost:8080/"
        },
        "id": "elO9qy77m71K",
        "outputId": "fcf9449a-6705-4fd5-cb9e-ecd36e495429"
      },
      "source": [
        "#Standardizing our data\n",
        "from sklearn.preprocessing import StandardScaler\n",
        "\n",
        "scaler = StandardScaler()\n",
        "\n",
        "scaler.fit_transform(X)\n"
      ],
      "execution_count": 60,
      "outputs": [
        {
          "output_type": "execute_result",
          "data": {
            "text/plain": [
              "array([[-0.11921653, -0.1134573 , -0.26381457, ..., -0.0548138 ,\n",
              "         0.05667075, -0.01099725],\n",
              "       [-0.11921653, -0.1134573 , -0.26381457, ...,  0.00540777,\n",
              "         0.25729157,  1.20292372],\n",
              "       [-0.11921653, -0.1134573 , -0.26381457, ...,  0.12585091,\n",
              "         2.18325138,  3.19537268],\n",
              "       ...,\n",
              "       [-0.11921653, -0.1134573 , -0.26381457, ..., -0.11503537,\n",
              "        -0.21918287, -0.26996706],\n",
              "       [-0.11921653, -0.1134573 , -0.26381457, ..., -0.11503537,\n",
              "        -0.22419839, -0.33470951],\n",
              "       [-0.11921653, -0.1134573 , -0.26381457, ..., -0.11503537,\n",
              "        -0.22419839, -0.39621484]])"
            ]
          },
          "metadata": {
            "tags": []
          },
          "execution_count": 60
        }
      ]
    },
    {
      "cell_type": "code",
      "metadata": {
        "id": "wLXiKNSnnBF1"
      },
      "source": [
        "X_train, X_test, y_train, y_test = train_test_split(X,y, test_size = 0.4, random_state=0)"
      ],
      "execution_count": 61,
      "outputs": []
    },
    {
      "cell_type": "markdown",
      "metadata": {
        "id": "eeXo8E8SnCya"
      },
      "source": [
        "**Gaussian Model**"
      ]
    },
    {
      "cell_type": "code",
      "metadata": {
        "colab": {
          "base_uri": "https://localhost:8080/"
        },
        "id": "EJhbWiwNnFH-",
        "outputId": "8669702b-1e38-4227-ba28-adf77cf2446b"
      },
      "source": [
        "gsb = GaussianNB()  \n",
        "gsb.fit(X_train, y_train) \n",
        "\n",
        "#Making Predictions\n",
        "\n",
        "predicted = gsb.predict(X_test)\n",
        "\n",
        "\n",
        "#Evaluating our model performance\n",
        "\n",
        "\n",
        "score = accuracy_score(y_test, predicted)\n",
        "print('Accuracy Score: \\n', (100*score))\n",
        "\n",
        "print('\\n', 'Confusion matrix')\n",
        "print(confusion_matrix(y_test, predicted))\n",
        "\n",
        "print('\\n', 'Classification report')\n",
        "print(classification_report(y_test, predicted))"
      ],
      "execution_count": 62,
      "outputs": [
        {
          "output_type": "stream",
          "text": [
            "Accuracy Score: \n",
            " 73.50374064837905\n",
            "\n",
            " Confusion matrix\n",
            "[[577 400]\n",
            " [ 25 602]]\n",
            "\n",
            " Classification report\n",
            "              precision    recall  f1-score   support\n",
            "\n",
            "           0       0.96      0.59      0.73       977\n",
            "           1       0.60      0.96      0.74       627\n",
            "\n",
            "    accuracy                           0.74      1604\n",
            "   macro avg       0.78      0.78      0.73      1604\n",
            "weighted avg       0.82      0.74      0.73      1604\n",
            "\n"
          ],
          "name": "stdout"
        }
      ]
    },
    {
      "cell_type": "markdown",
      "metadata": {
        "id": "Sw07PmoxnKx_"
      },
      "source": [
        "**MultinomialNB model**"
      ]
    },
    {
      "cell_type": "code",
      "metadata": {
        "colab": {
          "base_uri": "https://localhost:8080/"
        },
        "id": "ZnxFcbAgnRYt",
        "outputId": "019692ed-8d65-49f3-a63e-edbe5c055c12"
      },
      "source": [
        "mnb = MultinomialNB()\n",
        "mnb.fit(X_train, y_train)\n",
        "\n",
        "#Making predictions\n",
        "predicted = mnb.predict(X_test)\n",
        "\n",
        "#Evaluating our model performance\n",
        "score = accuracy_score(y_test, predicted)\n",
        "print('Accuracy Score: \\n', (100*score))\n",
        "\n",
        "print('\\n', 'Confusion matrix')\n",
        "print(confusion_matrix(y_test, predicted))\n",
        "\n",
        "print('\\n', 'Classification report')\n",
        "print(classification_report(y_test, predicted))"
      ],
      "execution_count": 63,
      "outputs": [
        {
          "output_type": "stream",
          "text": [
            "Accuracy Score: \n",
            " 76.12219451371571\n",
            "\n",
            " Confusion matrix\n",
            "[[776 201]\n",
            " [182 445]]\n",
            "\n",
            " Classification report\n",
            "              precision    recall  f1-score   support\n",
            "\n",
            "           0       0.81      0.79      0.80       977\n",
            "           1       0.69      0.71      0.70       627\n",
            "\n",
            "    accuracy                           0.76      1604\n",
            "   macro avg       0.75      0.75      0.75      1604\n",
            "weighted avg       0.76      0.76      0.76      1604\n",
            "\n"
          ],
          "name": "stdout"
        }
      ]
    },
    {
      "cell_type": "markdown",
      "metadata": {
        "id": "3aFRUSZgnXC9"
      },
      "source": [
        "**BernoulliNB model**"
      ]
    },
    {
      "cell_type": "code",
      "metadata": {
        "colab": {
          "base_uri": "https://localhost:8080/"
        },
        "id": "ZjQVnxsQna63",
        "outputId": "aa4860f6-d6ba-4475-ea14-e2cf676aa016"
      },
      "source": [
        "clf = BernoulliNB()\n",
        "clf.fit(X_train, y_train)\n",
        "\n",
        "#Making predictions\n",
        "predicted = clf.predict(X_test)\n",
        "\n",
        "#Evaluating our model performance\n",
        "score = accuracy_score(y_test, predicted)\n",
        "print('Accuracy Score: \\n', (100*score))\n",
        "\n",
        "print('\\n', 'Confusion matrix')\n",
        "print(confusion_matrix(y_test, predicted))\n",
        "\n",
        "print('\\n', 'Classification report')\n",
        "print(classification_report(y_test, predicted))"
      ],
      "execution_count": 64,
      "outputs": [
        {
          "output_type": "stream",
          "text": [
            "Accuracy Score: \n",
            " 86.9077306733167\n",
            "\n",
            " Confusion matrix\n",
            "[[881  96]\n",
            " [114 513]]\n",
            "\n",
            " Classification report\n",
            "              precision    recall  f1-score   support\n",
            "\n",
            "           0       0.89      0.90      0.89       977\n",
            "           1       0.84      0.82      0.83       627\n",
            "\n",
            "    accuracy                           0.87      1604\n",
            "   macro avg       0.86      0.86      0.86      1604\n",
            "weighted avg       0.87      0.87      0.87      1604\n",
            "\n"
          ],
          "name": "stdout"
        }
      ]
    },
    {
      "cell_type": "code",
      "metadata": {
        "id": "8rBfPeAaojK-"
      },
      "source": [
        "##So far the model with the best accuracy,has been the Bernoulli model (60/20 splits)with an 85% accuracy meaning that 15% of the emails will be msiclassified\n",
        "##"
      ],
      "execution_count": 65,
      "outputs": []
    },
    {
      "cell_type": "markdown",
      "metadata": {
        "id": "6AVOFzCPpzpF"
      },
      "source": [
        "**Finding our best optimized model**"
      ]
    },
    {
      "cell_type": "markdown",
      "metadata": {
        "id": "91pgVgtSv7k7"
      },
      "source": [
        "Gaussian Model optimized"
      ]
    },
    {
      "cell_type": "code",
      "metadata": {
        "id": "Di_2BST3wOIl"
      },
      "source": [
        "##The best perfoming Gaussian model was the one with 60/40 splits hence we will try to tune its parameters to find the best performing version "
      ],
      "execution_count": 66,
      "outputs": []
    },
    {
      "cell_type": "code",
      "metadata": {
        "id": "OwX9LtpTsE8s"
      },
      "source": [
        "# Defining our features\n",
        "X = data.iloc[:, :-1]\n",
        "y = data.spam"
      ],
      "execution_count": 67,
      "outputs": []
    },
    {
      "cell_type": "code",
      "metadata": {
        "colab": {
          "base_uri": "https://localhost:8080/"
        },
        "id": "m-xLjr2ksXLQ",
        "outputId": "1512a49a-9699-4c41-b2ac-03a89b163018"
      },
      "source": [
        "X.shape"
      ],
      "execution_count": 68,
      "outputs": [
        {
          "output_type": "execute_result",
          "data": {
            "text/plain": [
              "(4009, 57)"
            ]
          },
          "metadata": {
            "tags": []
          },
          "execution_count": 68
        }
      ]
    },
    {
      "cell_type": "code",
      "metadata": {
        "colab": {
          "base_uri": "https://localhost:8080/"
        },
        "id": "7bI4YB2fsZLt",
        "outputId": "031faa46-79c4-4b99-ff3b-b334bed68808"
      },
      "source": [
        "y.shape"
      ],
      "execution_count": 69,
      "outputs": [
        {
          "output_type": "execute_result",
          "data": {
            "text/plain": [
              "(4009,)"
            ]
          },
          "metadata": {
            "tags": []
          },
          "execution_count": 69
        }
      ]
    },
    {
      "cell_type": "code",
      "metadata": {
        "id": "xXt7jg3rs1GE"
      },
      "source": [
        "# splitting into train an test sets\n",
        "\n",
        "X_train, X_test, y_train, y_test = train_test_split(X,y, test_size = 0.4, random_state=0)"
      ],
      "execution_count": 70,
      "outputs": []
    },
    {
      "cell_type": "code",
      "metadata": {
        "colab": {
          "base_uri": "https://localhost:8080/"
        },
        "id": "QngnsBv0vEBY",
        "outputId": "be5cd12d-4f0a-43c5-f45b-5307f2612bf1"
      },
      "source": [
        "from sklearn.model_selection import GridSearchCV\n",
        "\n",
        "param_grid_nb = {\n",
        "    'var_smoothing': np.logspace(0,-9, num=100)\n",
        "}\n",
        "\n",
        "nbModel_grid = GridSearchCV(estimator=GaussianNB(), param_grid=param_grid_nb, verbose=1, cv=10, n_jobs=-1)\n",
        "nbModel_grid.fit(X_train, y_train)\n",
        "print(nbModel_grid.best_estimator_)"
      ],
      "execution_count": 71,
      "outputs": [
        {
          "output_type": "stream",
          "text": [
            "Fitting 10 folds for each of 100 candidates, totalling 1000 fits\n"
          ],
          "name": "stdout"
        },
        {
          "output_type": "stream",
          "text": [
            "[Parallel(n_jobs=-1)]: Using backend LokyBackend with 2 concurrent workers.\n",
            "[Parallel(n_jobs=-1)]: Done 330 tasks      | elapsed:    3.3s\n"
          ],
          "name": "stderr"
        },
        {
          "output_type": "stream",
          "text": [
            "GaussianNB(priors=None, var_smoothing=6.579332246575682e-07)\n"
          ],
          "name": "stdout"
        },
        {
          "output_type": "stream",
          "text": [
            "[Parallel(n_jobs=-1)]: Done 1000 out of 1000 | elapsed:    7.1s finished\n"
          ],
          "name": "stderr"
        }
      ]
    },
    {
      "cell_type": "code",
      "metadata": {
        "colab": {
          "base_uri": "https://localhost:8080/"
        },
        "id": "B0xAiv8MvkCt",
        "outputId": "d2288e7a-d3b8-49a4-d28e-edc103f32a68"
      },
      "source": [
        "y_pred = nbModel_grid.predict(X_test)\n",
        "print(y_pred)"
      ],
      "execution_count": 72,
      "outputs": [
        {
          "output_type": "stream",
          "text": [
            "[0 1 0 ... 0 0 0]\n"
          ],
          "name": "stdout"
        }
      ]
    },
    {
      "cell_type": "code",
      "metadata": {
        "colab": {
          "base_uri": "https://localhost:8080/"
        },
        "id": "1cj-Fe7nv07J",
        "outputId": "21e2b9bc-305e-46f6-c78b-3d3f010b2825"
      },
      "source": [
        "#Evaluating our model performance\n",
        "score = accuracy_score(y_test, y_pred)\n",
        "print('Accuracy Score: \\n', (100*score))\n",
        "\n",
        "print('\\n', 'Confusion matrix')\n",
        "print(confusion_matrix(y_test, y_pred))\n",
        "\n",
        "print('\\n', 'Classification report')\n",
        "print(classification_report(y_test, y_pred))"
      ],
      "execution_count": 73,
      "outputs": [
        {
          "output_type": "stream",
          "text": [
            "Accuracy Score: \n",
            " 83.66583541147132\n",
            "\n",
            " Confusion matrix\n",
            "[[860 117]\n",
            " [145 482]]\n",
            "\n",
            " Classification report\n",
            "              precision    recall  f1-score   support\n",
            "\n",
            "           0       0.86      0.88      0.87       977\n",
            "           1       0.80      0.77      0.79       627\n",
            "\n",
            "    accuracy                           0.84      1604\n",
            "   macro avg       0.83      0.82      0.83      1604\n",
            "weighted avg       0.84      0.84      0.84      1604\n",
            "\n"
          ],
          "name": "stdout"
        }
      ]
    },
    {
      "cell_type": "code",
      "metadata": {
        "id": "62lXyLTgwg9o"
      },
      "source": [
        "#With hyperparameter tuning, our Gaussian model improved its accuracy to 82% which is a very great improvement compared to its previous 74%accuracy level"
      ],
      "execution_count": 74,
      "outputs": []
    },
    {
      "cell_type": "markdown",
      "metadata": {
        "id": "WnNE2JqPw0HH"
      },
      "source": [
        "*Bernoulli Optimized model*"
      ]
    },
    {
      "cell_type": "code",
      "metadata": {
        "id": "5QQPerk41EC8"
      },
      "source": [
        "# Defining our features\n",
        "X = data.iloc[:, :-1]\n",
        "y = data.spam"
      ],
      "execution_count": 75,
      "outputs": []
    },
    {
      "cell_type": "code",
      "metadata": {
        "id": "xOkjVbJH1IhT"
      },
      "source": [
        "# Defining our features\n",
        "X = data.iloc[:, :-1]\n",
        "y = data.spam"
      ],
      "execution_count": 76,
      "outputs": []
    },
    {
      "cell_type": "code",
      "metadata": {
        "id": "5HqAnwew2kfb"
      },
      "source": [
        "# splitting into train an test sets\n",
        "\n",
        "X_train, X_test, y_train, y_test = train_test_split(X,y, test_size = 0.4, random_state=0)"
      ],
      "execution_count": 77,
      "outputs": []
    },
    {
      "cell_type": "code",
      "metadata": {
        "colab": {
          "base_uri": "https://localhost:8080/"
        },
        "id": "mF06dGlT0pxm",
        "outputId": "a78bf4e1-67bf-4c42-9d87-b8d2c1a93d18"
      },
      "source": [
        "alpha= list(range(0, 10))\n",
        "class_prior= [None]\n",
        "fit_prior= [False, True]\n",
        "\n",
        "hyperparameters = dict(alpha = alpha, class_prior = class_prior, fit_prior = fit_prior)\n",
        "\n",
        "clf = GridSearchCV(BernoulliNB(), hyperparameters,verbose=1, cv=10, n_jobs=-1)\n",
        "clf = clf.fit(X_train, y_train)\n",
        "\n",
        "print(clf.best_params_)\n"
      ],
      "execution_count": 78,
      "outputs": [
        {
          "output_type": "stream",
          "text": [
            "Fitting 10 folds for each of 20 candidates, totalling 200 fits\n"
          ],
          "name": "stdout"
        },
        {
          "output_type": "stream",
          "text": [
            "[Parallel(n_jobs=-1)]: Using backend LokyBackend with 2 concurrent workers.\n"
          ],
          "name": "stderr"
        },
        {
          "output_type": "stream",
          "text": [
            "{'alpha': 0, 'class_prior': None, 'fit_prior': True}\n"
          ],
          "name": "stdout"
        },
        {
          "output_type": "stream",
          "text": [
            "[Parallel(n_jobs=-1)]: Done 200 out of 200 | elapsed:    1.2s finished\n",
            "/usr/local/lib/python3.7/dist-packages/sklearn/naive_bayes.py:507: UserWarning: alpha too small will result in numeric errors, setting alpha = 1.0e-10\n",
            "  'setting alpha = %.1e' % _ALPHA_MIN)\n"
          ],
          "name": "stderr"
        }
      ]
    },
    {
      "cell_type": "code",
      "metadata": {
        "colab": {
          "base_uri": "https://localhost:8080/"
        },
        "id": "Eoloj6g_1kis",
        "outputId": "92a781bc-f6a5-429d-ee56-14e1c81e1b4e"
      },
      "source": [
        "y_pred = clf.predict(X_test)\n",
        "print(y_pred)"
      ],
      "execution_count": 79,
      "outputs": [
        {
          "output_type": "stream",
          "text": [
            "[0 0 0 ... 0 0 0]\n"
          ],
          "name": "stdout"
        }
      ]
    },
    {
      "cell_type": "code",
      "metadata": {
        "colab": {
          "base_uri": "https://localhost:8080/"
        },
        "id": "D_bbYC671xGN",
        "outputId": "6c8ce282-f1a1-4773-f0a9-3c26abb225ff"
      },
      "source": [
        "#Evaluating our model performance\n",
        "score = accuracy_score(y_test, y_pred)\n",
        "print('Accuracy Score: \\n', (100*score))\n",
        "\n",
        "print('\\n', 'Confusion matrix')\n",
        "print(confusion_matrix(y_test, y_pred))\n",
        "\n",
        "print('\\n', 'Classification report')\n",
        "print(classification_report(y_test, y_pred))"
      ],
      "execution_count": 80,
      "outputs": [
        {
          "output_type": "stream",
          "text": [
            "Accuracy Score: \n",
            " 86.84538653366583\n",
            "\n",
            " Confusion matrix\n",
            "[[882  95]\n",
            " [116 511]]\n",
            "\n",
            " Classification report\n",
            "              precision    recall  f1-score   support\n",
            "\n",
            "           0       0.88      0.90      0.89       977\n",
            "           1       0.84      0.81      0.83       627\n",
            "\n",
            "    accuracy                           0.87      1604\n",
            "   macro avg       0.86      0.86      0.86      1604\n",
            "weighted avg       0.87      0.87      0.87      1604\n",
            "\n"
          ],
          "name": "stdout"
        }
      ]
    },
    {
      "cell_type": "markdown",
      "metadata": {
        "id": "-LHBVe6H2Hk_"
      },
      "source": [
        "*Multinomial Optimized model"
      ]
    },
    {
      "cell_type": "code",
      "metadata": {
        "id": "cPwsVV5A2OBT"
      },
      "source": [
        "# Defining our features\n",
        "X = data.iloc[:, :-1]\n",
        "y = data.spam"
      ],
      "execution_count": 81,
      "outputs": []
    },
    {
      "cell_type": "code",
      "metadata": {
        "id": "1FTGVQnA2x0u"
      },
      "source": [
        "# splitting into train an test sets\n",
        "\n",
        "X_train, X_test, y_train, y_test = train_test_split(X,y, test_size = 0.4, random_state=0)"
      ],
      "execution_count": 82,
      "outputs": []
    },
    {
      "cell_type": "code",
      "metadata": {
        "colab": {
          "base_uri": "https://localhost:8080/"
        },
        "id": "Ni6Za1-A23wA",
        "outputId": "e1ff1049-5563-44e8-b921-2a901ca6acea"
      },
      "source": [
        "alpha= list(range(0, 10))\n",
        "class_prior= [None]\n",
        "fit_prior= [False, True]\n",
        "\n",
        "hyperparameters = dict(alpha = alpha, class_prior = class_prior, fit_prior = fit_prior)\n",
        "\n",
        "clf = GridSearchCV(MultinomialNB(), hyperparameters,verbose=1, cv=10, n_jobs=-1)\n",
        "clf = clf.fit(X_train, y_train)\n",
        "\n",
        "print(clf.best_params_)"
      ],
      "execution_count": 83,
      "outputs": [
        {
          "output_type": "stream",
          "text": [
            "[Parallel(n_jobs=-1)]: Using backend LokyBackend with 2 concurrent workers.\n"
          ],
          "name": "stderr"
        },
        {
          "output_type": "stream",
          "text": [
            "Fitting 10 folds for each of 20 candidates, totalling 200 fits\n",
            "{'alpha': 0, 'class_prior': None, 'fit_prior': True}\n"
          ],
          "name": "stdout"
        },
        {
          "output_type": "stream",
          "text": [
            "[Parallel(n_jobs=-1)]: Done 200 out of 200 | elapsed:    0.9s finished\n",
            "/usr/local/lib/python3.7/dist-packages/sklearn/naive_bayes.py:507: UserWarning: alpha too small will result in numeric errors, setting alpha = 1.0e-10\n",
            "  'setting alpha = %.1e' % _ALPHA_MIN)\n"
          ],
          "name": "stderr"
        }
      ]
    },
    {
      "cell_type": "code",
      "metadata": {
        "colab": {
          "base_uri": "https://localhost:8080/"
        },
        "id": "q4rd0XoU28No",
        "outputId": "2961473d-4ff9-46f2-b65a-c806ecbf3bcd"
      },
      "source": [
        "y_pred = clf.predict(X_test)\n",
        "print(y_pred)"
      ],
      "execution_count": 84,
      "outputs": [
        {
          "output_type": "stream",
          "text": [
            "[0 0 0 ... 0 1 0]\n"
          ],
          "name": "stdout"
        }
      ]
    },
    {
      "cell_type": "code",
      "metadata": {
        "colab": {
          "base_uri": "https://localhost:8080/"
        },
        "id": "imvgR0Zd29Gd",
        "outputId": "25c3f131-17a8-443f-ff94-37e95467e775"
      },
      "source": [
        "#Evaluating our model performance\n",
        "score = accuracy_score(y_test, y_pred)\n",
        "print('Accuracy Score: \\n', (100*score))\n",
        "\n",
        "print('\\n', 'Confusion matrix')\n",
        "print(confusion_matrix(y_test, y_pred))\n",
        "\n",
        "print('\\n', 'Classification report')\n",
        "print(classification_report(y_test, y_pred))"
      ],
      "execution_count": 85,
      "outputs": [
        {
          "output_type": "stream",
          "text": [
            "Accuracy Score: \n",
            " 76.6209476309227\n",
            "\n",
            " Confusion matrix\n",
            "[[786 191]\n",
            " [184 443]]\n",
            "\n",
            " Classification report\n",
            "              precision    recall  f1-score   support\n",
            "\n",
            "           0       0.81      0.80      0.81       977\n",
            "           1       0.70      0.71      0.70       627\n",
            "\n",
            "    accuracy                           0.77      1604\n",
            "   macro avg       0.75      0.76      0.76      1604\n",
            "weighted avg       0.77      0.77      0.77      1604\n",
            "\n"
          ],
          "name": "stdout"
        }
      ]
    },
    {
      "cell_type": "markdown",
      "metadata": {
        "id": "jAImLi08_vyg"
      },
      "source": [
        "#**Challenging our solution**"
      ]
    },
    {
      "cell_type": "code",
      "metadata": {
        "id": "Knnr4r2T_wm3"
      },
      "source": [
        "#We will challenge the performance of our model with svc"
      ],
      "execution_count": 86,
      "outputs": []
    },
    {
      "cell_type": "code",
      "metadata": {
        "colab": {
          "base_uri": "https://localhost:8080/"
        },
        "id": "GOwI2EyEA-AZ",
        "outputId": "9b49a334-cfaf-410e-9854-0301addbcef7"
      },
      "source": [
        "# Splitting our data\n",
        "\n",
        "X = data.iloc[:, 0:-1]\n",
        "y = data.iloc[:,-1]\n",
        "\n",
        "\n",
        "X_train, X_test, y_train, y_test = train_test_split(X,y, test_size = 0.4, random_state = 0)\n",
        "\n",
        "sc = StandardScaler(with_std = False, with_mean = False)\n",
        "X_train = sc.fit_transform(X_train)\n",
        "X_test = sc.transform(X_test)\n",
        "\n",
        "##We will use LDA for dimensionality\n",
        "lda = LDA(n_components=10)\n",
        "X_train = lda.fit_transform(X_train, y_train)\n",
        "X_test = lda.transform(X_test)\n",
        "\n",
        "\n",
        "\n",
        "from sklearn.svm import SVC\n",
        "svc = SVC(C=0.1, gamma=0.001, kernel = 'linear')\n",
        "\n",
        "model = svc.fit(X_train, y_train)\n",
        "\n",
        "y_pred = model.predict(X_test)\n",
        "\n",
        "\n"
      ],
      "execution_count": 93,
      "outputs": [
        {
          "output_type": "stream",
          "text": [
            "/usr/local/lib/python3.7/dist-packages/sklearn/discriminant_analysis.py:463: ChangedBehaviorWarning: n_components cannot be larger than min(n_features, n_classes - 1). Using min(n_features, n_classes - 1) = min(57, 2 - 1) = 1 components.\n",
            "  ChangedBehaviorWarning)\n",
            "/usr/local/lib/python3.7/dist-packages/sklearn/discriminant_analysis.py:469: FutureWarning: In version 0.23, setting n_components > min(n_features, n_classes - 1) will raise a ValueError. You should set n_components to None (default), or a value smaller or equal to min(n_features, n_classes - 1).\n",
            "  warnings.warn(future_msg, FutureWarning)\n"
          ],
          "name": "stderr"
        }
      ]
    },
    {
      "cell_type": "code",
      "metadata": {
        "colab": {
          "base_uri": "https://localhost:8080/"
        },
        "id": "zXCRhwKZBxqX",
        "outputId": "8d4573e9-5009-4909-dff8-2ff42f8d79ad"
      },
      "source": [
        "#Evaluating our model performance\n",
        "score = accuracy_score(y_test, y_pred)\n",
        "print('Accuracy Score: \\n', (100*score))\n",
        "\n",
        "print('\\n', 'Confusion matrix')\n",
        "print(confusion_matrix(y_test, y_pred))\n",
        "\n",
        "print('\\n', 'Classification report')\n",
        "print(classification_report(y_test, y_pred))"
      ],
      "execution_count": 94,
      "outputs": [
        {
          "output_type": "stream",
          "text": [
            "Accuracy Score: \n",
            " 83.66583541147132\n",
            "\n",
            " Confusion matrix\n",
            "[[910  67]\n",
            " [195 432]]\n",
            "\n",
            " Classification report\n",
            "              precision    recall  f1-score   support\n",
            "\n",
            "           0       0.82      0.93      0.87       977\n",
            "           1       0.87      0.69      0.77       627\n",
            "\n",
            "    accuracy                           0.84      1604\n",
            "   macro avg       0.84      0.81      0.82      1604\n",
            "weighted avg       0.84      0.84      0.83      1604\n",
            "\n"
          ],
          "name": "stdout"
        }
      ]
    },
    {
      "cell_type": "markdown",
      "metadata": {
        "id": "Hy94Miv15B1V"
      },
      "source": [
        "#**Conclusion and Recommendations**"
      ]
    },
    {
      "cell_type": "code",
      "metadata": {
        "id": "vFQo23fh5T1Z"
      },
      "source": [
        "## Our best performing model was the Bernoulli NB with tuned parameters. It attained an accuracy score of 86& with its parameters tunes\n",
        "## Our model had low accuracy scores when we decided keep the duplicates but after we droped them it performed much better.\n",
        "##We challenged our solution by fitting an SVC model which obtained accuracy levels of 83 %. Our Bernoulli model performs much better with higher f1 score, meaning better chances of correct classifiation as spam or not.\n",
        "##Our models succeeded in meeting our metrics of success which we had set at 80% whih most of them exceeded"
      ],
      "execution_count": 89,
      "outputs": []
    }
  ]
}